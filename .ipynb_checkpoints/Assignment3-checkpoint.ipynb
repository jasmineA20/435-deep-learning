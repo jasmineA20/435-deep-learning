{
 "cells": [
  {
   "cell_type": "markdown",
   "id": "41df18ed",
   "metadata": {},
   "source": [
    "# 13.4 Nonlinear Autoencoder Using Neural Networks "
   ]
  },
  {
   "cell_type": "code",
   "execution_count": 1,
   "id": "5e1fad4c",
   "metadata": {},
   "outputs": [],
   "source": [
    "import numpy as np"
   ]
  },
  {
   "cell_type": "code",
   "execution_count": 2,
   "id": "d21404e7",
   "metadata": {},
   "outputs": [],
   "source": [
    "from matplotlib import gridspec"
   ]
  },
  {
   "cell_type": "code",
   "execution_count": 3,
   "id": "e1902bf1",
   "metadata": {},
   "outputs": [],
   "source": [
    "datapath = '/users/jazz13/Desktop/GitHub_Files/435-deep-learning/'"
   ]
  },
  {
   "cell_type": "code",
   "execution_count": 4,
   "id": "4fefc432",
   "metadata": {},
   "outputs": [],
   "source": [
    "#datapath = '/home/venkat/Desktop/GitHub_Files/435-deep-learning/'"
   ]
  },
  {
   "cell_type": "code",
   "execution_count": 5,
   "id": "32feeede",
   "metadata": {
    "scrolled": true
   },
   "outputs": [
    {
     "data": {
      "image/png": "[encoded data removed]",
      "text/plain": [
       "<Figure size 432x288 with 1 Axes>"
      ]
     },
     "metadata": {
      "needs_background": "light"
     },
     "output_type": "display_data"
    }
   ],
   "source": [
    "import matplotlib.pyplot as plt\n",
    "\n",
    "# import data\n",
    "X = np.loadtxt(datapath + 'universal_autoencoder_samples.csv', delimiter=',')\n",
    "\n",
    "plt.scatter(X[0,:], X[1,:], c = 'k', s = 60, linewidth = 0.75, edgecolor = 'w')\n",
    "plt.show()"
   ]
  },
  {
   "cell_type": "code",
   "execution_count": 6,
   "id": "16c78812",
   "metadata": {},
   "outputs": [],
   "source": [
    "import os\n",
    "import sys\n",
    "module_path = os.path.abspath(os.path.join('..'))\n",
    "if module_path not in sys.path:\n",
    "    sys.path.append(module_path)\n"
   ]
  },
  {
   "cell_type": "code",
   "execution_count": 7,
   "id": "8b2e0afb",
   "metadata": {},
   "outputs": [],
   "source": [
    "import history_plotters\n",
    "import multilayer_perceptron_batch_normalized\n",
    "import multilayer_perceptron\n",
    "import normalizers\n",
    "import cost_functions\n",
    "import un_cost_functions\n",
    "import un_optimizers"
   ]
  },
  {
   "cell_type": "code",
   "execution_count": 376,
   "id": "cc8d4aef",
   "metadata": {},
   "outputs": [],
   "source": [
    "import autograd.numpy as np\n",
    " \n",
    "class Setup:\n",
    "    def __init__(self,X,**kwargs):\n",
    "        # link in data\n",
    "        self.x = X\n",
    "        \n",
    "        # make containers for all histories\n",
    "        self.weight_histories = []\n",
    "        self.train_cost_histories = []\n",
    "        self.train_accuracy_histories = []\n",
    "        self.val_cost_histories = []\n",
    "        self.val_accuracy_histories = []\n",
    "        self.train_costs = []\n",
    "        self.train_counts = []\n",
    "        self.val_costs = []\n",
    "        self.val_counts = []\n",
    "\n",
    "        \n",
    "        \n",
    "    #### define preprocessing steps ####\n",
    "    def preprocessing_steps(self,**kwargs):        \n",
    "        ### produce / use data normalizer ###\n",
    "        normalizer_name = 'standard'\n",
    "        if 'normalizer_name' in kwargs:\n",
    "            normalizer_name = kwargs['normalizer_name']\n",
    "        self.normalizer_name = normalizer_name\n",
    "\n",
    "        # produce normalizer / inverse normalizer\n",
    "        s = normalizers.Setup(self.x,normalizer_name)\n",
    "        self.normalizer = s.normalizer\n",
    "        self.inverse_normalizer = s.inverse_normalizer\n",
    "        \n",
    "        # normalize input \n",
    "        self.x = self.normalizer(self.x)\n",
    "        \n",
    "    #### split data into training and validation sets ####\n",
    "    def make_train_val_split(self,train_portion):\n",
    "        # translate desired training portion into exact indecies\n",
    "        self.train_portion = train_portion\n",
    "        r = np.random.permutation(self.x.shape[1])\n",
    "        train_num = int(np.round(train_portion*len(r)))\n",
    "        self.train_inds = r[:train_num]\n",
    "        self.val_inds = r[train_num:]\n",
    "        \n",
    "        # define training and testing sets\n",
    "        self.x_train = self.x[:,self.train_inds]\n",
    "        self.x_val = self.x[:,self.val_inds]\n",
    "        \n",
    "    #### define encoder ####\n",
    "    def choose_encoder(self,**kwargs):         \n",
    "        feature_name = 'multilayer_perceptron'\n",
    "        if 'name' in kwargs:\n",
    "            feature_name = kwargs['feature_name']\n",
    "        \n",
    "        transformer = 0\n",
    "        if feature_name == 'multilayer_perceptron':\n",
    "            transformer = multilayer_perceptron.Setup(**kwargs)\n",
    "        elif feature_name == 'multilayer_perceptron_batch_normalized':\n",
    "            transformer = multilayer_perceptron_batch_normalized.Setup(**kwargs)\n",
    "            \n",
    "        self.feature_transforms = transformer.feature_transforms\n",
    "        self.initializer_1 = transformer.initializer\n",
    "     \n",
    "    # form decoder\n",
    "    def choose_decoder(self,**kwargs):         \n",
    "        feature_name = 'multilayer_perceptron'\n",
    "        if 'name' in kwargs:\n",
    "            feature_name = kwargs['feature_name']\n",
    "           \n",
    "        transformer = 0\n",
    "        if feature_name == 'multilayer_perceptron':\n",
    "            transformer = multilayer_perceptron.Setup(**kwargs)\n",
    "        elif feature_name == 'multilayer_perceptron_batch_normalized':\n",
    "            transformer = multilayer_perceptron_batch_normalized.Setup(**kwargs)\n",
    "        \n",
    "        self.feature_transforms_2 = transformer.feature_transforms\n",
    "        self.initializer_2 = transformer.initializer\n",
    "     \n",
    "    def choose_cost(self,name,**kwargs):\n",
    "        # pick cost based on user input\n",
    "        self.cost_object = un_cost_functions.Setup(name,**kwargs)\n",
    "                \n",
    "        ### with feature transformation constructed, pass on to cost function ###\n",
    "        self.cost_object.define_encoder_decoder(self.feature_transforms,self.feature_transforms_2)\n",
    "        self.cost = self.cost_object.cost\n",
    "        self.cost_name = name\n",
    "        self.encoder = self.cost_object.encoder\n",
    "        self.decoder = self.cost_object.decoder\n",
    "    \n",
    "     #### run optimization ####\n",
    "    def fit(self,**kwargs):\n",
    "        # basic parameters for gradient descent run (default algorithm)\n",
    "        max_its = 500; alpha_choice = 10**(-1);\n",
    "        self.w_init_1 = self.initializer_1()\n",
    "        self.w_init_2 = self.initializer_2()\n",
    "        self.w_init = [self.w_init_1,self.w_init_2]\n",
    "        \n",
    "        # set parameters by hand\n",
    "        if 'max_its' in kwargs:\n",
    "            self.max_its = kwargs['max_its']\n",
    "        if 'alpha_choice' in kwargs:\n",
    "            self.alpha_choice = kwargs['alpha_choice']\n",
    "        if 'w' in kwargs:\n",
    "            self.w_init = kwargs['w']\n",
    "\n",
    "        # batch size for gradient descent?\n",
    "        self.train_num = np.shape(self.x_train)[1]\n",
    "        self.val_num = np.shape(self.x_val)[1]\n",
    "        self.batch_size = np.shape(self.x_train)[1]\n",
    "        if 'batch_size' in kwargs:\n",
    "            self.batch_size = min(kwargs['batch_size'],self.batch_size)\n",
    "        \n",
    "        # verbose or not\n",
    "        verbose = True\n",
    "        if 'verbose' in kwargs:\n",
    "            verbose = kwargs['verbose']\n",
    "        \n",
    "        # run gradient descent\n",
    "        weight_history,train_cost_history,val_cost_history = un_optimizers.gradient_descent(self.cost,self.w_init,self.x_train,self.x_val,self.alpha_choice,self.max_its,self.batch_size,verbose=verbose)\n",
    "        \n",
    "        # store all new histories\n",
    "        self.weight_histories.append(weight_history)\n",
    "        self.train_cost_histories.append(train_cost_history)\n",
    "        self.val_cost_histories.append(val_cost_history)\n",
    "        \n",
    "    def show_histories(self,**kwargs):\n",
    "        start = 0\n",
    "        if 'start' in kwargs:\n",
    "            start = kwargs['start']\n",
    "        if self.train_portion == 1:\n",
    "            self.val_cost_histories = [[] for s in range(len(self.val_cost_histories))]\n",
    "            self.val_accuracy_histories = [[] for s in range(len(self.val_accuracy_histories))]\n",
    "        history_plotters.Setup(self.train_cost_histories,self.train_accuracy_histories,self.val_cost_histories,self.val_accuracy_histories,start)\n",
    "        \n",
    "    "
   ]
  },
  {
   "cell_type": "code",
   "execution_count": 9,
   "id": "8157521b",
   "metadata": {},
   "outputs": [],
   "source": [
    "mylib = Setup(X)"
   ]
  },
  {
   "cell_type": "code",
   "execution_count": 10,
   "id": "c6a565a3",
   "metadata": {},
   "outputs": [],
   "source": [
    "mylib.preprocessing_steps(normalizer = 'standard')"
   ]
  },
  {
   "cell_type": "code",
   "execution_count": 11,
   "id": "43705859",
   "metadata": {},
   "outputs": [],
   "source": [
    "# split into training and validation sets\n",
    "mylib.make_train_val_split(train_portion = 1)"
   ]
  },
  {
   "cell_type": "code",
   "execution_count": 12,
   "id": "ff75dda6",
   "metadata": {},
   "outputs": [],
   "source": [
    "# choose features\n",
    "mylib.choose_encoder(layer_sizes = [2,10,10,1],scale = 0.2)\n",
    "mylib.choose_decoder(layer_sizes = [1,10,10,2],scale = 0.2)"
   ]
  },
  {
   "cell_type": "code",
   "execution_count": 13,
   "id": "f7681740",
   "metadata": {},
   "outputs": [],
   "source": [
    "mylib.choose_cost(name = 'autoencoder')"
   ]
  },
  {
   "cell_type": "code",
   "execution_count": 14,
   "id": "b1acd51b",
   "metadata": {},
   "outputs": [
    {
     "name": "stderr",
     "output_type": "stream",
     "text": [
      "/Users/jazz13/Desktop/GitHub_Files/435-deep-learning/un_cost_functions.py:42: RuntimeWarning: invalid value encountered in scalar divide\n",
      "  return cost/float(x_p.shape[1])\n"
     ]
    }
   ],
   "source": [
    "mylib.fit(max_its = 2000,alpha_choice = 10**(-1),verbose = False)"
   ]
  },
  {
   "cell_type": "code",
   "execution_count": 15,
   "id": "e512c2a4",
   "metadata": {
    "scrolled": true
   },
   "outputs": [
    {
     "data": {
      "image/png": "[encoded data removed]",
      "text/plain": [
       "<Figure size 720x216 with 1 Axes>"
      ]
     },
     "metadata": {
      "needs_background": "light"
     },
     "output_type": "display_data"
    }
   ],
   "source": [
    "mylib.show_histories()"
   ]
  },
  {
   "cell_type": "code",
   "execution_count": 16,
   "id": "34e7ac12",
   "metadata": {},
   "outputs": [],
   "source": [
    "import autoencoder_demos"
   ]
  },
  {
   "cell_type": "code",
   "execution_count": 17,
   "id": "c72346c8",
   "metadata": {},
   "outputs": [
    {
     "data": {
      "image/png": "[encoded data removed]",
      "text/plain": [
       "<Figure size 720x216 with 3 Axes>"
      ]
     },
     "metadata": {
      "needs_background": "light"
     },
     "output_type": "display_data"
    },
    {
     "data": {
      "image/png": "[encoded data removed]",
      "text/plain": [
       "<Figure size 720x288 with 1 Axes>"
      ]
     },
     "metadata": {
      "needs_background": "light"
     },
     "output_type": "display_data"
    }
   ],
   "source": [
    "autoencoder_demos.show_encode_decode(X,mylib,projmap = True,scale = 4.5)"
   ]
  },
  {
   "cell_type": "markdown",
   "id": "37f78bbb",
   "metadata": {},
   "source": [
    "# 13.8 Batch Normalization "
   ]
  },
  {
   "cell_type": "code",
   "execution_count": 18,
   "id": "26ca77a6",
   "metadata": {},
   "outputs": [
    {
     "data": {
      "text/plain": [
       "'1.0.2'"
      ]
     },
     "execution_count": 18,
     "metadata": {},
     "output_type": "execute_result"
    }
   ],
   "source": [
    "import sklearn\n",
    "sklearn.__version__"
   ]
  },
  {
   "cell_type": "code",
   "execution_count": 19,
   "id": "8cb21195",
   "metadata": {},
   "outputs": [
    {
     "name": "stdout",
     "output_type": "stream",
     "text": [
      "Collecting package metadata (current_repodata.json): done\n",
      "Solving environment: \\ \n",
      "\n",
      "Updating scikit-learn is constricted by \n",
      "\n",
      "anaconda -> requires scikit-learn==1.0.2=py39hae1ba45_1\n",
      "\n",
      "If you are sure you want an update of your package either try `conda update --all` or install a specific version of the package you want using `conda install <pkg>=<version>`\n",
      "\n",
      "done\n",
      "\n",
      "\n",
      "==> WARNING: A newer version of conda exists. <==\n",
      "  current version: 4.13.0\n",
      "  latest version: 24.4.0\n",
      "\n",
      "Please update conda by running\n",
      "\n",
      "    $ conda update -n base -c defaults conda\n",
      "\n",
      "\n",
      "\n",
      "# All requested packages already installed.\n",
      "\n",
      "\n",
      "Note: you may need to restart the kernel to use updated packages.\n"
     ]
    }
   ],
   "source": [
    "conda update scikit-learn"
   ]
  },
  {
   "cell_type": "code",
   "execution_count": 413,
   "id": "7b4d4477",
   "metadata": {},
   "outputs": [],
   "source": [
    "import super_cost_functions\n",
    "import history_plotters\n",
    "import multilayer_perceptron_batch_normalized\n",
    "import multilayer_perceptron\n",
    "import normalizers\n",
    "import cost_functions\n",
    "import super_optimizers"
   ]
  },
  {
   "cell_type": "code",
   "execution_count": 341,
   "id": "93772b0a",
   "metadata": {
    "scrolled": true
   },
   "outputs": [
    {
     "name": "stdout",
     "output_type": "stream",
     "text": [
      "(70000, 784)\n",
      "(70000, 1)\n"
     ]
    }
   ],
   "source": [
    "# get MNIST data from online repository\n",
    "from sklearn.datasets import fetch_openml\n",
    "x, y = fetch_openml('mnist_784', version=1, return_X_y=True)\n",
    "\n",
    "# convert string labels to integers\n",
    "y = np.array([int(v) for v in y])[:,np.newaxis]\n",
    "\n",
    "print(np.shape(x))\n",
    "print(np.shape(y))"
   ]
  },
  {
   "cell_type": "code",
   "execution_count": 347,
   "id": "b3b20355",
   "metadata": {},
   "outputs": [],
   "source": [
    "x1 = np.transpose(x)\n",
    "y1 = np.transpose(y)"
   ]
  },
  {
   "cell_type": "code",
   "execution_count": 355,
   "id": "aa6e4be0",
   "metadata": {},
   "outputs": [],
   "source": [
    "x_sample, x_test = x[:50000],x[50000:]\n",
    "y_sample, y_test=y[:50000],y[50000:]"
   ]
  },
  {
   "cell_type": "code",
   "execution_count": 356,
   "id": "094dae27",
   "metadata": {},
   "outputs": [],
   "source": [
    "shuffled = np.random.permutation(50000)\n",
    "x_sample = x_sample.iloc[shuffled] \n",
    "y_sample = y_sample[shuffled]"
   ]
  },
  {
   "cell_type": "code",
   "execution_count": 357,
   "id": "6cb0c4ba",
   "metadata": {},
   "outputs": [
    {
     "name": "stdout",
     "output_type": "stream",
     "text": [
      "(50000, 784)\n",
      "(50000, 1)\n"
     ]
    }
   ],
   "source": [
    "print(x_sample.shape)\n",
    "print(y_sample.shape)"
   ]
  },
  {
   "cell_type": "code",
   "execution_count": 450,
   "id": "75160b8b",
   "metadata": {},
   "outputs": [],
   "source": [
    "class Setup2:\n",
    "    def __init__(self,x,y,**kwargs):\n",
    "        # link in data\n",
    "        self.x = x\n",
    "        self.y = y\n",
    "        \n",
    "        # make containers for all histories\n",
    "        self.weight_histories = []\n",
    "        self.train_cost_histories = []\n",
    "        self.train_accuracy_histories = []\n",
    "        self.val_cost_histories = []\n",
    "        self.val_accuracy_histories = []\n",
    "        self.train_costs = []\n",
    "        self.train_counts = []\n",
    "        self.val_costs = []\n",
    "        self.val_counts = []\n",
    "        \n",
    "        \n",
    "    #### define preprocessing steps ####\n",
    "    def preprocessing_steps(self,**kwargs):        \n",
    "        ### produce / use data normalizer ###\n",
    "        normalizer_name = 'standard'\n",
    "        if 'normalizer_name' in kwargs:\n",
    "            normalizer_name = kwargs['normalizer_name']\n",
    "        self.normalizer_name = normalizer_name\n",
    "\n",
    "        # produce normalizer / inverse normalizer\n",
    "        s = normalizers.Setup(self.x,normalizer_name)\n",
    "        self.normalizer = s.normalizer\n",
    "        self.inverse_normalizer = s.inverse_normalizer\n",
    "        \n",
    "        # normalize input \n",
    "        self.x = self.normalizer(self.x)\n",
    "       \n",
    "    #### split data into training and validation sets ####\n",
    "    def make_train_val_split(self,train_portion):\n",
    "        # translate desired training portion into exact indecies\n",
    "        self.train_portion = train_portion\n",
    "        r = np.random.permutation(self.x.shape[1])\n",
    "        train_num = int(np.round(train_portion*len(r)))\n",
    "        self.train_inds = r[:train_num]\n",
    "        self.val_inds = r[train_num:]\n",
    "        \n",
    "        # define training and testing sets\n",
    "        self.x_train = self.x[:,self.train_inds]\n",
    "        self.x_val = self.x[:,self.val_inds]\n",
    "\n",
    "        self.y_train = self.y[:,self.train_inds]\n",
    "        self.y_val = self.y[:,self.val_inds]\n",
    "     \n",
    "    #### define cost function ####\n",
    "    def choose_cost(self,name,**kwargs):\n",
    "        # create training and testing cost functions\n",
    "        self.cost_object = super_cost_functions.Setup(name,**kwargs)\n",
    "\n",
    "        # if the cost function is a two-class classifier, build a counter too\n",
    "        if name == 'softmax' or name == 'perceptron':\n",
    "            self.count_object = super_cost_functions.Setup('twoclass_counter',**kwargs)\n",
    "                        \n",
    "        if name == 'multiclass_softmax' or name == 'multiclass_perceptron':\n",
    "            self.count_object = super_cost_functions.Setup('multiclass_counter',**kwargs)\n",
    "  \n",
    "        self.cost_name = name\n",
    "    \n",
    "    #### define feature transformation ####\n",
    "    def choose_features(self,**kwargs): \n",
    "        ### select from pre-made feature transforms ###\n",
    "        layer_sizes = [1]\n",
    "        if 'layer_sizes' in kwargs:\n",
    "            layer_sizes = kwargs['layer_sizes']\n",
    "        \n",
    "        # add input and output layer sizes\n",
    "        input_size = self.x.shape[0]\n",
    "        layer_sizes.insert(0, input_size)\n",
    "      \n",
    "        # add output size\n",
    "        if self.cost_name == 'least_squares' or self.cost_name == 'least_absolute_deviations':\n",
    "            layer_sizes.append(self.y.shape[0])\n",
    "        else:\n",
    "            num_labels = len(np.unique(self.y))\n",
    "            if num_labels == 2:\n",
    "                layer_sizes.append(1)\n",
    "            else:\n",
    "                layer_sizes.append(num_labels)\n",
    "        \n",
    "        # multilayer perceptron #\n",
    "        feature_name = 'multilayer_perceptron'\n",
    "        if 'name' in kwargs:\n",
    "            feature_name = kwargs['feature_name']\n",
    "           \n",
    "        if feature_name == 'multilayer_perceptron':\n",
    "            transformer = multilayer_perceptron.Setup(**kwargs)\n",
    "            self.feature_transforms = transformer.feature_transforms\n",
    "            self.multilayer_initializer = transformer.initializer\n",
    "            self.layer_sizes = transformer.layer_sizes\n",
    "            \n",
    "        if feature_name == 'multilayer_perceptron_batch_normalized':\n",
    "            transformer = multilayer_perceptron_batch_normalized.Setup(**kwargs)\n",
    "            self.feature_transforms = transformer.feature_transforms\n",
    "            self.multilayer_initializer = transformer.initializer\n",
    "            self.layer_sizes = transformer.layer_sizes\n",
    "            \n",
    "        self.feature_name = feature_name\n",
    "        \n",
    "        ### with feature transformation constructed, pass on to cost function ###\n",
    "        self.cost_object.define_feature_transform(self.feature_transforms)\n",
    "        self.cost = self.cost_object.cost\n",
    "        self.model = self.cost_object.model\n",
    "        \n",
    "        # if classification performed, inject feature transforms into counter as well\n",
    "        if self.cost_name == 'softmax' or self.cost_name == 'perceptron' or self.cost_name == 'multiclass_softmax' or self.cost_name == 'multiclass_perceptron':\n",
    "            self.count_object.define_feature_transform(self.feature_transforms)\n",
    "            self.counter = self.count_object.cost\n",
    "            \n",
    "    #### run optimization ####\n",
    "    def fit(self,**kwargs):\n",
    "        # basic parameters for gradient descent run (default algorithm)\n",
    "        max_its = 500; alpha_choice = 10**(-1);\n",
    "        \n",
    "        # set parameters by hand\n",
    "        if 'max_its' in kwargs:\n",
    "            self.max_its = kwargs['max_its']\n",
    "        if 'alpha_choice' in kwargs:\n",
    "            self.alpha_choice = kwargs['alpha_choice']\n",
    "        \n",
    "        # set initialization\n",
    "        self.w_init = self.multilayer_initializer()\n",
    "        \n",
    "        # batch size for gradient descent?\n",
    "        self.train_num = np.size(self.y_train)\n",
    "        self.val_num = np.size(self.y_val)\n",
    "        self.batch_size = np.size(self.y_train)\n",
    "        if 'batch_size' in kwargs:\n",
    "            self.batch_size = min(kwargs['batch_size'],self.batch_size)\n",
    "        \n",
    "        # verbose or not\n",
    "        verbose = True\n",
    "        if 'verbose' in kwargs:\n",
    "            verbose = kwargs['verbose']\n",
    "\n",
    "        # optimize\n",
    "        weight_history = []\n",
    "        cost_history = []\n",
    "        \n",
    "        # run gradient descent\n",
    "        weight_history,train_cost_history,val_cost_history = super_optimizers.gradient_descent(self.cost,self.w_init,self.x_train,self.y_train,self.x_val,self.y_val,self.alpha_choice,self.max_its,self.batch_size,verbose=verbose)\n",
    "                                                                                         \n",
    "        # store all new histories\n",
    "        self.weight_histories.append(weight_history)\n",
    "        self.train_cost_histories.append(train_cost_history)\n",
    "        self.val_cost_histories.append(val_cost_history)\n",
    "\n",
    "        # if classification produce count history\n",
    "        if self.cost_name == 'softmax' or self.cost_name == 'perceptron' or self.cost_name == 'multiclass_softmax' or self.cost_name == 'multiclass_perceptron':\n",
    "            train_accuracy_history = [1 - self.counter(v,self.x_train,self.y_train)/float(self.y_train.size) for v in weight_history]\n",
    "            val_accuracy_history = [1 - self.counter(v,self.x_val,self.y_val)/float(self.y_val.size) for v in weight_history]\n",
    "\n",
    "            # store count history\n",
    "            self.train_accuracy_histories.append(train_accuracy_history)\n",
    "            self.val_accuracy_histories.append(val_accuracy_history)\n",
    " \n",
    "    #### plot histories ###\n",
    "    def show_histories(self,**kwargs):\n",
    "        start = 0\n",
    "        if 'start' in kwargs:\n",
    "            start = kwargs['start']\n",
    "        if self.train_portion == 1:\n",
    "            self.val_cost_histories = [[] for s in range(len(self.val_cost_histories))]\n",
    "            self.val_accuracy_histories = [[] for s in range(len(self.val_accuracy_histories))]\n",
    "        history_plotters.Setup(self.train_cost_histories,self.train_accuracy_histories,self.val_cost_histories,self.val_accuracy_histories,start)\n",
    "        \n",
    "    #### for batch normalized multilayer architecture only - set normalizers to desired settings ####\n",
    "    def fix_normalizers(self,w):\n",
    "        ### re-set feature transformation ###        \n",
    "        # fix normalization at each layer by passing data and specific weight through network\n",
    "        self.feature_transforms(self.x,w);\n",
    "        \n",
    "        # re-assign feature transformation based on these settings\n",
    "        self.testing_feature_transforms = self.transformer.testing_feature_transforms\n",
    "        \n",
    "        ### re-assign cost function (and counter) based on fixed architecture ###\n",
    "        funcs = cost_functions.Setup(self.cost_name,self.x,self.y,self.testing_feature_transforms)\n",
    "        self.model = funcs.model"
   ]
  },
  {
   "cell_type": "code",
   "execution_count": 451,
   "id": "d7a614d1",
   "metadata": {},
   "outputs": [],
   "source": [
    "mylib2 = Setup2(x_sample,y_sample)"
   ]
  },
  {
   "cell_type": "code",
   "execution_count": 452,
   "id": "f5983336",
   "metadata": {
    "scrolled": true
   },
   "outputs": [],
   "source": [
    "mylib2.preprocessing_steps(normalizer = 'standard')"
   ]
  },
  {
   "cell_type": "code",
   "execution_count": 453,
   "id": "e9989879",
   "metadata": {},
   "outputs": [
    {
     "ename": "InvalidIndexError",
     "evalue": "(slice(None, None, None), array([359, 242, 374, 566, 591,  73,  60, 264,  71, 494, 214, 311, 118,\n        36, 319, 125, 174, 489, 565, 781, 130, 595, 562,  87, 289, 667,\n       294, 456,  11, 108, 474,  33, 400, 597, 710, 285, 432, 168, 283,\n       310, 320,  28, 220, 133, 309, 774, 210,  34, 139, 322, 463, 249,\n       237, 113, 109, 418, 615, 316,  26, 553, 212, 768, 715, 677, 328,\n       775,  45, 608, 486, 327, 722, 142, 542, 376, 600, 171, 203, 243,\n       399, 185, 145, 763,  31, 625, 537, 177, 213, 106, 658, 530, 129,\n       747,  15, 528, 571, 189, 513, 184, 461, 730, 488, 501, 248, 342,\n       386, 716, 610, 728, 609, 458, 424, 519, 111, 611, 481, 471, 731,\n       353, 356, 239, 459, 305, 436, 431, 679, 581, 115, 578, 409, 398,\n        59, 358,  42, 777, 700,  48, 225, 107, 434, 549,  84, 783, 137,\n       657, 312, 412, 104, 607, 396,   3, 411, 260, 381, 750, 163, 117,\n       568, 509, 296, 314, 741, 238, 361, 202, 654, 218, 204, 725, 348,\n       543,  69, 377, 520,  41, 105, 635, 257, 500, 422, 241, 517, 778,\n       729, 122, 219,  64, 209,  78, 295, 267, 636, 555, 303, 141, 676,\n       224,   1,  50, 585, 496, 119, 504, 493, 586, 532, 291, 770, 404,\n       208, 364,  74, 228, 743, 379, 216, 547, 703, 394,  14,  56, 655,\n        10, 308, 428, 321,  18,  88, 406, 762, 449, 739, 334,  61, 533,\n       318,  77, 454, 211, 478,  86, 195, 575, 617, 329, 402, 521, 299,\n       569,   5, 629,  20, 351, 687, 375, 175, 574, 551, 290, 370, 491,\n       503, 557, 518, 649, 166, 564, 437, 512, 694, 426, 165, 740, 269,\n       626, 637, 292, 391,  22, 653, 522, 439, 699, 433, 698, 227, 524,\n       761, 429, 648, 755, 354, 156, 114, 134, 286, 619, 510, 780, 733,\n       714, 502, 523, 450, 754,  72, 559, 682, 236, 749, 363, 423, 453,\n       232, 482, 455, 661,  17, 736, 103, 662, 352, 688, 121, 477, 413,\n       277, 442, 120, 758, 140, 769, 337, 176,  32, 344,  19, 187, 425,\n       707, 250, 315, 485, 393,  12, 367, 416, 470,  46, 556, 669, 247,\n       150, 179, 147, 446, 668, 300, 157, 191, 665, 752, 435, 181, 767,\n       563, 116, 727, 221, 536, 229, 170,  82, 541, 199, 706, 341, 275,\n       572,  63, 360, 323,  37, 443, 173, 584, 288, 540, 198, 704, 587,\n         6,   2, 251, 223, 663, 514, 476, 550, 526, 153, 252,  53, 670,\n       738, 100, 255,  35, 284, 498, 643,  66, 606,  91, 627, 492, 408,\n       387, 347, 293, 192, 110, 759, 276, 683, 631, 594, 678, 475, 460,\n       317, 154,  58, 592, 304, 355, 505, 497, 254, 346, 723, 546, 713,\n       419, 508, 395, 604, 692, 734, 336, 744, 149, 287, 674, 338, 161,\n       709, 270, 567,  24,  49, 388, 479, 644, 468, 301, 639, 371, 186,\n       235, 244, 382, 155, 326, 271, 405, 666, 332, 389, 473, 330,  99,\n        98, 390,  75,   0, 280, 230, 671,   9, 545, 732, 495, 735, 263,\n       686, 180, 306, 274, 420,  83, 515,  38, 193, 689,  90, 525,  80,\n        94, 616, 711, 779, 534,  57, 691, 737, 331,  67, 444, 392, 417,\n        23, 656, 333, 675, 447, 380, 253, 764, 259, 258, 708, 516, 642,\n       362, 511, 222,  68, 630,  55, 638, 529, 776, 745, 112, 144, 169,\n       628, 465, 369, 602, 441, 172, 273, 672, 579, 480, 624, 760, 660,\n       721,  70, 127, 205, 340, 196, 535, 632, 451,  85, 445, 746, 378,\n       614, 646, 124, 148, 182, 507, 438, 206, 385, 131, 197, 742, 650,\n       466, 640, 160, 539, 452,  65, 233, 601, 718, 583, 278, 472, 582,\n       217, 756, 560, 664, 183, 372, 651, 641, 123, 397, 462, 726,   7,\n       281, 702, 696, 261, 483, 589, 652, 531, 215, 151,  29, 580, 102,\n       570, 159, 766, 487, 226, 132, 573, 298, 138, 101, 407, 693, 262,\n       499, 622,  81, 772,  43, 448,  96, 712, 552, 307, 593, 748,  93,\n        95, 410, 234, 194, 621,  44, 561, 126, 506, 128,  52, 577, 178,\n       613, 690,  25, 633, 618, 266, 136, 146, 757, 164, 188, 680, 440,\n       339, 527, 345, 401,  30,  92, 701, 558,  40,  47, 427, 350, 297,\n       634, 695, 576, 162, 383, 467, 324, 357, 612, 272, 265, 430, 207,\n       724, 697, 152, 384, 158, 190, 469, 554, 484, 368,  27, 135, 596,\n       765, 349,  79, 366,  13, 782, 335,  89, 240, 365, 771,  21,  51,\n       143,  16, 302, 167, 590, 773, 268,  97, 325, 256, 673, 685, 753,\n         4, 279, 645, 598, 719, 720, 605, 201, 684, 421, 403, 343, 659,\n       647, 544,  39, 246, 603, 490, 705, 457, 464, 415,  76, 373, 717,\n       200, 548,  54, 623, 681, 538,   8, 313, 620, 588, 282, 231, 245,\n       751, 599, 414,  62]))",
     "output_type": "error",
     "traceback": [
      "\u001b[0;31m---------------------------------------------------------------------------\u001b[0m",
      "\u001b[0;31mTypeError\u001b[0m                                 Traceback (most recent call last)",
      "File \u001b[0;32m~/opt/anaconda3/lib/python3.9/site-packages/pandas/core/indexes/base.py:3802\u001b[0m, in \u001b[0;36mIndex.get_loc\u001b[0;34m(self, key, method, tolerance)\u001b[0m\n\u001b[1;32m   3801\u001b[0m \u001b[38;5;28;01mtry\u001b[39;00m:\n\u001b[0;32m-> 3802\u001b[0m     \u001b[38;5;28;01mreturn\u001b[39;00m \u001b[38;5;28;43mself\u001b[39;49m\u001b[38;5;241;43m.\u001b[39;49m\u001b[43m_engine\u001b[49m\u001b[38;5;241;43m.\u001b[39;49m\u001b[43mget_loc\u001b[49m\u001b[43m(\u001b[49m\u001b[43mcasted_key\u001b[49m\u001b[43m)\u001b[49m\n\u001b[1;32m   3803\u001b[0m \u001b[38;5;28;01mexcept\u001b[39;00m \u001b[38;5;167;01mKeyError\u001b[39;00m \u001b[38;5;28;01mas\u001b[39;00m err:\n",
      "File \u001b[0;32m~/opt/anaconda3/lib/python3.9/site-packages/pandas/_libs/index.pyx:138\u001b[0m, in \u001b[0;36mpandas._libs.index.IndexEngine.get_loc\u001b[0;34m()\u001b[0m\n",
      "File \u001b[0;32m~/opt/anaconda3/lib/python3.9/site-packages/pandas/_libs/index.pyx:144\u001b[0m, in \u001b[0;36mpandas._libs.index.IndexEngine.get_loc\u001b[0;34m()\u001b[0m\n",
      "\u001b[0;31mTypeError\u001b[0m: '(slice(None, None, None), array([359, 242, 374, 566, 591,  73,  60, 264,  71, 494, 214, 311, 118,\n        36, 319, 125, 174, 489, 565, 781, 130, 595, 562,  87, 289, 667,\n       294, 456,  11, 108, 474,  33, 400, 597, 710, 285, 432, 168, 283,\n       310, 320,  28, 220, 133, 309, 774, 210,  34, 139, 322, 463, 249,\n       237, 113, 109, 418, 615, 316,  26, 553, 212, 768, 715, 677, 328,\n       775,  45, 608, 486, 327, 722, 142, 542, 376, 600, 171, 203, 243,\n       399, 185, 145, 763,  31, 625, 537, 177, 213, 106, 658, 530, 129,\n       747,  15, 528, 571, 189, 513, 184, 461, 730, 488, 501, 248, 342,\n       386, 716, 610, 728, 609, 458, 424, 519, 111, 611, 481, 471, 731,\n       353, 356, 239, 459, 305, 436, 431, 679, 581, 115, 578, 409, 398,\n        59, 358,  42, 777, 700,  48, 225, 107, 434, 549,  84, 783, 137,\n       657, 312, 412, 104, 607, 396,   3, 411, 260, 381, 750, 163, 117,\n       568, 509, 296, 314, 741, 238, 361, 202, 654, 218, 204, 725, 348,\n       543,  69, 377, 520,  41, 105, 635, 257, 500, 422, 241, 517, 778,\n       729, 122, 219,  64, 209,  78, 295, 267, 636, 555, 303, 141, 676,\n       224,   1,  50, 585, 496, 119, 504, 493, 586, 532, 291, 770, 404,\n       208, 364,  74, 228, 743, 379, 216, 547, 703, 394,  14,  56, 655,\n        10, 308, 428, 321,  18,  88, 406, 762, 449, 739, 334,  61, 533,\n       318,  77, 454, 211, 478,  86, 195, 575, 617, 329, 402, 521, 299,\n       569,   5, 629,  20, 351, 687, 375, 175, 574, 551, 290, 370, 491,\n       503, 557, 518, 649, 166, 564, 437, 512, 694, 426, 165, 740, 269,\n       626, 637, 292, 391,  22, 653, 522, 439, 699, 433, 698, 227, 524,\n       761, 429, 648, 755, 354, 156, 114, 134, 286, 619, 510, 780, 733,\n       714, 502, 523, 450, 754,  72, 559, 682, 236, 749, 363, 423, 453,\n       232, 482, 455, 661,  17, 736, 103, 662, 352, 688, 121, 477, 413,\n       277, 442, 120, 758, 140, 769, 337, 176,  32, 344,  19, 187, 425,\n       707, 250, 315, 485, 393,  12, 367, 416, 470,  46, 556, 669, 247,\n       150, 179, 147, 446, 668, 300, 157, 191, 665, 752, 435, 181, 767,\n       563, 116, 727, 221, 536, 229, 170,  82, 541, 199, 706, 341, 275,\n       572,  63, 360, 323,  37, 443, 173, 584, 288, 540, 198, 704, 587,\n         6,   2, 251, 223, 663, 514, 476, 550, 526, 153, 252,  53, 670,\n       738, 100, 255,  35, 284, 498, 643,  66, 606,  91, 627, 492, 408,\n       387, 347, 293, 192, 110, 759, 276, 683, 631, 594, 678, 475, 460,\n       317, 154,  58, 592, 304, 355, 505, 497, 254, 346, 723, 546, 713,\n       419, 508, 395, 604, 692, 734, 336, 744, 149, 287, 674, 338, 161,\n       709, 270, 567,  24,  49, 388, 479, 644, 468, 301, 639, 371, 186,\n       235, 244, 382, 155, 326, 271, 405, 666, 332, 389, 473, 330,  99,\n        98, 390,  75,   0, 280, 230, 671,   9, 545, 732, 495, 735, 263,\n       686, 180, 306, 274, 420,  83, 515,  38, 193, 689,  90, 525,  80,\n        94, 616, 711, 779, 534,  57, 691, 737, 331,  67, 444, 392, 417,\n        23, 656, 333, 675, 447, 380, 253, 764, 259, 258, 708, 516, 642,\n       362, 511, 222,  68, 630,  55, 638, 529, 776, 745, 112, 144, 169,\n       628, 465, 369, 602, 441, 172, 273, 672, 579, 480, 624, 760, 660,\n       721,  70, 127, 205, 340, 196, 535, 632, 451,  85, 445, 746, 378,\n       614, 646, 124, 148, 182, 507, 438, 206, 385, 131, 197, 742, 650,\n       466, 640, 160, 539, 452,  65, 233, 601, 718, 583, 278, 472, 582,\n       217, 756, 560, 664, 183, 372, 651, 641, 123, 397, 462, 726,   7,\n       281, 702, 696, 261, 483, 589, 652, 531, 215, 151,  29, 580, 102,\n       570, 159, 766, 487, 226, 132, 573, 298, 138, 101, 407, 693, 262,\n       499, 622,  81, 772,  43, 448,  96, 712, 552, 307, 593, 748,  93,\n        95, 410, 234, 194, 621,  44, 561, 126, 506, 128,  52, 577, 178,\n       613, 690,  25, 633, 618, 266, 136, 146, 757, 164, 188, 680, 440,\n       339, 527, 345, 401,  30,  92, 701, 558,  40,  47, 427, 350, 297,\n       634, 695, 576, 162, 383, 467, 324, 357, 612, 272, 265, 430, 207,\n       724, 697, 152, 384, 158, 190, 469, 554, 484, 368,  27, 135, 596,\n       765, 349,  79, 366,  13, 782, 335,  89, 240, 365, 771,  21,  51,\n       143,  16, 302, 167, 590, 773, 268,  97, 325, 256, 673, 685, 753,\n         4, 279, 645, 598, 719, 720, 605, 201, 684, 421, 403, 343, 659,\n       647, 544,  39, 246, 603, 490, 705, 457, 464, 415,  76, 373, 717,\n       200, 548,  54, 623, 681, 538,   8, 313, 620, 588, 282, 231, 245,\n       751, 599, 414,  62]))' is an invalid key",
      "\nDuring handling of the above exception, another exception occurred:\n",
      "\u001b[0;31mInvalidIndexError\u001b[0m                         Traceback (most recent call last)",
      "Cell \u001b[0;32mIn[453], line 1\u001b[0m\n\u001b[0;32m----> 1\u001b[0m \u001b[43mmylib2\u001b[49m\u001b[38;5;241;43m.\u001b[39;49m\u001b[43mmake_train_val_split\u001b[49m\u001b[43m(\u001b[49m\u001b[43mtrain_portion\u001b[49m\u001b[43m \u001b[49m\u001b[38;5;241;43m=\u001b[39;49m\u001b[43m \u001b[49m\u001b[38;5;241;43m1\u001b[39;49m\u001b[43m)\u001b[49m\n",
      "Cell \u001b[0;32mIn[450], line 45\u001b[0m, in \u001b[0;36mSetup2.make_train_val_split\u001b[0;34m(self, train_portion)\u001b[0m\n\u001b[1;32m     42\u001b[0m \u001b[38;5;28mself\u001b[39m\u001b[38;5;241m.\u001b[39mval_inds \u001b[38;5;241m=\u001b[39m r[train_num:]\n\u001b[1;32m     44\u001b[0m \u001b[38;5;66;03m# define training and testing sets\u001b[39;00m\n\u001b[0;32m---> 45\u001b[0m \u001b[38;5;28mself\u001b[39m\u001b[38;5;241m.\u001b[39mx_train \u001b[38;5;241m=\u001b[39m \u001b[38;5;28;43mself\u001b[39;49m\u001b[38;5;241;43m.\u001b[39;49m\u001b[43mx\u001b[49m\u001b[43m[\u001b[49m\u001b[43m:\u001b[49m\u001b[43m,\u001b[49m\u001b[38;5;28;43mself\u001b[39;49m\u001b[38;5;241;43m.\u001b[39;49m\u001b[43mtrain_inds\u001b[49m\u001b[43m]\u001b[49m\n\u001b[1;32m     46\u001b[0m \u001b[38;5;28mself\u001b[39m\u001b[38;5;241m.\u001b[39mx_val \u001b[38;5;241m=\u001b[39m \u001b[38;5;28mself\u001b[39m\u001b[38;5;241m.\u001b[39mx[:,\u001b[38;5;28mself\u001b[39m\u001b[38;5;241m.\u001b[39mval_inds]\n\u001b[1;32m     48\u001b[0m \u001b[38;5;28mself\u001b[39m\u001b[38;5;241m.\u001b[39my_train \u001b[38;5;241m=\u001b[39m \u001b[38;5;28mself\u001b[39m\u001b[38;5;241m.\u001b[39my[:,\u001b[38;5;28mself\u001b[39m\u001b[38;5;241m.\u001b[39mtrain_inds]\n",
      "File \u001b[0;32m~/opt/anaconda3/lib/python3.9/site-packages/pandas/core/frame.py:3807\u001b[0m, in \u001b[0;36mDataFrame.__getitem__\u001b[0;34m(self, key)\u001b[0m\n\u001b[1;32m   3805\u001b[0m \u001b[38;5;28;01mif\u001b[39;00m \u001b[38;5;28mself\u001b[39m\u001b[38;5;241m.\u001b[39mcolumns\u001b[38;5;241m.\u001b[39mnlevels \u001b[38;5;241m>\u001b[39m \u001b[38;5;241m1\u001b[39m:\n\u001b[1;32m   3806\u001b[0m     \u001b[38;5;28;01mreturn\u001b[39;00m \u001b[38;5;28mself\u001b[39m\u001b[38;5;241m.\u001b[39m_getitem_multilevel(key)\n\u001b[0;32m-> 3807\u001b[0m indexer \u001b[38;5;241m=\u001b[39m \u001b[38;5;28;43mself\u001b[39;49m\u001b[38;5;241;43m.\u001b[39;49m\u001b[43mcolumns\u001b[49m\u001b[38;5;241;43m.\u001b[39;49m\u001b[43mget_loc\u001b[49m\u001b[43m(\u001b[49m\u001b[43mkey\u001b[49m\u001b[43m)\u001b[49m\n\u001b[1;32m   3808\u001b[0m \u001b[38;5;28;01mif\u001b[39;00m is_integer(indexer):\n\u001b[1;32m   3809\u001b[0m     indexer \u001b[38;5;241m=\u001b[39m [indexer]\n",
      "File \u001b[0;32m~/opt/anaconda3/lib/python3.9/site-packages/pandas/core/indexes/base.py:3809\u001b[0m, in \u001b[0;36mIndex.get_loc\u001b[0;34m(self, key, method, tolerance)\u001b[0m\n\u001b[1;32m   3804\u001b[0m         \u001b[38;5;28;01mraise\u001b[39;00m \u001b[38;5;167;01mKeyError\u001b[39;00m(key) \u001b[38;5;28;01mfrom\u001b[39;00m \u001b[38;5;21;01merr\u001b[39;00m\n\u001b[1;32m   3805\u001b[0m     \u001b[38;5;28;01mexcept\u001b[39;00m \u001b[38;5;167;01mTypeError\u001b[39;00m:\n\u001b[1;32m   3806\u001b[0m         \u001b[38;5;66;03m# If we have a listlike key, _check_indexing_error will raise\u001b[39;00m\n\u001b[1;32m   3807\u001b[0m         \u001b[38;5;66;03m#  InvalidIndexError. Otherwise we fall through and re-raise\u001b[39;00m\n\u001b[1;32m   3808\u001b[0m         \u001b[38;5;66;03m#  the TypeError.\u001b[39;00m\n\u001b[0;32m-> 3809\u001b[0m         \u001b[38;5;28;43mself\u001b[39;49m\u001b[38;5;241;43m.\u001b[39;49m\u001b[43m_check_indexing_error\u001b[49m\u001b[43m(\u001b[49m\u001b[43mkey\u001b[49m\u001b[43m)\u001b[49m\n\u001b[1;32m   3810\u001b[0m         \u001b[38;5;28;01mraise\u001b[39;00m\n\u001b[1;32m   3812\u001b[0m \u001b[38;5;66;03m# GH#42269\u001b[39;00m\n",
      "File \u001b[0;32m~/opt/anaconda3/lib/python3.9/site-packages/pandas/core/indexes/base.py:5925\u001b[0m, in \u001b[0;36mIndex._check_indexing_error\u001b[0;34m(self, key)\u001b[0m\n\u001b[1;32m   5921\u001b[0m \u001b[38;5;28;01mdef\u001b[39;00m \u001b[38;5;21m_check_indexing_error\u001b[39m(\u001b[38;5;28mself\u001b[39m, key):\n\u001b[1;32m   5922\u001b[0m     \u001b[38;5;28;01mif\u001b[39;00m \u001b[38;5;129;01mnot\u001b[39;00m is_scalar(key):\n\u001b[1;32m   5923\u001b[0m         \u001b[38;5;66;03m# if key is not a scalar, directly raise an error (the code below\u001b[39;00m\n\u001b[1;32m   5924\u001b[0m         \u001b[38;5;66;03m# would convert to numpy arrays and raise later any way) - GH29926\u001b[39;00m\n\u001b[0;32m-> 5925\u001b[0m         \u001b[38;5;28;01mraise\u001b[39;00m InvalidIndexError(key)\n",
      "\u001b[0;31mInvalidIndexError\u001b[0m: (slice(None, None, None), array([359, 242, 374, 566, 591,  73,  60, 264,  71, 494, 214, 311, 118,\n        36, 319, 125, 174, 489, 565, 781, 130, 595, 562,  87, 289, 667,\n       294, 456,  11, 108, 474,  33, 400, 597, 710, 285, 432, 168, 283,\n       310, 320,  28, 220, 133, 309, 774, 210,  34, 139, 322, 463, 249,\n       237, 113, 109, 418, 615, 316,  26, 553, 212, 768, 715, 677, 328,\n       775,  45, 608, 486, 327, 722, 142, 542, 376, 600, 171, 203, 243,\n       399, 185, 145, 763,  31, 625, 537, 177, 213, 106, 658, 530, 129,\n       747,  15, 528, 571, 189, 513, 184, 461, 730, 488, 501, 248, 342,\n       386, 716, 610, 728, 609, 458, 424, 519, 111, 611, 481, 471, 731,\n       353, 356, 239, 459, 305, 436, 431, 679, 581, 115, 578, 409, 398,\n        59, 358,  42, 777, 700,  48, 225, 107, 434, 549,  84, 783, 137,\n       657, 312, 412, 104, 607, 396,   3, 411, 260, 381, 750, 163, 117,\n       568, 509, 296, 314, 741, 238, 361, 202, 654, 218, 204, 725, 348,\n       543,  69, 377, 520,  41, 105, 635, 257, 500, 422, 241, 517, 778,\n       729, 122, 219,  64, 209,  78, 295, 267, 636, 555, 303, 141, 676,\n       224,   1,  50, 585, 496, 119, 504, 493, 586, 532, 291, 770, 404,\n       208, 364,  74, 228, 743, 379, 216, 547, 703, 394,  14,  56, 655,\n        10, 308, 428, 321,  18,  88, 406, 762, 449, 739, 334,  61, 533,\n       318,  77, 454, 211, 478,  86, 195, 575, 617, 329, 402, 521, 299,\n       569,   5, 629,  20, 351, 687, 375, 175, 574, 551, 290, 370, 491,\n       503, 557, 518, 649, 166, 564, 437, 512, 694, 426, 165, 740, 269,\n       626, 637, 292, 391,  22, 653, 522, 439, 699, 433, 698, 227, 524,\n       761, 429, 648, 755, 354, 156, 114, 134, 286, 619, 510, 780, 733,\n       714, 502, 523, 450, 754,  72, 559, 682, 236, 749, 363, 423, 453,\n       232, 482, 455, 661,  17, 736, 103, 662, 352, 688, 121, 477, 413,\n       277, 442, 120, 758, 140, 769, 337, 176,  32, 344,  19, 187, 425,\n       707, 250, 315, 485, 393,  12, 367, 416, 470,  46, 556, 669, 247,\n       150, 179, 147, 446, 668, 300, 157, 191, 665, 752, 435, 181, 767,\n       563, 116, 727, 221, 536, 229, 170,  82, 541, 199, 706, 341, 275,\n       572,  63, 360, 323,  37, 443, 173, 584, 288, 540, 198, 704, 587,\n         6,   2, 251, 223, 663, 514, 476, 550, 526, 153, 252,  53, 670,\n       738, 100, 255,  35, 284, 498, 643,  66, 606,  91, 627, 492, 408,\n       387, 347, 293, 192, 110, 759, 276, 683, 631, 594, 678, 475, 460,\n       317, 154,  58, 592, 304, 355, 505, 497, 254, 346, 723, 546, 713,\n       419, 508, 395, 604, 692, 734, 336, 744, 149, 287, 674, 338, 161,\n       709, 270, 567,  24,  49, 388, 479, 644, 468, 301, 639, 371, 186,\n       235, 244, 382, 155, 326, 271, 405, 666, 332, 389, 473, 330,  99,\n        98, 390,  75,   0, 280, 230, 671,   9, 545, 732, 495, 735, 263,\n       686, 180, 306, 274, 420,  83, 515,  38, 193, 689,  90, 525,  80,\n        94, 616, 711, 779, 534,  57, 691, 737, 331,  67, 444, 392, 417,\n        23, 656, 333, 675, 447, 380, 253, 764, 259, 258, 708, 516, 642,\n       362, 511, 222,  68, 630,  55, 638, 529, 776, 745, 112, 144, 169,\n       628, 465, 369, 602, 441, 172, 273, 672, 579, 480, 624, 760, 660,\n       721,  70, 127, 205, 340, 196, 535, 632, 451,  85, 445, 746, 378,\n       614, 646, 124, 148, 182, 507, 438, 206, 385, 131, 197, 742, 650,\n       466, 640, 160, 539, 452,  65, 233, 601, 718, 583, 278, 472, 582,\n       217, 756, 560, 664, 183, 372, 651, 641, 123, 397, 462, 726,   7,\n       281, 702, 696, 261, 483, 589, 652, 531, 215, 151,  29, 580, 102,\n       570, 159, 766, 487, 226, 132, 573, 298, 138, 101, 407, 693, 262,\n       499, 622,  81, 772,  43, 448,  96, 712, 552, 307, 593, 748,  93,\n        95, 410, 234, 194, 621,  44, 561, 126, 506, 128,  52, 577, 178,\n       613, 690,  25, 633, 618, 266, 136, 146, 757, 164, 188, 680, 440,\n       339, 527, 345, 401,  30,  92, 701, 558,  40,  47, 427, 350, 297,\n       634, 695, 576, 162, 383, 467, 324, 357, 612, 272, 265, 430, 207,\n       724, 697, 152, 384, 158, 190, 469, 554, 484, 368,  27, 135, 596,\n       765, 349,  79, 366,  13, 782, 335,  89, 240, 365, 771,  21,  51,\n       143,  16, 302, 167, 590, 773, 268,  97, 325, 256, 673, 685, 753,\n         4, 279, 645, 598, 719, 720, 605, 201, 684, 421, 403, 343, 659,\n       647, 544,  39, 246, 603, 490, 705, 457, 464, 415,  76, 373, 717,\n       200, 548,  54, 623, 681, 538,   8, 313, 620, 588, 282, 231, 245,\n       751, 599, 414,  62]))"
     ]
    }
   ],
   "source": [
    "mylib2.make_train_val_split(train_portion = 1)"
   ]
  },
  {
   "cell_type": "code",
   "execution_count": 454,
   "id": "c69bbf0d",
   "metadata": {},
   "outputs": [],
   "source": [
    "# choose cost\n",
    "mylib2.choose_cost(name = 'multiclass_softmax')"
   ]
  },
  {
   "cell_type": "code",
   "execution_count": 455,
   "id": "e84d511b",
   "metadata": {},
   "outputs": [
    {
     "ename": "AttributeError",
     "evalue": "'Setup2' object has no attribute 'y_train'",
     "output_type": "error",
     "traceback": [
      "\u001b[0;31m---------------------------------------------------------------------------\u001b[0m",
      "\u001b[0;31mAttributeError\u001b[0m                            Traceback (most recent call last)",
      "Cell \u001b[0;32mIn[455], line 4\u001b[0m\n\u001b[1;32m      2\u001b[0m layer_sizes \u001b[38;5;241m=\u001b[39m [\u001b[38;5;241m10\u001b[39m,\u001b[38;5;241m10\u001b[39m,\u001b[38;5;241m10\u001b[39m,\u001b[38;5;241m10\u001b[39m]\n\u001b[1;32m      3\u001b[0m mylib2\u001b[38;5;241m.\u001b[39mchoose_features(feature_name \u001b[38;5;241m=\u001b[39m \u001b[38;5;124m'\u001b[39m\u001b[38;5;124mmultilayer_perceptron\u001b[39m\u001b[38;5;124m'\u001b[39m,layer_sizes \u001b[38;5;241m=\u001b[39m layer_sizes, activation \u001b[38;5;241m=\u001b[39m \u001b[38;5;124m'\u001b[39m\u001b[38;5;124mrelu\u001b[39m\u001b[38;5;124m'\u001b[39m,scale \u001b[38;5;241m=\u001b[39m \u001b[38;5;241m0.1\u001b[39m)\n\u001b[0;32m----> 4\u001b[0m \u001b[43mmylib2\u001b[49m\u001b[38;5;241;43m.\u001b[39;49m\u001b[43mfit\u001b[49m\u001b[43m(\u001b[49m\u001b[43mmax_its\u001b[49m\u001b[43m \u001b[49m\u001b[38;5;241;43m=\u001b[39;49m\u001b[43m \u001b[49m\u001b[38;5;241;43m10\u001b[39;49m\u001b[43m,\u001b[49m\u001b[43malpha_choice\u001b[49m\u001b[43m \u001b[49m\u001b[38;5;241;43m=\u001b[39;49m\u001b[43m \u001b[49m\u001b[38;5;241;43m10\u001b[39;49m\u001b[38;5;241;43m*\u001b[39;49m\u001b[38;5;241;43m*\u001b[39;49m\u001b[43m(\u001b[49m\u001b[38;5;241;43m-\u001b[39;49m\u001b[38;5;241;43m2\u001b[39;49m\u001b[43m)\u001b[49m\u001b[43m,\u001b[49m\u001b[43mverbose\u001b[49m\u001b[43m \u001b[49m\u001b[38;5;241;43m=\u001b[39;49m\u001b[43m \u001b[49m\u001b[38;5;28;43;01mFalse\u001b[39;49;00m\u001b[43m,\u001b[49m\u001b[43mbatch_size\u001b[49m\u001b[43m \u001b[49m\u001b[38;5;241;43m=\u001b[39;49m\u001b[43m \u001b[49m\u001b[38;5;241;43m200\u001b[39;49m\u001b[43m)\u001b[49m\n",
      "Cell \u001b[0;32mIn[450], line 130\u001b[0m, in \u001b[0;36mSetup2.fit\u001b[0;34m(self, **kwargs)\u001b[0m\n\u001b[1;32m    127\u001b[0m \u001b[38;5;28mself\u001b[39m\u001b[38;5;241m.\u001b[39mw_init \u001b[38;5;241m=\u001b[39m \u001b[38;5;28mself\u001b[39m\u001b[38;5;241m.\u001b[39mmultilayer_initializer()\n\u001b[1;32m    129\u001b[0m \u001b[38;5;66;03m# batch size for gradient descent?\u001b[39;00m\n\u001b[0;32m--> 130\u001b[0m \u001b[38;5;28mself\u001b[39m\u001b[38;5;241m.\u001b[39mtrain_num \u001b[38;5;241m=\u001b[39m np\u001b[38;5;241m.\u001b[39msize(\u001b[38;5;28;43mself\u001b[39;49m\u001b[38;5;241;43m.\u001b[39;49m\u001b[43my_train\u001b[49m)\n\u001b[1;32m    131\u001b[0m \u001b[38;5;28mself\u001b[39m\u001b[38;5;241m.\u001b[39mval_num \u001b[38;5;241m=\u001b[39m np\u001b[38;5;241m.\u001b[39msize(\u001b[38;5;28mself\u001b[39m\u001b[38;5;241m.\u001b[39my_val)\n\u001b[1;32m    132\u001b[0m \u001b[38;5;28mself\u001b[39m\u001b[38;5;241m.\u001b[39mbatch_size \u001b[38;5;241m=\u001b[39m np\u001b[38;5;241m.\u001b[39msize(\u001b[38;5;28mself\u001b[39m\u001b[38;5;241m.\u001b[39my_train)\n",
      "\u001b[0;31mAttributeError\u001b[0m: 'Setup2' object has no attribute 'y_train'"
     ]
    }
   ],
   "source": [
    "# choose dimensions of fully connected multilayer perceptron layers\n",
    "layer_sizes = [10,10,10,10]\n",
    "mylib2.choose_features(feature_name = 'multilayer_perceptron',layer_sizes = layer_sizes, activation = 'relu',scale = 0.1)\n",
    "mylib2.fit(max_its = 10,alpha_choice = 10**(-2),verbose = False,batch_size = 200)"
   ]
  },
  {
   "cell_type": "code",
   "execution_count": 404,
   "id": "e8630516",
   "metadata": {},
   "outputs": [
    {
     "ename": "AttributeError",
     "evalue": "'Setup2' object has no attribute 'cost_object'",
     "output_type": "error",
     "traceback": [
      "\u001b[0;31m---------------------------------------------------------------------------\u001b[0m",
      "\u001b[0;31mAttributeError\u001b[0m                            Traceback (most recent call last)",
      "Cell \u001b[0;32mIn[404], line 2\u001b[0m\n\u001b[1;32m      1\u001b[0m \u001b[38;5;66;03m# component-wise normalized version\u001b[39;00m\n\u001b[0;32m----> 2\u001b[0m \u001b[43mmylib2\u001b[49m\u001b[38;5;241;43m.\u001b[39;49m\u001b[43mchoose_features\u001b[49m\u001b[43m(\u001b[49m\u001b[43mfeature_name\u001b[49m\u001b[43m \u001b[49m\u001b[38;5;241;43m=\u001b[39;49m\u001b[43m \u001b[49m\u001b[38;5;124;43m'\u001b[39;49m\u001b[38;5;124;43mmultilayer_perceptron_batch_normalized\u001b[39;49m\u001b[38;5;124;43m'\u001b[39;49m\u001b[43m,\u001b[49m\u001b[43mlayer_sizes\u001b[49m\u001b[43m \u001b[49m\u001b[38;5;241;43m=\u001b[39;49m\u001b[43m \u001b[49m\u001b[43mlayer_sizes\u001b[49m\u001b[43m,\u001b[49m\u001b[43mactivation\u001b[49m\u001b[43m \u001b[49m\u001b[38;5;241;43m=\u001b[39;49m\u001b[43m \u001b[49m\u001b[38;5;124;43m'\u001b[39;49m\u001b[38;5;124;43mrelu\u001b[39;49m\u001b[38;5;124;43m'\u001b[39;49m\u001b[43m,\u001b[49m\u001b[43mscale\u001b[49m\u001b[43m \u001b[49m\u001b[38;5;241;43m=\u001b[39;49m\u001b[43m \u001b[49m\u001b[38;5;241;43m0.1\u001b[39;49m\u001b[43m)\u001b[49m\n\u001b[1;32m      3\u001b[0m mylib2\u001b[38;5;241m.\u001b[39mfit(max_its \u001b[38;5;241m=\u001b[39m \u001b[38;5;241m10\u001b[39m,alpha_choice \u001b[38;5;241m=\u001b[39m \u001b[38;5;241m10\u001b[39m\u001b[38;5;241m*\u001b[39m\u001b[38;5;241m*\u001b[39m(\u001b[38;5;241m-\u001b[39m\u001b[38;5;241m1\u001b[39m),verbose \u001b[38;5;241m=\u001b[39m \u001b[38;5;28;01mFalse\u001b[39;00m,w_init \u001b[38;5;241m=\u001b[39m mylib\u001b[38;5;241m.\u001b[39mw_init,batch_size \u001b[38;5;241m=\u001b[39m \u001b[38;5;241m200\u001b[39m)\n",
      "Cell \u001b[0;32mIn[399], line 108\u001b[0m, in \u001b[0;36mSetup2.choose_features\u001b[0;34m(self, **kwargs)\u001b[0m\n\u001b[1;32m    105\u001b[0m \u001b[38;5;28mself\u001b[39m\u001b[38;5;241m.\u001b[39mfeature_name \u001b[38;5;241m=\u001b[39m feature_name\n\u001b[1;32m    107\u001b[0m \u001b[38;5;66;03m### with feature transformation constructed, pass on to cost function ###\u001b[39;00m\n\u001b[0;32m--> 108\u001b[0m \u001b[38;5;28;43mself\u001b[39;49m\u001b[38;5;241;43m.\u001b[39;49m\u001b[43mcost_object\u001b[49m\u001b[38;5;241m.\u001b[39mdefine_feature_transform(\u001b[38;5;28mself\u001b[39m\u001b[38;5;241m.\u001b[39mfeature_transforms)\n\u001b[1;32m    109\u001b[0m \u001b[38;5;28mself\u001b[39m\u001b[38;5;241m.\u001b[39mcost \u001b[38;5;241m=\u001b[39m \u001b[38;5;28mself\u001b[39m\u001b[38;5;241m.\u001b[39mcost_object\u001b[38;5;241m.\u001b[39mcost\n\u001b[1;32m    110\u001b[0m \u001b[38;5;28mself\u001b[39m\u001b[38;5;241m.\u001b[39mmodel \u001b[38;5;241m=\u001b[39m \u001b[38;5;28mself\u001b[39m\u001b[38;5;241m.\u001b[39mcost_object\u001b[38;5;241m.\u001b[39mmodel\n",
      "\u001b[0;31mAttributeError\u001b[0m: 'Setup2' object has no attribute 'cost_object'"
     ]
    }
   ],
   "source": [
    "# component-wise normalized version\n",
    "mylib2.choose_features(feature_name = 'multilayer_perceptron_batch_normalized',layer_sizes = layer_sizes,activation = 'relu',scale = 0.1)\n",
    "mylib2.fit(max_its = 10,alpha_choice = 10**(-1),verbose = False,w_init = mylib.w_init,batch_size = 200)"
   ]
  },
  {
   "cell_type": "code",
   "execution_count": null,
   "id": "e750687a",
   "metadata": {},
   "outputs": [],
   "source": [
    " # plot cost function history\n",
    "labels = ['regular','batch-normalized']\n",
    "mylib2.show_multirun_histories(start = 0,labels = labels)"
   ]
  },
  {
   "cell_type": "markdown",
   "id": "80cb05b1",
   "metadata": {},
   "source": [
    "# 13.9 Early Stopping Cross-Validation"
   ]
  },
  {
   "cell_type": "code",
   "execution_count": 456,
   "id": "2d821539",
   "metadata": {},
   "outputs": [
    {
     "name": "stdout",
     "output_type": "stream",
     "text": [
      "(20, 2)\n",
      "(1, 2)\n"
     ]
    }
   ],
   "source": [
    "# load in dataset\n",
    "csvname = datapath + 'noisy_sin_sample.csv'\n",
    "data = np.loadtxt(csvname, delimiter = ',')\n",
    "x = data[:-1,:]\n",
    "y = data[-1:,:]\n",
    "\n",
    "print(np.shape(x))\n",
    "print(np.shape(y))\n"
   ]
  },
  {
   "cell_type": "code",
   "execution_count": 457,
   "id": "d61f9df8",
   "metadata": {},
   "outputs": [],
   "source": [
    "import polys\n",
    "import cost_functions3\n",
    "import optimizers"
   ]
  },
  {
   "cell_type": "code",
   "execution_count": 472,
   "id": "f577af7c",
   "metadata": {},
   "outputs": [],
   "source": [
    "class Setup3:\n",
    "    def __init__(self,x,y,**kwargs):\n",
    "        # link in data\n",
    "        self.x = x\n",
    "        self.y = y\n",
    "        \n",
    "        # make containers for all histories\n",
    "        self.weight_histories = []\n",
    "        self.train_cost_histories = []\n",
    "        self.train_count_histories = []\n",
    "        self.valid_cost_histories = []\n",
    "        self.valid_count_histories = []\n",
    "        \n",
    "    #### define feature transformation ####\n",
    "    def choose_features(self,name,**kwargs): \n",
    "        ### select from pre-made feature transforms ###\n",
    "        # multilayer perceptron #\n",
    "        if name == 'multilayer_perceptron':\n",
    "            self.transformer = multilayer_perceptron.Setup(**kwargs)\n",
    "            self.feature_transforms = self.transformer.feature_transforms\n",
    "            self.initializer = self.transformer.initializer\n",
    "            self.layer_sizes = self.transformer.layer_sizes\n",
    "            \n",
    "        if name == 'multilayer_perceptron_batch_normalized':\n",
    "            self.transformer = multilayer_perceptron_batch_normalized.Setup(**kwargs)\n",
    "            self.feature_transforms = self.transformer.feature_transforms\n",
    "            self.initializer = self.transformer.initializer\n",
    "            self.layer_sizes = self.transformer.layer_sizes\n",
    "            \n",
    "        # polynomials #\n",
    "        if name == 'polys':\n",
    "            self.transformer = polys.Setup(self.x,self.y,**kwargs)\n",
    "            self.feature_transforms = self.transformer.feature_transforms\n",
    "            self.initializer = self.transformer.initializer\n",
    "            self.degs = self.transformer.D            \n",
    "            \n",
    "        self.feature_name = name\n",
    "\n",
    "    #### define normalizer ####\n",
    "    def choose_normalizer(self,name):\n",
    "        # produce normalizer / inverse normalizer\n",
    "        s = normalizers.Setup(self.x,name)\n",
    "        self.normalizer = s.normalizer\n",
    "        self.inverse_normalizer = s.inverse_normalizer\n",
    "        \n",
    "        # normalize input \n",
    "        self.x = self.normalizer(self.x)\n",
    "        self.normalizer_name = name\n",
    "       \n",
    "    #### split data into training and validation sets ####\n",
    "    def make_train_valid_split(self,train_portion):\n",
    "        # translate desired training portion into exact indecies\n",
    "        r = np.random.permutation(self.x.shape[1])\n",
    "        train_num = int(np.round(train_portion*len(r)))\n",
    "        self.train_inds = r[:train_num]\n",
    "        self.valid_inds = r[train_num:]\n",
    "        \n",
    "        # define training and validation sets\n",
    "        self.x_train = self.x[:,self.train_inds]\n",
    "        self.x_valid = self.x[:,self.valid_inds]\n",
    "        \n",
    "        self.y_train = self.y[:,self.train_inds]\n",
    "        self.y_valid = self.y[:,self.valid_inds]\n",
    "     \n",
    "    #### define cost function ####\n",
    "    def choose_cost(self,name,**kwargs):\n",
    "        # create cost on entire dataset\n",
    "        funcs = cost_functions3.Setup(name,self.x,self.y,self.feature_transforms,**kwargs)\n",
    "        self.full_cost = funcs.cost\n",
    "        self.full_model = funcs.model\n",
    "\n",
    "        # create training and validation cost functions\n",
    "        funcs = cost_functions3.Setup(name,self.x_train,self.y_train,self.feature_transforms,**kwargs)\n",
    "        self.cost = funcs.cost\n",
    "        self.model = funcs.model\n",
    "        \n",
    "        funcs = cost_functions3.Setup(name,self.x_valid,self.y_valid,self.feature_transforms,**kwargs)\n",
    "        self.valid_cost = funcs.cost\n",
    "        self.valid_model = funcs.model\n",
    "\n",
    "        # if the cost function is a two-class classifier, build a counter too\n",
    "        if name == 'softmax' or name == 'perceptron':\n",
    "            funcs = cost_functions3.Setup('twoclass_counter',self.x_train,self.y_train,self.feature_transforms,**kwargs)\n",
    "            self.counter = funcs.cost\n",
    "            \n",
    "            funcs = cost_functions3.Setup('twoclass_counter',self.x_valid,self.y_valid,self.feature_transforms,**kwargs)\n",
    "            self.valid_counter = funcs.cost\n",
    "            \n",
    "        if name == 'multiclass_softmax' or name == 'multiclass_perceptron':\n",
    "            funcs = cost_functions3.Setup('multiclass_counter',self.x_train,self.y_train,self.feature_transforms,**kwargs)\n",
    "            self.counter = funcs.cost\n",
    "            \n",
    "            funcs = cost_functions3.Setup('multiclass_counter',self.x_valid,self.y_valid,self.feature_transforms,**kwargs)\n",
    "            self.valid_counter = funcs.cost\n",
    "            \n",
    "        self.cost_name = name\n",
    "            \n",
    "    #### run optimization ####\n",
    "    def fit(self,**kwargs):\n",
    "        # basic parameters for gradient descent run (default algorithm)\n",
    "        max_its = 500; alpha_choice = 10**(-1);\n",
    "        self.w_init = self.initializer()\n",
    "        optimizer = 'gradient_descent'\n",
    "        epsilon = 10**(-10)\n",
    "        \n",
    "        # set parameters by hand\n",
    "        if 'max_its' in kwargs:\n",
    "            self.max_its = kwargs['max_its']\n",
    "        if 'alpha_choice' in kwargs:\n",
    "            self.alpha_choice = kwargs['alpha_choice']\n",
    "        if 'optimizer' in kwargs:\n",
    "            optimizer = kwargs['optimizer']\n",
    "        if 'epsilon' in kwargs:\n",
    "            epsilon = kwargs['epsilon']\n",
    "        if 'init' in kwargs:\n",
    "            print ('here')\n",
    "            self.w_init = kwargs['init']\n",
    "            \n",
    "        # batch size for gradient descent?\n",
    "        self.num_pts = np.size(self.y_train)\n",
    "        self.batch_size = np.size(self.y_train)\n",
    "        if 'batch_size' in kwargs:\n",
    "            self.batch_size = kwargs['batch_size']\n",
    "\n",
    "        # optimize\n",
    "        weight_history = []\n",
    "        \n",
    "        # run gradient descent\n",
    "        if optimizer == 'gradient_descent':\n",
    "            weight_history = optimizers.gradient_descent(self.cost,self.alpha_choice,self.max_its,self.w_init,self.num_pts,self.batch_size)\n",
    "        \n",
    "        if optimizer == 'RMSprop':\n",
    "            weight_history = optimizers.RMSprop(self.cost,self.alpha_choice,self.max_its,self.w_init,self.num_pts,self.batch_size)\n",
    " \n",
    "        # run gradient descent\n",
    "        if optimizer == 'newtons_method':\n",
    "            epsilon = 10**(-10)\n",
    "            if 'epsilon' in kwargs:\n",
    "                epsilon = kwargs['epsilon']\n",
    "            weight_history = optimizers.newtons_method(self.cost,epsilon,self.max_its,self.w_init,self.num_pts,self.batch_size)\n",
    "        \n",
    "\n",
    "        # compute training history\n",
    "        train_cost_history = [self.cost(v,np.arange(np.size(self.y_train))) for v in weight_history]\n",
    "        \n",
    "        # store all new histories\n",
    "        self.weight_histories.append(weight_history)\n",
    "        self.train_cost_histories.append(train_cost_history)\n",
    "        \n",
    "        # compute validation history\n",
    "        if len(self.valid_inds) > 0:\n",
    "            valid_cost_history = [self.valid_cost(v,np.arange(np.size(self.y_valid))) for v in weight_history]\n",
    "            self.valid_cost_histories.append(valid_cost_history)\n",
    "        \n",
    "        # if classification produce count history\n",
    "        if self.cost_name == 'softmax' or self.cost_name == 'perceptron' or self.cost_name == 'multiclass_softmax' or self.cost_name == 'multiclass_perceptron':\n",
    "            train_count_history = [self.counter(v) for v in weight_history]\n",
    "            self.train_count_histories.append(train_count_history)\n",
    "            \n",
    "            if len(self.valid_inds) > 0:\n",
    "                valid_count_history = [self.valid_counter(v) for v in weight_history]\n",
    "                self.valid_count_histories.append(valid_count_history)\n",
    " \n",
    "    #### plot histories ###\n",
    "    def show_histories(self,**kwargs):\n",
    "        start = 0\n",
    "        if 'start' in kwargs:\n",
    "            start = kwargs['start']\n",
    "        history_plotters.Setup(self.train_cost_histories,self.train_count_histories,self.valid_cost_histories,self.valid_count_histories,start)\n",
    "        \n",
    "    #### for batch normalized multilayer architecture only - set normalizers to desired settings ####\n",
    "    def fix_normalizers(self,w):\n",
    "        ### re-set feature transformation ###        \n",
    "        # fix normalization at each layer by passing data and specific weight through network\n",
    "        self.feature_transforms(self.x,w);\n",
    "        \n",
    "        # re-assign feature transformation based on these settings\n",
    "        self.validation_feature_transforms = self.transformer.validation_feature_transforms\n",
    "        \n",
    "        ### re-assign cost function (and counter) based on fixed architecture ###\n",
    "        funcs = cost_functions.Setup(self.cost_name,self.x,self.y,self.validation_feature_transforms)\n",
    "        self.model = funcs.model"
   ]
  },
  {
   "cell_type": "code",
   "execution_count": 473,
   "id": "e4d48006",
   "metadata": {},
   "outputs": [],
   "source": [
    "mylib3 = Setup3(x,y)"
   ]
  },
  {
   "cell_type": "code",
   "execution_count": 474,
   "id": "bc162712",
   "metadata": {},
   "outputs": [],
   "source": [
    "layer_sizes = [1,10,10,10,1]"
   ]
  },
  {
   "cell_type": "code",
   "execution_count": 475,
   "id": "26351159",
   "metadata": {},
   "outputs": [],
   "source": [
    "mylib3.choose_features(name = 'multilayer_perceptron',layer_sizes = layer_sizes,activation = 'tanh')"
   ]
  },
  {
   "cell_type": "code",
   "execution_count": 476,
   "id": "2f3e296c",
   "metadata": {},
   "outputs": [],
   "source": [
    "mylib3.choose_normalizer(name = 'standard')"
   ]
  },
  {
   "cell_type": "code",
   "execution_count": 477,
   "id": "52b6278c",
   "metadata": {},
   "outputs": [],
   "source": [
    "mylib3.make_train_valid_split(train_portion = 0.66)"
   ]
  },
  {
   "cell_type": "code",
   "execution_count": 478,
   "id": "f200ab66",
   "metadata": {},
   "outputs": [],
   "source": [
    "mylib3.choose_cost(name = 'least_squares')"
   ]
  },
  {
   "cell_type": "code",
   "execution_count": 136,
   "id": "69abf1b0",
   "metadata": {},
   "outputs": [
    {
     "ename": "ValueError",
     "evalue": "shapes (1,20) and (1,10) not aligned: 20 (dim 1) != 1 (dim 0)",
     "output_type": "error",
     "traceback": [
      "\u001b[0;31m---------------------------------------------------------------------------\u001b[0m",
      "\u001b[0;31mValueError\u001b[0m                                Traceback (most recent call last)",
      "Cell \u001b[0;32mIn[136], line 1\u001b[0m\n\u001b[0;32m----> 1\u001b[0m \u001b[43mmylib\u001b[49m\u001b[38;5;241;43m.\u001b[39;49m\u001b[43mfit\u001b[49m\u001b[43m(\u001b[49m\u001b[43mmax_its\u001b[49m\u001b[43m \u001b[49m\u001b[38;5;241;43m=\u001b[39;49m\u001b[43m \u001b[49m\u001b[38;5;241;43m10000\u001b[39;49m\u001b[43m,\u001b[49m\u001b[43malpha_choice\u001b[49m\u001b[43m \u001b[49m\u001b[38;5;241;43m=\u001b[39;49m\u001b[43m \u001b[49m\u001b[38;5;241;43m10\u001b[39;49m\u001b[38;5;241;43m*\u001b[39;49m\u001b[38;5;241;43m*\u001b[39;49m\u001b[43m(\u001b[49m\u001b[38;5;241;43m-\u001b[39;49m\u001b[38;5;241;43m1\u001b[39;49m\u001b[43m)\u001b[49m\u001b[43m)\u001b[49m\n",
      "Cell \u001b[0;32mIn[120], line 130\u001b[0m, in \u001b[0;36mSetup3.fit\u001b[0;34m(self, **kwargs)\u001b[0m\n\u001b[1;32m    128\u001b[0m \u001b[38;5;66;03m# run gradient descent\u001b[39;00m\n\u001b[1;32m    129\u001b[0m \u001b[38;5;28;01mif\u001b[39;00m optimizer \u001b[38;5;241m==\u001b[39m \u001b[38;5;124m'\u001b[39m\u001b[38;5;124mgradient_descent\u001b[39m\u001b[38;5;124m'\u001b[39m:\n\u001b[0;32m--> 130\u001b[0m     weight_history \u001b[38;5;241m=\u001b[39m \u001b[43moptimizers\u001b[49m\u001b[38;5;241;43m.\u001b[39;49m\u001b[43mgradient_descent\u001b[49m\u001b[43m(\u001b[49m\u001b[38;5;28;43mself\u001b[39;49m\u001b[38;5;241;43m.\u001b[39;49m\u001b[43mcost\u001b[49m\u001b[43m,\u001b[49m\u001b[38;5;28;43mself\u001b[39;49m\u001b[38;5;241;43m.\u001b[39;49m\u001b[43malpha_choice\u001b[49m\u001b[43m,\u001b[49m\u001b[38;5;28;43mself\u001b[39;49m\u001b[38;5;241;43m.\u001b[39;49m\u001b[43mmax_its\u001b[49m\u001b[43m,\u001b[49m\u001b[38;5;28;43mself\u001b[39;49m\u001b[38;5;241;43m.\u001b[39;49m\u001b[43mw_init\u001b[49m\u001b[43m,\u001b[49m\u001b[38;5;28;43mself\u001b[39;49m\u001b[38;5;241;43m.\u001b[39;49m\u001b[43mnum_pts\u001b[49m\u001b[43m,\u001b[49m\u001b[38;5;28;43mself\u001b[39;49m\u001b[38;5;241;43m.\u001b[39;49m\u001b[43mbatch_size\u001b[49m\u001b[43m)\u001b[49m\n\u001b[1;32m    132\u001b[0m \u001b[38;5;28;01mif\u001b[39;00m optimizer \u001b[38;5;241m==\u001b[39m \u001b[38;5;124m'\u001b[39m\u001b[38;5;124mRMSprop\u001b[39m\u001b[38;5;124m'\u001b[39m:\n\u001b[1;32m    133\u001b[0m     weight_history \u001b[38;5;241m=\u001b[39m optimizers\u001b[38;5;241m.\u001b[39mRMSprop(\u001b[38;5;28mself\u001b[39m\u001b[38;5;241m.\u001b[39mcost,\u001b[38;5;28mself\u001b[39m\u001b[38;5;241m.\u001b[39malpha_choice,\u001b[38;5;28mself\u001b[39m\u001b[38;5;241m.\u001b[39mmax_its,\u001b[38;5;28mself\u001b[39m\u001b[38;5;241m.\u001b[39mw_init,\u001b[38;5;28mself\u001b[39m\u001b[38;5;241m.\u001b[39mnum_pts,\u001b[38;5;28mself\u001b[39m\u001b[38;5;241m.\u001b[39mbatch_size)\n",
      "File \u001b[0;32m~/Desktop/GitHub_Files/435-deep-learning/optimizers.py:38\u001b[0m, in \u001b[0;36mgradient_descent\u001b[0;34m(g, alpha, max_its, w, num_pts, batch_size, **kwargs)\u001b[0m\n\u001b[1;32m     35\u001b[0m batch_inds \u001b[38;5;241m=\u001b[39m np\u001b[38;5;241m.\u001b[39marange(b\u001b[38;5;241m*\u001b[39mbatch_size, \u001b[38;5;28mmin\u001b[39m((b\u001b[38;5;241m+\u001b[39m\u001b[38;5;241m1\u001b[39m)\u001b[38;5;241m*\u001b[39mbatch_size, num_pts))\n\u001b[1;32m     37\u001b[0m \u001b[38;5;66;03m# plug in value into func and derivative\u001b[39;00m\n\u001b[0;32m---> 38\u001b[0m cost_eval,grad_eval \u001b[38;5;241m=\u001b[39m \u001b[43mgrad\u001b[49m\u001b[43m(\u001b[49m\u001b[43mw\u001b[49m\u001b[43m,\u001b[49m\u001b[43mbatch_inds\u001b[49m\u001b[43m)\u001b[49m\n\u001b[1;32m     39\u001b[0m grad_eval\u001b[38;5;241m.\u001b[39mshape \u001b[38;5;241m=\u001b[39m np\u001b[38;5;241m.\u001b[39mshape(w)\n\u001b[1;32m     41\u001b[0m \u001b[38;5;66;03m# normalize?\u001b[39;00m\n",
      "File \u001b[0;32m~/opt/anaconda3/lib/python3.9/site-packages/autograd/wrap_util.py:20\u001b[0m, in \u001b[0;36munary_to_nary.<locals>.nary_operator.<locals>.nary_f\u001b[0;34m(*args, **kwargs)\u001b[0m\n\u001b[1;32m     18\u001b[0m \u001b[38;5;28;01melse\u001b[39;00m:\n\u001b[1;32m     19\u001b[0m     x \u001b[38;5;241m=\u001b[39m \u001b[38;5;28mtuple\u001b[39m(args[i] \u001b[38;5;28;01mfor\u001b[39;00m i \u001b[38;5;129;01min\u001b[39;00m argnum)\n\u001b[0;32m---> 20\u001b[0m \u001b[38;5;28;01mreturn\u001b[39;00m \u001b[43munary_operator\u001b[49m\u001b[43m(\u001b[49m\u001b[43munary_f\u001b[49m\u001b[43m,\u001b[49m\u001b[43m \u001b[49m\u001b[43mx\u001b[49m\u001b[43m,\u001b[49m\u001b[43m \u001b[49m\u001b[38;5;241;43m*\u001b[39;49m\u001b[43mnary_op_args\u001b[49m\u001b[43m,\u001b[49m\u001b[43m \u001b[49m\u001b[38;5;241;43m*\u001b[39;49m\u001b[38;5;241;43m*\u001b[39;49m\u001b[43mnary_op_kwargs\u001b[49m\u001b[43m)\u001b[49m\n",
      "File \u001b[0;32m~/opt/anaconda3/lib/python3.9/site-packages/autograd/differential_operators.py:138\u001b[0m, in \u001b[0;36mvalue_and_grad\u001b[0;34m(fun, x)\u001b[0m\n\u001b[1;32m    134\u001b[0m \u001b[38;5;129m@unary_to_nary\u001b[39m\n\u001b[1;32m    135\u001b[0m \u001b[38;5;28;01mdef\u001b[39;00m \u001b[38;5;21mvalue_and_grad\u001b[39m(fun, x):\n\u001b[1;32m    136\u001b[0m \u001b[38;5;250m    \u001b[39m\u001b[38;5;124;03m\"\"\"Returns a function that returns both value and gradient. Suitable for use\u001b[39;00m\n\u001b[1;32m    137\u001b[0m \u001b[38;5;124;03m    in scipy.optimize\"\"\"\u001b[39;00m\n\u001b[0;32m--> 138\u001b[0m     vjp, ans \u001b[38;5;241m=\u001b[39m \u001b[43m_make_vjp\u001b[49m\u001b[43m(\u001b[49m\u001b[43mfun\u001b[49m\u001b[43m,\u001b[49m\u001b[43m \u001b[49m\u001b[43mx\u001b[49m\u001b[43m)\u001b[49m\n\u001b[1;32m    139\u001b[0m     \u001b[38;5;28;01mif\u001b[39;00m \u001b[38;5;129;01mnot\u001b[39;00m vspace(ans)\u001b[38;5;241m.\u001b[39msize \u001b[38;5;241m==\u001b[39m \u001b[38;5;241m1\u001b[39m:\n\u001b[1;32m    140\u001b[0m         \u001b[38;5;28;01mraise\u001b[39;00m \u001b[38;5;167;01mTypeError\u001b[39;00m(\u001b[38;5;124m\"\u001b[39m\u001b[38;5;124mvalue_and_grad only applies to real scalar-output \u001b[39m\u001b[38;5;124m\"\u001b[39m\n\u001b[1;32m    141\u001b[0m                         \u001b[38;5;124m\"\u001b[39m\u001b[38;5;124mfunctions. Try jacobian, elementwise_grad or \u001b[39m\u001b[38;5;124m\"\u001b[39m\n\u001b[1;32m    142\u001b[0m                         \u001b[38;5;124m\"\u001b[39m\u001b[38;5;124mholomorphic_grad.\u001b[39m\u001b[38;5;124m\"\u001b[39m)\n",
      "File \u001b[0;32m~/opt/anaconda3/lib/python3.9/site-packages/autograd/core.py:10\u001b[0m, in \u001b[0;36mmake_vjp\u001b[0;34m(fun, x)\u001b[0m\n\u001b[1;32m      8\u001b[0m \u001b[38;5;28;01mdef\u001b[39;00m \u001b[38;5;21mmake_vjp\u001b[39m(fun, x):\n\u001b[1;32m      9\u001b[0m     start_node \u001b[38;5;241m=\u001b[39m VJPNode\u001b[38;5;241m.\u001b[39mnew_root()\n\u001b[0;32m---> 10\u001b[0m     end_value, end_node \u001b[38;5;241m=\u001b[39m  \u001b[43mtrace\u001b[49m\u001b[43m(\u001b[49m\u001b[43mstart_node\u001b[49m\u001b[43m,\u001b[49m\u001b[43m \u001b[49m\u001b[43mfun\u001b[49m\u001b[43m,\u001b[49m\u001b[43m \u001b[49m\u001b[43mx\u001b[49m\u001b[43m)\u001b[49m\n\u001b[1;32m     11\u001b[0m     \u001b[38;5;28;01mif\u001b[39;00m end_node \u001b[38;5;129;01mis\u001b[39;00m \u001b[38;5;28;01mNone\u001b[39;00m:\n\u001b[1;32m     12\u001b[0m         \u001b[38;5;28;01mdef\u001b[39;00m \u001b[38;5;21mvjp\u001b[39m(g): \u001b[38;5;28;01mreturn\u001b[39;00m vspace(x)\u001b[38;5;241m.\u001b[39mzeros()\n",
      "File \u001b[0;32m~/opt/anaconda3/lib/python3.9/site-packages/autograd/tracer.py:10\u001b[0m, in \u001b[0;36mtrace\u001b[0;34m(start_node, fun, x)\u001b[0m\n\u001b[1;32m      8\u001b[0m \u001b[38;5;28;01mwith\u001b[39;00m trace_stack\u001b[38;5;241m.\u001b[39mnew_trace() \u001b[38;5;28;01mas\u001b[39;00m t:\n\u001b[1;32m      9\u001b[0m     start_box \u001b[38;5;241m=\u001b[39m new_box(x, t, start_node)\n\u001b[0;32m---> 10\u001b[0m     end_box \u001b[38;5;241m=\u001b[39m \u001b[43mfun\u001b[49m\u001b[43m(\u001b[49m\u001b[43mstart_box\u001b[49m\u001b[43m)\u001b[49m\n\u001b[1;32m     11\u001b[0m     \u001b[38;5;28;01mif\u001b[39;00m isbox(end_box) \u001b[38;5;129;01mand\u001b[39;00m end_box\u001b[38;5;241m.\u001b[39m_trace \u001b[38;5;241m==\u001b[39m start_box\u001b[38;5;241m.\u001b[39m_trace:\n\u001b[1;32m     12\u001b[0m         \u001b[38;5;28;01mreturn\u001b[39;00m end_box\u001b[38;5;241m.\u001b[39m_value, end_box\u001b[38;5;241m.\u001b[39m_node\n",
      "File \u001b[0;32m~/opt/anaconda3/lib/python3.9/site-packages/autograd/wrap_util.py:15\u001b[0m, in \u001b[0;36munary_to_nary.<locals>.nary_operator.<locals>.nary_f.<locals>.unary_f\u001b[0;34m(x)\u001b[0m\n\u001b[1;32m     13\u001b[0m \u001b[38;5;28;01melse\u001b[39;00m:\n\u001b[1;32m     14\u001b[0m     subargs \u001b[38;5;241m=\u001b[39m subvals(args, \u001b[38;5;28mzip\u001b[39m(argnum, x))\n\u001b[0;32m---> 15\u001b[0m \u001b[38;5;28;01mreturn\u001b[39;00m \u001b[43mfun\u001b[49m\u001b[43m(\u001b[49m\u001b[38;5;241;43m*\u001b[39;49m\u001b[43msubargs\u001b[49m\u001b[43m,\u001b[49m\u001b[43m \u001b[49m\u001b[38;5;241;43m*\u001b[39;49m\u001b[38;5;241;43m*\u001b[39;49m\u001b[43mkwargs\u001b[49m\u001b[43m)\u001b[49m\n",
      "File \u001b[0;32m~/opt/anaconda3/lib/python3.9/site-packages/autograd/misc/flatten.py:32\u001b[0m, in \u001b[0;36mflatten_func.<locals>.<lambda>\u001b[0;34m(_x, *args)\u001b[0m\n\u001b[1;32m     30\u001b[0m \u001b[38;5;28;01mdef\u001b[39;00m \u001b[38;5;21mflatten_func\u001b[39m(func, example):\n\u001b[1;32m     31\u001b[0m     _ex, unflatten \u001b[38;5;241m=\u001b[39m flatten(example)\n\u001b[0;32m---> 32\u001b[0m     _func \u001b[38;5;241m=\u001b[39m \u001b[38;5;28;01mlambda\u001b[39;00m _x, \u001b[38;5;241m*\u001b[39margs: flatten(\u001b[43mfunc\u001b[49m\u001b[43m(\u001b[49m\u001b[43munflatten\u001b[49m\u001b[43m(\u001b[49m\u001b[43m_x\u001b[49m\u001b[43m)\u001b[49m\u001b[43m,\u001b[49m\u001b[43m \u001b[49m\u001b[38;5;241;43m*\u001b[39;49m\u001b[43margs\u001b[49m\u001b[43m)\u001b[49m)[\u001b[38;5;241m0\u001b[39m]\n\u001b[1;32m     33\u001b[0m     \u001b[38;5;28;01mreturn\u001b[39;00m _func, unflatten, _ex\n",
      "File \u001b[0;32m~/Desktop/GitHub_Files/435-deep-learning/cost_functions3.py:80\u001b[0m, in \u001b[0;36mSetup.least_squares\u001b[0;34m(self, w, iter)\u001b[0m\n\u001b[1;32m     77\u001b[0m y_p \u001b[38;5;241m=\u001b[39m \u001b[38;5;28mself\u001b[39m\u001b[38;5;241m.\u001b[39my[:,\u001b[38;5;28miter\u001b[39m]\n\u001b[1;32m     79\u001b[0m \u001b[38;5;66;03m# compute cost\u001b[39;00m\n\u001b[0;32m---> 80\u001b[0m cost \u001b[38;5;241m=\u001b[39m np\u001b[38;5;241m.\u001b[39msum((\u001b[38;5;28;43mself\u001b[39;49m\u001b[38;5;241;43m.\u001b[39;49m\u001b[43mmodel\u001b[49m\u001b[43m(\u001b[49m\u001b[43mx_p\u001b[49m\u001b[43m,\u001b[49m\u001b[43mw\u001b[49m\u001b[43m)\u001b[49m \u001b[38;5;241m-\u001b[39m y_p)\u001b[38;5;241m*\u001b[39m\u001b[38;5;241m*\u001b[39m\u001b[38;5;241m2\u001b[39m)\n\u001b[1;32m     81\u001b[0m \u001b[38;5;28;01mreturn\u001b[39;00m cost\u001b[38;5;241m/\u001b[39m\u001b[38;5;28mfloat\u001b[39m(np\u001b[38;5;241m.\u001b[39msize(x_p))\n",
      "File \u001b[0;32m~/Desktop/GitHub_Files/435-deep-learning/cost_functions3.py:54\u001b[0m, in \u001b[0;36mSetup.model\u001b[0;34m(self, x, w)\u001b[0m\n\u001b[1;32m     52\u001b[0m f \u001b[38;5;241m=\u001b[39m \u001b[38;5;241m0\u001b[39m\n\u001b[1;32m     53\u001b[0m \u001b[38;5;28;01mif\u001b[39;00m \u001b[38;5;28mlen\u001b[39m(\u001b[38;5;28mself\u001b[39m\u001b[38;5;241m.\u001b[39msig\u001b[38;5;241m.\u001b[39mparameters) \u001b[38;5;241m==\u001b[39m \u001b[38;5;241m2\u001b[39m:\n\u001b[0;32m---> 54\u001b[0m     f \u001b[38;5;241m=\u001b[39m \u001b[38;5;28;43mself\u001b[39;49m\u001b[38;5;241;43m.\u001b[39;49m\u001b[43mfeature_transforms\u001b[49m\u001b[43m(\u001b[49m\u001b[43mx\u001b[49m\u001b[43m,\u001b[49m\u001b[43mw\u001b[49m\u001b[43m[\u001b[49m\u001b[38;5;241;43m0\u001b[39;49m\u001b[43m]\u001b[49m\u001b[43m)\u001b[49m\n\u001b[1;32m     55\u001b[0m \u001b[38;5;28;01melse\u001b[39;00m: \n\u001b[1;32m     56\u001b[0m     f \u001b[38;5;241m=\u001b[39m \u001b[38;5;28mself\u001b[39m\u001b[38;5;241m.\u001b[39mfeature_transforms(x)    \n",
      "File \u001b[0;32m~/Desktop/GitHub_Files/435-deep-learning/multilayer_perceptron.py:100\u001b[0m, in \u001b[0;36mSetup.standard_feature_transforms\u001b[0;34m(self, a, w)\u001b[0m\n\u001b[1;32m     96\u001b[0m \u001b[38;5;28;01mdef\u001b[39;00m \u001b[38;5;21mstandard_feature_transforms\u001b[39m(\u001b[38;5;28mself\u001b[39m,a, w):    \n\u001b[1;32m     97\u001b[0m     \u001b[38;5;66;03m# loop through each layer matrix\u001b[39;00m\n\u001b[1;32m     98\u001b[0m     \u001b[38;5;28;01mfor\u001b[39;00m W \u001b[38;5;129;01min\u001b[39;00m w:\n\u001b[1;32m     99\u001b[0m         \u001b[38;5;66;03m# compute inner product with current layer weights\u001b[39;00m\n\u001b[0;32m--> 100\u001b[0m         a \u001b[38;5;241m=\u001b[39m W[\u001b[38;5;241m0\u001b[39m] \u001b[38;5;241m+\u001b[39m \u001b[43mnp\u001b[49m\u001b[38;5;241;43m.\u001b[39;49m\u001b[43mdot\u001b[49m\u001b[43m(\u001b[49m\u001b[43ma\u001b[49m\u001b[38;5;241;43m.\u001b[39;49m\u001b[43mT\u001b[49m\u001b[43m,\u001b[49m\u001b[43m \u001b[49m\u001b[43mW\u001b[49m\u001b[43m[\u001b[49m\u001b[38;5;241;43m1\u001b[39;49m\u001b[43m:\u001b[49m\u001b[43m]\u001b[49m\u001b[43m)\u001b[49m\n\u001b[1;32m    102\u001b[0m         \u001b[38;5;66;03m# output of layer activation\u001b[39;00m\n\u001b[1;32m    103\u001b[0m         a \u001b[38;5;241m=\u001b[39m \u001b[38;5;28mself\u001b[39m\u001b[38;5;241m.\u001b[39mactivation(a)\u001b[38;5;241m.\u001b[39mT\n",
      "File \u001b[0;32m~/opt/anaconda3/lib/python3.9/site-packages/autograd/tracer.py:44\u001b[0m, in \u001b[0;36mprimitive.<locals>.f_wrapped\u001b[0;34m(*args, **kwargs)\u001b[0m\n\u001b[1;32m     42\u001b[0m parents \u001b[38;5;241m=\u001b[39m \u001b[38;5;28mtuple\u001b[39m(box\u001b[38;5;241m.\u001b[39m_node \u001b[38;5;28;01mfor\u001b[39;00m _     , box \u001b[38;5;129;01min\u001b[39;00m boxed_args)\n\u001b[1;32m     43\u001b[0m argnums \u001b[38;5;241m=\u001b[39m \u001b[38;5;28mtuple\u001b[39m(argnum    \u001b[38;5;28;01mfor\u001b[39;00m argnum, _   \u001b[38;5;129;01min\u001b[39;00m boxed_args)\n\u001b[0;32m---> 44\u001b[0m ans \u001b[38;5;241m=\u001b[39m \u001b[43mf_wrapped\u001b[49m\u001b[43m(\u001b[49m\u001b[38;5;241;43m*\u001b[39;49m\u001b[43margvals\u001b[49m\u001b[43m,\u001b[49m\u001b[43m \u001b[49m\u001b[38;5;241;43m*\u001b[39;49m\u001b[38;5;241;43m*\u001b[39;49m\u001b[43mkwargs\u001b[49m\u001b[43m)\u001b[49m\n\u001b[1;32m     45\u001b[0m node \u001b[38;5;241m=\u001b[39m node_constructor(ans, f_wrapped, argvals, kwargs, argnums, parents)\n\u001b[1;32m     46\u001b[0m \u001b[38;5;28;01mreturn\u001b[39;00m new_box(ans, trace, node)\n",
      "File \u001b[0;32m~/opt/anaconda3/lib/python3.9/site-packages/autograd/tracer.py:48\u001b[0m, in \u001b[0;36mprimitive.<locals>.f_wrapped\u001b[0;34m(*args, **kwargs)\u001b[0m\n\u001b[1;32m     46\u001b[0m     \u001b[38;5;28;01mreturn\u001b[39;00m new_box(ans, trace, node)\n\u001b[1;32m     47\u001b[0m \u001b[38;5;28;01melse\u001b[39;00m:\n\u001b[0;32m---> 48\u001b[0m     \u001b[38;5;28;01mreturn\u001b[39;00m \u001b[43mf_raw\u001b[49m\u001b[43m(\u001b[49m\u001b[38;5;241;43m*\u001b[39;49m\u001b[43margs\u001b[49m\u001b[43m,\u001b[49m\u001b[43m \u001b[49m\u001b[38;5;241;43m*\u001b[39;49m\u001b[38;5;241;43m*\u001b[39;49m\u001b[43mkwargs\u001b[49m\u001b[43m)\u001b[49m\n",
      "File \u001b[0;32m<__array_function__ internals>:200\u001b[0m, in \u001b[0;36mdot\u001b[0;34m(*args, **kwargs)\u001b[0m\n",
      "\u001b[0;31mValueError\u001b[0m: shapes (1,20) and (1,10) not aligned: 20 (dim 1) != 1 (dim 0)"
     ]
    }
   ],
   "source": [
    "mylib3.fit(max_its = 10000,alpha_choice = 10**(-1))"
   ]
  },
  {
   "cell_type": "code",
   "execution_count": 138,
   "id": "1b02ccc9",
   "metadata": {},
   "outputs": [],
   "source": [
    "frames = 20\n"
   ]
  },
  {
   "cell_type": "markdown",
   "id": "9fd15c23",
   "metadata": {},
   "source": [
    "# 13.10 Hand Written Digit Recognition Using Neural Networks "
   ]
  },
  {
   "cell_type": "code",
   "execution_count": 183,
   "id": "4d50ca93",
   "metadata": {},
   "outputs": [],
   "source": [
    "from sklearn.model_selection import train_test_split"
   ]
  },
  {
   "cell_type": "code",
   "execution_count": 279,
   "id": "836aa84a",
   "metadata": {
    "scrolled": true
   },
   "outputs": [],
   "source": [
    "# get MNIST data from online repository\n",
    "from sklearn.datasets import fetch_openml\n",
    "x, y = fetch_openml('mnist_784', version=1, return_X_y=True)\n",
    "\n"
   ]
  },
  {
   "cell_type": "code",
   "execution_count": 280,
   "id": "59364f88",
   "metadata": {},
   "outputs": [
    {
     "name": "stdout",
     "output_type": "stream",
     "text": [
      "(70000, 784)\n",
      "(70000, 1)\n"
     ]
    }
   ],
   "source": [
    "# convert string labels to integers\n",
    "y = np.array([int(v) for v in y])[:,np.newaxis]\n",
    "\n",
    "print(np.shape(x))\n",
    "print(np.shape(y))"
   ]
  },
  {
   "cell_type": "code",
   "execution_count": 285,
   "id": "8f1a5cde",
   "metadata": {},
   "outputs": [],
   "source": [
    "x1 = x.T\n",
    "y1  = y.T"
   ]
  },
  {
   "cell_type": "code",
   "execution_count": 286,
   "id": "e5e8cd52",
   "metadata": {},
   "outputs": [],
   "source": [
    "# standard normalization function - with nan checker / filler in-er \n",
    "\n",
    "def standard_normalizer(x1):\n",
    "    # compute the mean and standard deviation of the input\n",
    "    x_means = np.nanmean(x1,axis = 1)[:,np.newaxis]\n",
    "    x_stds = np.nanstd(x1,axis = 1)[:,np.newaxis]\n",
    "    \n",
    "    # create standard normalizer function\n",
    "   \n",
    "    normalizer = lambda data: (data - x_means)/x_stds # create inverse standard normalizer\n",
    "    inverse_normalizer = lambda data: data*x_stds + x_means # return normalizer\n",
    "    \n",
    "    return normalizer,inverse_normalizer \n",
    "\n",
    "normalizer,inverse_normalizer = standard_normalizer(x1.T)\n",
    "x1 = normalizer(x1.T).T\n"
   ]
  },
  {
   "cell_type": "code",
   "execution_count": 331,
   "id": "cd906ba0",
   "metadata": {},
   "outputs": [],
   "source": [
    "x_sample, x_test = x[:50000],x[50000:]\n",
    "y_sample, y_test=y[:50000],y[50000:]"
   ]
  },
  {
   "cell_type": "code",
   "execution_count": 332,
   "id": "56330587",
   "metadata": {},
   "outputs": [],
   "source": [
    "shuffled = np.random.permutation(50000)\n",
    "x_sample = x_sample.iloc[shuffled] \n",
    "y_sample = y_sample[shuffled]"
   ]
  },
  {
   "cell_type": "code",
   "execution_count": 333,
   "id": "eca06f7b",
   "metadata": {},
   "outputs": [],
   "source": [
    "mylib4 = Setup3(x_sample,y_sample)"
   ]
  },
  {
   "cell_type": "code",
   "execution_count": 334,
   "id": "032e3ecf",
   "metadata": {},
   "outputs": [],
   "source": [
    "layer_sizes = [784,100,100,10]"
   ]
  },
  {
   "cell_type": "code",
   "execution_count": 335,
   "id": "5c7385bd",
   "metadata": {},
   "outputs": [],
   "source": [
    "mylib4.choose_features(name = 'multilayer_perceptron',layer_sizes = layer_sizes,activation = 'maxout',scale=0.1)"
   ]
  },
  {
   "cell_type": "code",
   "execution_count": 336,
   "id": "366a6287",
   "metadata": {},
   "outputs": [],
   "source": [
    "mylib4.choose_normalizer(name = 'standard')"
   ]
  },
  {
   "cell_type": "code",
   "execution_count": 337,
   "id": "9e25fac9",
   "metadata": {},
   "outputs": [
    {
     "ename": "InvalidIndexError",
     "evalue": "(slice(None, None, None), array([ 99, 223, 442, 376, 273, 643, 676, 702, 758, 204, 503,  19, 760,\n       186, 306,  53, 599, 363, 148, 578, 713,  28, 261,  51, 238, 270,\n         8, 312,  43,   4, 123, 766,  49, 726, 263, 604, 337, 269, 408,\n       111, 315, 600, 492, 521, 745, 241, 354, 341, 386, 747, 725, 342,\n        98, 384,  18,  86,  58,  64, 519, 455, 209, 479, 449, 407, 562,\n       162, 170, 303, 765, 435, 338, 775, 268, 502, 310,  25, 611, 200,\n       551, 552, 563, 731, 727,  69, 180, 323, 271, 360, 374, 299, 582,\n       151, 752, 179, 137, 232,  65, 222, 633,  15, 567,  61, 608,  20,\n       368, 672, 473,  93, 436,  80, 644, 149, 730, 501, 739, 593, 350,\n       524, 656,  76,   6, 175, 668,   1, 772, 509, 249, 565, 622, 348,\n       667, 700, 635, 648, 534, 533, 580,  67, 680, 621, 570,  88, 743,\n       486, 296, 738, 734,   7, 712, 532, 220, 441, 693, 741, 471, 781,\n       305, 185, 451, 462, 413,  23, 227, 681, 707, 780, 541, 155, 483,\n       757, 344, 389, 367, 579, 729, 477, 545, 601, 456, 419, 591, 352,\n       660, 345, 433, 634, 507, 301, 395,  35, 630, 645, 674, 288, 230,\n       432, 557,  24, 658,   3, 158, 587, 429, 121, 401, 190, 602, 351,\n       210, 242, 778,  92, 671, 276, 112, 317, 556, 423, 682, 612, 213,\n       536, 214, 128, 623, 629, 328, 628,  52, 168, 688, 539, 188, 197,\n       160, 259, 358, 690,  83, 239, 625, 718, 504, 133, 475, 490, 603,\n       382, 670, 192, 246, 616, 464, 516, 706, 349, 701, 531, 698, 357,\n       711, 481,  81, 549, 280, 617, 217,  73, 147, 231, 176, 225, 443,\n       257,  63,  85, 618, 664, 764,  32,  29, 145, 560, 181, 476, 282,\n        12,  16, 383, 588, 695,  96, 542, 398, 759, 109, 219,  27, 169,\n       446, 346, 125, 403, 347,  33, 590,  54,  71, 138, 548,   5, 669,\n       453, 773, 639, 171,  44, 189, 334, 636, 245, 653, 420,  82, 640,\n       375, 102, 777,  13, 550, 466, 183, 251, 364, 172, 748, 585,  22,\n       416, 140, 292, 697, 428, 275, 184, 229, 381, 330, 500, 196, 233,\n       592, 610, 152, 447, 744, 584, 746, 320, 256, 683, 353, 498, 207,\n       546, 448, 146, 515, 400, 325,  47, 626,  10, 234, 377, 212, 321,\n       710, 355, 465, 526, 525, 583, 289, 517, 696, 411, 182, 421, 414,\n       201, 285, 167,  38, 685, 326, 356, 136,  37, 405, 283, 689, 756,\n       637, 115, 117, 324, 371, 218, 114, 751, 426,  46, 547, 692,  75,\n       412, 119, 762, 512, 569, 393, 753, 108, 537, 332,  56, 215, 409,\n       763, 161, 106, 216, 104, 553,  62, 571, 253, 694, 776, 596, 373,\n       632, 107, 704, 703, 445, 638, 522, 771, 613, 540, 679,  77, 422,\n       736, 627, 424, 150, 474, 173, 783, 723, 506, 318, 675, 478, 406,\n       372, 410, 165,  94, 495, 469, 298, 397, 237, 459, 686, 425, 122,\n       770, 394, 178, 388, 174, 605, 430, 308,   2, 194, 530, 529, 359,\n       365, 597, 316, 313, 266, 740, 304, 663, 508, 513, 262, 472, 450,\n       258, 576, 684,  36, 291, 418, 458, 641, 143, 272, 124, 101, 295,\n       715, 568, 208, 652, 646, 520, 768, 720, 333, 699, 260, 485, 457,\n       221, 614, 387, 755, 651, 714, 279, 392, 236, 415, 286, 586, 577,\n       113,  90, 255, 678, 717, 572, 566, 491, 615, 440, 362, 244, 437,\n       366, 749, 267,  45, 322, 631, 518, 293, 274, 264, 100, 226,  41,\n        48, 103, 370, 254, 110, 211,  66, 380, 224, 131, 494, 277, 127,\n       493, 203, 735, 132, 199, 470, 129, 339, 467, 589,  17, 620, 497,\n        91, 284, 336, 116, 118, 126, 452, 558, 166, 454, 206,  95, 319,\n       535,  74, 654, 574, 659, 327, 737, 278, 544, 724,  39, 561, 297,\n       135, 157, 708, 732, 191, 647,  72,  79, 677, 156, 378, 527, 774,\n       650, 559, 307,  78,  87, 281, 329, 489, 141, 139, 294, 595,  97,\n       510, 673, 484]))",
     "output_type": "error",
     "traceback": [
      "\u001b[0;31m---------------------------------------------------------------------------\u001b[0m",
      "\u001b[0;31mTypeError\u001b[0m                                 Traceback (most recent call last)",
      "File \u001b[0;32m~/opt/anaconda3/lib/python3.9/site-packages/pandas/core/indexes/base.py:3802\u001b[0m, in \u001b[0;36mIndex.get_loc\u001b[0;34m(self, key, method, tolerance)\u001b[0m\n\u001b[1;32m   3801\u001b[0m \u001b[38;5;28;01mtry\u001b[39;00m:\n\u001b[0;32m-> 3802\u001b[0m     \u001b[38;5;28;01mreturn\u001b[39;00m \u001b[38;5;28;43mself\u001b[39;49m\u001b[38;5;241;43m.\u001b[39;49m\u001b[43m_engine\u001b[49m\u001b[38;5;241;43m.\u001b[39;49m\u001b[43mget_loc\u001b[49m\u001b[43m(\u001b[49m\u001b[43mcasted_key\u001b[49m\u001b[43m)\u001b[49m\n\u001b[1;32m   3803\u001b[0m \u001b[38;5;28;01mexcept\u001b[39;00m \u001b[38;5;167;01mKeyError\u001b[39;00m \u001b[38;5;28;01mas\u001b[39;00m err:\n",
      "File \u001b[0;32m~/opt/anaconda3/lib/python3.9/site-packages/pandas/_libs/index.pyx:138\u001b[0m, in \u001b[0;36mpandas._libs.index.IndexEngine.get_loc\u001b[0;34m()\u001b[0m\n",
      "File \u001b[0;32m~/opt/anaconda3/lib/python3.9/site-packages/pandas/_libs/index.pyx:144\u001b[0m, in \u001b[0;36mpandas._libs.index.IndexEngine.get_loc\u001b[0;34m()\u001b[0m\n",
      "\u001b[0;31mTypeError\u001b[0m: '(slice(None, None, None), array([ 99, 223, 442, 376, 273, 643, 676, 702, 758, 204, 503,  19, 760,\n       186, 306,  53, 599, 363, 148, 578, 713,  28, 261,  51, 238, 270,\n         8, 312,  43,   4, 123, 766,  49, 726, 263, 604, 337, 269, 408,\n       111, 315, 600, 492, 521, 745, 241, 354, 341, 386, 747, 725, 342,\n        98, 384,  18,  86,  58,  64, 519, 455, 209, 479, 449, 407, 562,\n       162, 170, 303, 765, 435, 338, 775, 268, 502, 310,  25, 611, 200,\n       551, 552, 563, 731, 727,  69, 180, 323, 271, 360, 374, 299, 582,\n       151, 752, 179, 137, 232,  65, 222, 633,  15, 567,  61, 608,  20,\n       368, 672, 473,  93, 436,  80, 644, 149, 730, 501, 739, 593, 350,\n       524, 656,  76,   6, 175, 668,   1, 772, 509, 249, 565, 622, 348,\n       667, 700, 635, 648, 534, 533, 580,  67, 680, 621, 570,  88, 743,\n       486, 296, 738, 734,   7, 712, 532, 220, 441, 693, 741, 471, 781,\n       305, 185, 451, 462, 413,  23, 227, 681, 707, 780, 541, 155, 483,\n       757, 344, 389, 367, 579, 729, 477, 545, 601, 456, 419, 591, 352,\n       660, 345, 433, 634, 507, 301, 395,  35, 630, 645, 674, 288, 230,\n       432, 557,  24, 658,   3, 158, 587, 429, 121, 401, 190, 602, 351,\n       210, 242, 778,  92, 671, 276, 112, 317, 556, 423, 682, 612, 213,\n       536, 214, 128, 623, 629, 328, 628,  52, 168, 688, 539, 188, 197,\n       160, 259, 358, 690,  83, 239, 625, 718, 504, 133, 475, 490, 603,\n       382, 670, 192, 246, 616, 464, 516, 706, 349, 701, 531, 698, 357,\n       711, 481,  81, 549, 280, 617, 217,  73, 147, 231, 176, 225, 443,\n       257,  63,  85, 618, 664, 764,  32,  29, 145, 560, 181, 476, 282,\n        12,  16, 383, 588, 695,  96, 542, 398, 759, 109, 219,  27, 169,\n       446, 346, 125, 403, 347,  33, 590,  54,  71, 138, 548,   5, 669,\n       453, 773, 639, 171,  44, 189, 334, 636, 245, 653, 420,  82, 640,\n       375, 102, 777,  13, 550, 466, 183, 251, 364, 172, 748, 585,  22,\n       416, 140, 292, 697, 428, 275, 184, 229, 381, 330, 500, 196, 233,\n       592, 610, 152, 447, 744, 584, 746, 320, 256, 683, 353, 498, 207,\n       546, 448, 146, 515, 400, 325,  47, 626,  10, 234, 377, 212, 321,\n       710, 355, 465, 526, 525, 583, 289, 517, 696, 411, 182, 421, 414,\n       201, 285, 167,  38, 685, 326, 356, 136,  37, 405, 283, 689, 756,\n       637, 115, 117, 324, 371, 218, 114, 751, 426,  46, 547, 692,  75,\n       412, 119, 762, 512, 569, 393, 753, 108, 537, 332,  56, 215, 409,\n       763, 161, 106, 216, 104, 553,  62, 571, 253, 694, 776, 596, 373,\n       632, 107, 704, 703, 445, 638, 522, 771, 613, 540, 679,  77, 422,\n       736, 627, 424, 150, 474, 173, 783, 723, 506, 318, 675, 478, 406,\n       372, 410, 165,  94, 495, 469, 298, 397, 237, 459, 686, 425, 122,\n       770, 394, 178, 388, 174, 605, 430, 308,   2, 194, 530, 529, 359,\n       365, 597, 316, 313, 266, 740, 304, 663, 508, 513, 262, 472, 450,\n       258, 576, 684,  36, 291, 418, 458, 641, 143, 272, 124, 101, 295,\n       715, 568, 208, 652, 646, 520, 768, 720, 333, 699, 260, 485, 457,\n       221, 614, 387, 755, 651, 714, 279, 392, 236, 415, 286, 586, 577,\n       113,  90, 255, 678, 717, 572, 566, 491, 615, 440, 362, 244, 437,\n       366, 749, 267,  45, 322, 631, 518, 293, 274, 264, 100, 226,  41,\n        48, 103, 370, 254, 110, 211,  66, 380, 224, 131, 494, 277, 127,\n       493, 203, 735, 132, 199, 470, 129, 339, 467, 589,  17, 620, 497,\n        91, 284, 336, 116, 118, 126, 452, 558, 166, 454, 206,  95, 319,\n       535,  74, 654, 574, 659, 327, 737, 278, 544, 724,  39, 561, 297,\n       135, 157, 708, 732, 191, 647,  72,  79, 677, 156, 378, 527, 774,\n       650, 559, 307,  78,  87, 281, 329, 489, 141, 139, 294, 595,  97,\n       510, 673, 484]))' is an invalid key",
      "\nDuring handling of the above exception, another exception occurred:\n",
      "\u001b[0;31mInvalidIndexError\u001b[0m                         Traceback (most recent call last)",
      "Cell \u001b[0;32mIn[337], line 2\u001b[0m\n\u001b[1;32m      1\u001b[0m \u001b[38;5;66;03m# split into training and testing sets\u001b[39;00m\n\u001b[0;32m----> 2\u001b[0m \u001b[43mmylib4\u001b[49m\u001b[38;5;241;43m.\u001b[39;49m\u001b[43mmake_train_valid_split\u001b[49m\u001b[43m(\u001b[49m\u001b[43mtrain_portion\u001b[49m\u001b[43m \u001b[49m\u001b[38;5;241;43m=\u001b[39;49m\u001b[43m \u001b[49m\u001b[38;5;241;43m5\u001b[39;49m\u001b[38;5;241;43m/\u001b[39;49m\u001b[38;5;241;43m6\u001b[39;49m\u001b[43m)\u001b[49m\n",
      "Cell \u001b[0;32mIn[330], line 59\u001b[0m, in \u001b[0;36mSetup3.make_train_valid_split\u001b[0;34m(self, train_portion)\u001b[0m\n\u001b[1;32m     56\u001b[0m \u001b[38;5;28mself\u001b[39m\u001b[38;5;241m.\u001b[39mvalid_inds \u001b[38;5;241m=\u001b[39m r[train_num:]\n\u001b[1;32m     58\u001b[0m \u001b[38;5;66;03m# define training and validation sets\u001b[39;00m\n\u001b[0;32m---> 59\u001b[0m \u001b[38;5;28mself\u001b[39m\u001b[38;5;241m.\u001b[39mx_train \u001b[38;5;241m=\u001b[39m \u001b[38;5;28;43mself\u001b[39;49m\u001b[38;5;241;43m.\u001b[39;49m\u001b[43mx\u001b[49m\u001b[43m[\u001b[49m\u001b[43m:\u001b[49m\u001b[43m,\u001b[49m\u001b[38;5;28;43mself\u001b[39;49m\u001b[38;5;241;43m.\u001b[39;49m\u001b[43mtrain_inds\u001b[49m\u001b[43m]\u001b[49m\n\u001b[1;32m     60\u001b[0m \u001b[38;5;28mself\u001b[39m\u001b[38;5;241m.\u001b[39mx_valid \u001b[38;5;241m=\u001b[39m \u001b[38;5;28mself\u001b[39m\u001b[38;5;241m.\u001b[39mx[:,\u001b[38;5;28mself\u001b[39m\u001b[38;5;241m.\u001b[39mvalid_inds]\n\u001b[1;32m     62\u001b[0m \u001b[38;5;28mself\u001b[39m\u001b[38;5;241m.\u001b[39my_train \u001b[38;5;241m=\u001b[39m \u001b[38;5;28mself\u001b[39m\u001b[38;5;241m.\u001b[39my[:,\u001b[38;5;28mself\u001b[39m\u001b[38;5;241m.\u001b[39mtrain_inds]\n",
      "File \u001b[0;32m~/opt/anaconda3/lib/python3.9/site-packages/pandas/core/frame.py:3807\u001b[0m, in \u001b[0;36mDataFrame.__getitem__\u001b[0;34m(self, key)\u001b[0m\n\u001b[1;32m   3805\u001b[0m \u001b[38;5;28;01mif\u001b[39;00m \u001b[38;5;28mself\u001b[39m\u001b[38;5;241m.\u001b[39mcolumns\u001b[38;5;241m.\u001b[39mnlevels \u001b[38;5;241m>\u001b[39m \u001b[38;5;241m1\u001b[39m:\n\u001b[1;32m   3806\u001b[0m     \u001b[38;5;28;01mreturn\u001b[39;00m \u001b[38;5;28mself\u001b[39m\u001b[38;5;241m.\u001b[39m_getitem_multilevel(key)\n\u001b[0;32m-> 3807\u001b[0m indexer \u001b[38;5;241m=\u001b[39m \u001b[38;5;28;43mself\u001b[39;49m\u001b[38;5;241;43m.\u001b[39;49m\u001b[43mcolumns\u001b[49m\u001b[38;5;241;43m.\u001b[39;49m\u001b[43mget_loc\u001b[49m\u001b[43m(\u001b[49m\u001b[43mkey\u001b[49m\u001b[43m)\u001b[49m\n\u001b[1;32m   3808\u001b[0m \u001b[38;5;28;01mif\u001b[39;00m is_integer(indexer):\n\u001b[1;32m   3809\u001b[0m     indexer \u001b[38;5;241m=\u001b[39m [indexer]\n",
      "File \u001b[0;32m~/opt/anaconda3/lib/python3.9/site-packages/pandas/core/indexes/base.py:3809\u001b[0m, in \u001b[0;36mIndex.get_loc\u001b[0;34m(self, key, method, tolerance)\u001b[0m\n\u001b[1;32m   3804\u001b[0m         \u001b[38;5;28;01mraise\u001b[39;00m \u001b[38;5;167;01mKeyError\u001b[39;00m(key) \u001b[38;5;28;01mfrom\u001b[39;00m \u001b[38;5;21;01merr\u001b[39;00m\n\u001b[1;32m   3805\u001b[0m     \u001b[38;5;28;01mexcept\u001b[39;00m \u001b[38;5;167;01mTypeError\u001b[39;00m:\n\u001b[1;32m   3806\u001b[0m         \u001b[38;5;66;03m# If we have a listlike key, _check_indexing_error will raise\u001b[39;00m\n\u001b[1;32m   3807\u001b[0m         \u001b[38;5;66;03m#  InvalidIndexError. Otherwise we fall through and re-raise\u001b[39;00m\n\u001b[1;32m   3808\u001b[0m         \u001b[38;5;66;03m#  the TypeError.\u001b[39;00m\n\u001b[0;32m-> 3809\u001b[0m         \u001b[38;5;28;43mself\u001b[39;49m\u001b[38;5;241;43m.\u001b[39;49m\u001b[43m_check_indexing_error\u001b[49m\u001b[43m(\u001b[49m\u001b[43mkey\u001b[49m\u001b[43m)\u001b[49m\n\u001b[1;32m   3810\u001b[0m         \u001b[38;5;28;01mraise\u001b[39;00m\n\u001b[1;32m   3812\u001b[0m \u001b[38;5;66;03m# GH#42269\u001b[39;00m\n",
      "File \u001b[0;32m~/opt/anaconda3/lib/python3.9/site-packages/pandas/core/indexes/base.py:5925\u001b[0m, in \u001b[0;36mIndex._check_indexing_error\u001b[0;34m(self, key)\u001b[0m\n\u001b[1;32m   5921\u001b[0m \u001b[38;5;28;01mdef\u001b[39;00m \u001b[38;5;21m_check_indexing_error\u001b[39m(\u001b[38;5;28mself\u001b[39m, key):\n\u001b[1;32m   5922\u001b[0m     \u001b[38;5;28;01mif\u001b[39;00m \u001b[38;5;129;01mnot\u001b[39;00m is_scalar(key):\n\u001b[1;32m   5923\u001b[0m         \u001b[38;5;66;03m# if key is not a scalar, directly raise an error (the code below\u001b[39;00m\n\u001b[1;32m   5924\u001b[0m         \u001b[38;5;66;03m# would convert to numpy arrays and raise later any way) - GH29926\u001b[39;00m\n\u001b[0;32m-> 5925\u001b[0m         \u001b[38;5;28;01mraise\u001b[39;00m InvalidIndexError(key)\n",
      "\u001b[0;31mInvalidIndexError\u001b[0m: (slice(None, None, None), array([ 99, 223, 442, 376, 273, 643, 676, 702, 758, 204, 503,  19, 760,\n       186, 306,  53, 599, 363, 148, 578, 713,  28, 261,  51, 238, 270,\n         8, 312,  43,   4, 123, 766,  49, 726, 263, 604, 337, 269, 408,\n       111, 315, 600, 492, 521, 745, 241, 354, 341, 386, 747, 725, 342,\n        98, 384,  18,  86,  58,  64, 519, 455, 209, 479, 449, 407, 562,\n       162, 170, 303, 765, 435, 338, 775, 268, 502, 310,  25, 611, 200,\n       551, 552, 563, 731, 727,  69, 180, 323, 271, 360, 374, 299, 582,\n       151, 752, 179, 137, 232,  65, 222, 633,  15, 567,  61, 608,  20,\n       368, 672, 473,  93, 436,  80, 644, 149, 730, 501, 739, 593, 350,\n       524, 656,  76,   6, 175, 668,   1, 772, 509, 249, 565, 622, 348,\n       667, 700, 635, 648, 534, 533, 580,  67, 680, 621, 570,  88, 743,\n       486, 296, 738, 734,   7, 712, 532, 220, 441, 693, 741, 471, 781,\n       305, 185, 451, 462, 413,  23, 227, 681, 707, 780, 541, 155, 483,\n       757, 344, 389, 367, 579, 729, 477, 545, 601, 456, 419, 591, 352,\n       660, 345, 433, 634, 507, 301, 395,  35, 630, 645, 674, 288, 230,\n       432, 557,  24, 658,   3, 158, 587, 429, 121, 401, 190, 602, 351,\n       210, 242, 778,  92, 671, 276, 112, 317, 556, 423, 682, 612, 213,\n       536, 214, 128, 623, 629, 328, 628,  52, 168, 688, 539, 188, 197,\n       160, 259, 358, 690,  83, 239, 625, 718, 504, 133, 475, 490, 603,\n       382, 670, 192, 246, 616, 464, 516, 706, 349, 701, 531, 698, 357,\n       711, 481,  81, 549, 280, 617, 217,  73, 147, 231, 176, 225, 443,\n       257,  63,  85, 618, 664, 764,  32,  29, 145, 560, 181, 476, 282,\n        12,  16, 383, 588, 695,  96, 542, 398, 759, 109, 219,  27, 169,\n       446, 346, 125, 403, 347,  33, 590,  54,  71, 138, 548,   5, 669,\n       453, 773, 639, 171,  44, 189, 334, 636, 245, 653, 420,  82, 640,\n       375, 102, 777,  13, 550, 466, 183, 251, 364, 172, 748, 585,  22,\n       416, 140, 292, 697, 428, 275, 184, 229, 381, 330, 500, 196, 233,\n       592, 610, 152, 447, 744, 584, 746, 320, 256, 683, 353, 498, 207,\n       546, 448, 146, 515, 400, 325,  47, 626,  10, 234, 377, 212, 321,\n       710, 355, 465, 526, 525, 583, 289, 517, 696, 411, 182, 421, 414,\n       201, 285, 167,  38, 685, 326, 356, 136,  37, 405, 283, 689, 756,\n       637, 115, 117, 324, 371, 218, 114, 751, 426,  46, 547, 692,  75,\n       412, 119, 762, 512, 569, 393, 753, 108, 537, 332,  56, 215, 409,\n       763, 161, 106, 216, 104, 553,  62, 571, 253, 694, 776, 596, 373,\n       632, 107, 704, 703, 445, 638, 522, 771, 613, 540, 679,  77, 422,\n       736, 627, 424, 150, 474, 173, 783, 723, 506, 318, 675, 478, 406,\n       372, 410, 165,  94, 495, 469, 298, 397, 237, 459, 686, 425, 122,\n       770, 394, 178, 388, 174, 605, 430, 308,   2, 194, 530, 529, 359,\n       365, 597, 316, 313, 266, 740, 304, 663, 508, 513, 262, 472, 450,\n       258, 576, 684,  36, 291, 418, 458, 641, 143, 272, 124, 101, 295,\n       715, 568, 208, 652, 646, 520, 768, 720, 333, 699, 260, 485, 457,\n       221, 614, 387, 755, 651, 714, 279, 392, 236, 415, 286, 586, 577,\n       113,  90, 255, 678, 717, 572, 566, 491, 615, 440, 362, 244, 437,\n       366, 749, 267,  45, 322, 631, 518, 293, 274, 264, 100, 226,  41,\n        48, 103, 370, 254, 110, 211,  66, 380, 224, 131, 494, 277, 127,\n       493, 203, 735, 132, 199, 470, 129, 339, 467, 589,  17, 620, 497,\n        91, 284, 336, 116, 118, 126, 452, 558, 166, 454, 206,  95, 319,\n       535,  74, 654, 574, 659, 327, 737, 278, 544, 724,  39, 561, 297,\n       135, 157, 708, 732, 191, 647,  72,  79, 677, 156, 378, 527, 774,\n       650, 559, 307,  78,  87, 281, 329, 489, 141, 139, 294, 595,  97,\n       510, 673, 484]))"
     ]
    }
   ],
   "source": [
    "# split into training and testing sets\n",
    "mylib4.make_train_valid_split(train_portion = 5/6)"
   ]
  },
  {
   "cell_type": "code",
   "execution_count": 338,
   "id": "36cfcb7c",
   "metadata": {},
   "outputs": [
    {
     "ename": "TypeError",
     "evalue": "__init__() takes 2 positional arguments but 5 were given",
     "output_type": "error",
     "traceback": [
      "\u001b[0;31m---------------------------------------------------------------------------\u001b[0m",
      "\u001b[0;31mTypeError\u001b[0m                                 Traceback (most recent call last)",
      "Cell \u001b[0;32mIn[338], line 2\u001b[0m\n\u001b[1;32m      1\u001b[0m \u001b[38;5;66;03m# choose cost\u001b[39;00m\n\u001b[0;32m----> 2\u001b[0m \u001b[43mmylib4\u001b[49m\u001b[38;5;241;43m.\u001b[39;49m\u001b[43mchoose_cost\u001b[49m\u001b[43m(\u001b[49m\u001b[43mname\u001b[49m\u001b[43m \u001b[49m\u001b[38;5;241;43m=\u001b[39;49m\u001b[43m \u001b[49m\u001b[38;5;124;43m'\u001b[39;49m\u001b[38;5;124;43mmulticlass_softmax\u001b[39;49m\u001b[38;5;124;43m'\u001b[39;49m\u001b[43m)\u001b[49m\n",
      "Cell \u001b[0;32mIn[330], line 68\u001b[0m, in \u001b[0;36mSetup3.choose_cost\u001b[0;34m(self, name, **kwargs)\u001b[0m\n\u001b[1;32m     66\u001b[0m \u001b[38;5;28;01mdef\u001b[39;00m \u001b[38;5;21mchoose_cost\u001b[39m(\u001b[38;5;28mself\u001b[39m,name,\u001b[38;5;241m*\u001b[39m\u001b[38;5;241m*\u001b[39mkwargs):\n\u001b[1;32m     67\u001b[0m     \u001b[38;5;66;03m# create cost on entire dataset\u001b[39;00m\n\u001b[0;32m---> 68\u001b[0m     funcs \u001b[38;5;241m=\u001b[39m \u001b[43mcost_functions\u001b[49m\u001b[38;5;241;43m.\u001b[39;49m\u001b[43mSetup\u001b[49m\u001b[43m(\u001b[49m\u001b[43mname\u001b[49m\u001b[43m,\u001b[49m\u001b[38;5;28;43mself\u001b[39;49m\u001b[38;5;241;43m.\u001b[39;49m\u001b[43mx\u001b[49m\u001b[43m,\u001b[49m\u001b[38;5;28;43mself\u001b[39;49m\u001b[38;5;241;43m.\u001b[39;49m\u001b[43my\u001b[49m\u001b[43m,\u001b[49m\u001b[38;5;28;43mself\u001b[39;49m\u001b[38;5;241;43m.\u001b[39;49m\u001b[43mfeature_transforms\u001b[49m\u001b[43m,\u001b[49m\u001b[38;5;241;43m*\u001b[39;49m\u001b[38;5;241;43m*\u001b[39;49m\u001b[43mkwargs\u001b[49m\u001b[43m)\u001b[49m\n\u001b[1;32m     69\u001b[0m     \u001b[38;5;28mself\u001b[39m\u001b[38;5;241m.\u001b[39mfull_cost \u001b[38;5;241m=\u001b[39m funcs\u001b[38;5;241m.\u001b[39mcost\n\u001b[1;32m     70\u001b[0m     \u001b[38;5;28mself\u001b[39m\u001b[38;5;241m.\u001b[39mfull_model \u001b[38;5;241m=\u001b[39m funcs\u001b[38;5;241m.\u001b[39mmodel\n",
      "\u001b[0;31mTypeError\u001b[0m: __init__() takes 2 positional arguments but 5 were given"
     ]
    }
   ],
   "source": [
    "# choose cost\n",
    "mylib4.choose_cost(name = 'multiclass_softmax')"
   ]
  },
  {
   "cell_type": "code",
   "execution_count": 340,
   "id": "3bfe54e7",
   "metadata": {},
   "outputs": [
    {
     "ename": "SyntaxError",
     "evalue": "positional argument follows keyword argument (3361470581.py, line 2)",
     "output_type": "error",
     "traceback": [
      "\u001b[0;36m  Cell \u001b[0;32mIn[340], line 2\u001b[0;36m\u001b[0m\n\u001b[0;31m    mylib4.fit(optimizer = 'gradient_descent',max_its = 100,alpha_choice = 10**(-1),b atch_size = 500,verbose = True,version = 'standard')\u001b[0m\n\u001b[0m                                                                                      ^\u001b[0m\n\u001b[0;31mSyntaxError\u001b[0m\u001b[0;31m:\u001b[0m positional argument follows keyword argument\n"
     ]
    }
   ],
   "source": [
    "# fit an optimization\n",
    "mylib4.fit(optimizer = 'gradient_descent',max_its = 100,alpha_choice = 10**(-1),b atch_size = 500,verbose = True,version = 'standard')"
   ]
  },
  {
   "cell_type": "code",
   "execution_count": null,
   "id": "931a3b00",
   "metadata": {},
   "outputs": [],
   "source": []
  }
 ],
 "metadata": {
  "@webio": {
   "lastCommId": null,
   "lastKernelId": null
  },
  "kernelspec": {
   "display_name": "Python 3 (ipykernel)",
   "language": "python",
   "name": "python3"
  },
  "language_info": {
   "codemirror_mode": {
    "name": "ipython",
    "version": 3
   },
   "file_extension": ".py",
   "mimetype": "text/x-python",
   "name": "python",
   "nbconvert_exporter": "python",
   "pygments_lexer": "ipython3",
   "version": "3.9.12"
  }
 },
 "nbformat": 4,
 "nbformat_minor": 5
}
