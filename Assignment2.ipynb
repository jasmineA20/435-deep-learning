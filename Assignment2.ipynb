{
 "cells": [
  {
   "cell_type": "code",
   "execution_count": 97,
   "id": "60e78549",
   "metadata": {},
   "outputs": [],
   "source": [
    "import os \n",
    "import pandas as pd"
   ]
  },
  {
   "cell_type": "code",
   "execution_count": 98,
   "id": "bcd21b03",
   "metadata": {},
   "outputs": [],
   "source": [
    "import autograd.numpy as np"
   ]
  },
  {
   "cell_type": "code",
   "execution_count": 99,
   "id": "9d04f01c",
   "metadata": {},
   "outputs": [],
   "source": [
    "import matplotlib.pyplot as plt\n",
    "from matplotlib import gridspec "
   ]
  },
  {
   "cell_type": "code",
   "execution_count": 100,
   "id": "f1b112eb",
   "metadata": {},
   "outputs": [],
   "source": [
    "import autograd.numpy as np\n",
    "from autograd import grad"
   ]
  },
  {
   "cell_type": "markdown",
   "id": "74427a50",
   "metadata": {},
   "source": [
    "# Exercise 13.1. Two-class classification with neural networks"
   ]
  },
  {
   "cell_type": "code",
   "execution_count": 108,
   "id": "3c716f2f",
   "metadata": {},
   "outputs": [
    {
     "name": "stdout",
     "output_type": "stream",
     "text": [
      "(2, 96)\n",
      "(1, 96)\n"
     ]
    }
   ],
   "source": [
    "#data = pd.read_csv('/Users/jazz13/Desktop/2_eggs.csv', delimiter =',')\n",
    "data = np.loadtxt('/Users/jazz13/Desktop/GitHub_Files/435-deep-learning/2_eggs.csv', delimiter=',')\n",
    "x = data[:2,:]\n",
    "y = data[2,:][np.newaxis,:]\n",
    "\n",
    "print(np.shape(x))\n",
    "print(np.shape(y))"
   ]
  },
  {
   "cell_type": "code",
   "execution_count": 109,
   "id": "97c2570f",
   "metadata": {},
   "outputs": [],
   "source": [
    "# Creating a network with 4 hidden layers with 10 units in each layer.\n",
    "N   = 2 #dimension of input \n",
    "C   = 1 #dimension of output \n",
    "U_1 = 10\n",
    "U_2 = 10\n",
    "U_3 = 10\n",
    "U_4 = 10\n",
    "layer_sizes = [N, U_1, U_2, U_3,U_4,C]\n"
   ]
  },
  {
   "cell_type": "code",
   "execution_count": 118,
   "id": "0d58f3ff",
   "metadata": {},
   "outputs": [],
   "source": [
    "# normalize the inputs first \n",
    "def normlaize(x):\n",
    "    # compute the mean and standard deviation of the input\n",
    "    x_mean = np.mean(x)\n",
    "    x_std = np.std(x)\n",
    "    x_norm = (x - x_mean)/float(x_std)\n",
    "    return x_norm"
   ]
  },
  {
   "cell_type": "code",
   "execution_count": 111,
   "id": "452ff838",
   "metadata": {},
   "outputs": [],
   "source": [
    "# activation function\n",
    "def activation(a):   \n",
    "    #return np.maximum(0,a)\n",
    "    return np.tanh(a)"
   ]
  },
  {
   "cell_type": "code",
   "execution_count": 112,
   "id": "2582a06c",
   "metadata": {},
   "outputs": [],
   "source": [
    "def softmax(x,y,w):\n",
    "    cost = np.sum(np.log(1 + np.exp(-y*model(x,w).T)))\n",
    "    return cost/float(np.size(y))"
   ]
  },
  {
   "cell_type": "code",
   "execution_count": 113,
   "id": "4d74b709",
   "metadata": {},
   "outputs": [],
   "source": [
    "def feature_transforms(a,w):    \n",
    "    for W in w: # loop through each layer        \n",
    "        a = W[0] + np.dot(a.T ,  W[1:])        \n",
    "        a = activation(a).T    \n",
    "    return a"
   ]
  },
  {
   "cell_type": "code",
   "execution_count": 114,
   "id": "0999251c",
   "metadata": {},
   "outputs": [],
   "source": [
    "def model (x, theta):\n",
    "    # x is input (multiple input for every data sample)    \n",
    "    f = feature_transforms(x, theta[0])    \n",
    "    a = theta[1][0] + np.dot(f.T, theta[1][1:])    \n",
    "    return a"
   ]
  },
  {
   "cell_type": "code",
   "execution_count": 115,
   "id": "f037e33a",
   "metadata": {},
   "outputs": [],
   "source": [
    "# create initial weights for a neural network model\n",
    "def network_initializer(layer_sizes, scale):\n",
    "\n",
    "    # container for all tunable weights\n",
    "    weights = []\n",
    "       \n",
    "    # create appropriately -sized initial\n",
    "    # weight matrix for each layer of network\n",
    "    #print( len( layer_sizes ) -1)\n",
    "    for k in range ( len( layer_sizes ) -1):\n",
    "    \n",
    "        # get layer sizes for current weight matrix\n",
    "        U_k = layer_sizes[k]\n",
    "        U_k_plus_1 = layer_sizes[k +1]\n",
    "       \n",
    "        # make weight matrix\n",
    "        weight = scale* np.random.randn(U_k+ 1, U_k_plus_1 )\n",
    "        weights.append(weight)\n",
    "        \n",
    "    # repackage weights so that theta_init [0] contains all\n",
    "    # weight matrices internal to the network , and theta_init [1]\n",
    "    # contains final linear combination weights\n",
    "    theta_init = [ weights[: -1], weights[ -1]]\n",
    "\n",
    "    return theta_init"
   ]
  },
  {
   "cell_type": "code",
   "execution_count": 116,
   "id": "df4c6def",
   "metadata": {},
   "outputs": [],
   "source": [
    " # gradient descent function\n",
    "def gradient_descent (x,y,g, alpha , max_its, w):\n",
    "    # compute gradient module using autograd\n",
    "    gradient = grad(g)\n",
    "    acc = accuracy(x, y, w)\n",
    "    \n",
    "    # gradient descent loop\n",
    "    #weight_history = [w] # weight history container\n",
    "    cost_history = [g(w)] # cost function history container\n",
    "    accuracy_histroy = [acc]\n",
    "    iters =[0]\n",
    "    for k in range( max_its ):\n",
    "    \n",
    "        # evaluate the gradient\n",
    "        grad_eval = gradient(w)\n",
    "            \n",
    "        for i in range(len(w[0])):\n",
    "            w[0][i] = w[0][i] - alpha* grad_eval[0][i]\n",
    "            \n",
    "        w[1] = w[1] - alpha* grad_eval[1]\n",
    "        \n",
    "        acc = accuracy(x, y, w)\n",
    "        # record weight and cost\n",
    "        #weight_history. append(w)\n",
    "        cost_history.append(g(w))\n",
    "        iters.append(k+1)\n",
    "        accuracy_histroy.append(acc)\n",
    "        \n",
    "    return  iters, w, cost_history, accuracy_histroy\n",
    "    \n",
    "    "
   ]
  },
  {
   "cell_type": "code",
   "execution_count": 124,
   "id": "416882c8",
   "metadata": {},
   "outputs": [],
   "source": [
    "def accuracy(x,y,w):\n",
    "    y_predict = np.sign( model(x,w))\n",
    "    \n",
    "    return np.sum( (y_predict == y.T) ) / float(np.size(y))"
   ]
  },
  {
   "cell_type": "code",
   "execution_count": 123,
   "id": "5e5214a8",
   "metadata": {},
   "outputs": [
    {
     "data": {
      "text/plain": [
       "[<matplotlib.lines.Line2D at 0x7fda6d9f9c70>]"
      ]
     },
     "execution_count": 123,
     "metadata": {},
     "output_type": "execute_result"
    },
    {
     "data": {
      "image/png": "[encoded data removed]",
      "text/plain": [
       "<Figure size 432x288 with 1 Axes>"
      ]
     },
     "metadata": {
      "needs_background": "light"
     },
     "output_type": "display_data"
    },
    {
     "data": {
      "image/png": "[encoded data removed]",
      "text/plain": [
       "<Figure size 432x288 with 1 Axes>"
      ]
     },
     "metadata": {
      "needs_background": "light"
     },
     "output_type": "display_data"
    }
   ],
   "source": [
    "x_normalized = normlaize(x)\n",
    "\n",
    "scale = 1\n",
    "\n",
    "theta_init = network_initializer(layer_sizes,scale)\n",
    "\n",
    "theta = theta_init\n",
    "\n",
    "alpha = 0.01\n",
    "max_its = 2000\n",
    "\n",
    "g = lambda w: softmax(x_normalized,y,w)\n",
    "\n",
    "iters, theta, cost_history, acc_history = gradient_descent(x_normalized,y,g, alpha , max_its, theta)\n",
    "y_predict = (model(x_normalized, theta))\n",
    "\n",
    "plt.figure(1)\n",
    "plt.xlabel('iteration')\n",
    "plt.ylabel('cost function')\n",
    "plt.plot(iters, cost_history)\n",
    "\n",
    "plt.figure(2)\n",
    "plt.xlabel('iteration')\n",
    "plt.ylabel('accuracy')\n",
    "plt.plot(iters, acc_history)"
   ]
  },
  {
   "cell_type": "markdown",
   "id": "6e357d2c",
   "metadata": {},
   "source": [
    "# Exercise 13.2 .Multi Class Classification Neural Networks"
   ]
  },
  {
   "cell_type": "code",
   "execution_count": 126,
   "id": "e8ab005e",
   "metadata": {},
   "outputs": [
    {
     "name": "stdout",
     "output_type": "stream",
     "text": [
      "(2, 110)\n",
      "(1, 110)\n"
     ]
    }
   ],
   "source": [
    "data = np.loadtxt('/Users/jazz13/Desktop/GitHub_Files/435-deep-learning/3_layercake_data.csv', delimiter=',')\n",
    "x = data[:2,:]\n",
    "y = data[2,:][np.newaxis,:]\n",
    "\n",
    "print(np.shape(x))\n",
    "print(np.shape(y))"
   ]
  },
  {
   "cell_type": "code",
   "execution_count": 144,
   "id": "ae447d25",
   "metadata": {},
   "outputs": [],
   "source": [
    "N   = 2 #dimension of input \n",
    "C   = 3 #dimension of output \n",
    "U_1 = 12\n",
    "U_2 = 5\n",
    "layer_sizes = [N, U_1, U_2,C]"
   ]
  },
  {
   "cell_type": "code",
   "execution_count": 163,
   "id": "d0608474",
   "metadata": {},
   "outputs": [],
   "source": [
    "def multiclass_softmax(w,x,y,iter):     \n",
    "     # get subset of points\n",
    "        all_evals = model(x,w)\n",
    "        # compute softmax across data points\n",
    "        a = np.log(np.sum(np.exp(all_evals))) \n",
    "\n",
    "        # compute cost in compact form using numpy broadcasting\n",
    "        cost = np.sum(a -y.astype(int).flatten())\n",
    "\n",
    "        # return average\n",
    "        return cost/float(np.size(y))"
   ]
  },
  {
   "cell_type": "code",
   "execution_count": 164,
   "id": "2aacf6e8",
   "metadata": {},
   "outputs": [
    {
     "name": "stderr",
     "output_type": "stream",
     "text": [
      "/var/folders/85/0qv3zvwx1r5_c57bw919zvpc0000gn/T/ipykernel_42252/575490115.py:3: RuntimeWarning: invalid value encountered in add\n",
      "  a = W[0] + np.dot(a.T ,  W[1:])\n"
     ]
    },
    {
     "data": {
      "text/plain": [
       "[<matplotlib.lines.Line2D at 0x7fda701540d0>]"
      ]
     },
     "execution_count": 164,
     "metadata": {},
     "output_type": "execute_result"
    },
    {
     "data": {
      "image/png": "[encoded data removed]",
      "text/plain": [
       "<Figure size 432x288 with 1 Axes>"
      ]
     },
     "metadata": {
      "needs_background": "light"
     },
     "output_type": "display_data"
    },
    {
     "data": {
      "image/png": "[encoded data removed]",
      "text/plain": [
       "<Figure size 432x288 with 1 Axes>"
      ]
     },
     "metadata": {
      "needs_background": "light"
     },
     "output_type": "display_data"
    }
   ],
   "source": [
    "x_normalized = normlaize(x)\n",
    "\n",
    "scale = 0.1\n",
    "\n",
    "theta_init = network_initializer(layer_sizes,scale)\n",
    "\n",
    "theta = theta_init\n",
    "\n",
    "alpha = 1\n",
    "max_its = 1000\n",
    "\n",
    "g = lambda w: multiclass_softmax(w,x,y,iter)\n",
    "\n",
    "iters, theta, cost_history, acc_history = gradient_descent(x_normalized,y,g, alpha , max_its, theta)\n",
    "y_predict = (model(x_normalized, theta))\n",
    "\n",
    "plt.figure(1)\n",
    "plt.xlabel('iteration')\n",
    "plt.ylabel('cost function')\n",
    "plt.plot(iters, cost_history)\n",
    "\n",
    "plt.figure(2)\n",
    "plt.xlabel('iteration')\n",
    "plt.ylabel('accuracy')\n",
    "plt.plot(iters, acc_history)"
   ]
  },
  {
   "cell_type": "markdown",
   "id": "7f626576",
   "metadata": {},
   "source": [
    "# Exercise 13.3. Number of Weights to Learn in a Neural Network"
   ]
  },
  {
   "cell_type": "markdown",
   "id": "40e87e90",
   "metadata": {},
   "source": [
    "(a) Find the total number Q of tunable parameters in a general L-hidden-layer neural network, in terms of variables expressed in the layer _sizes in Section 13.2.6"
   ]
  },
  {
   "cell_type": "markdown",
   "id": "e00fe852",
   "metadata": {},
   "source": [
    "Total number of hidden layers k = 1 to L and there are U_k variables per kth hidden layer. The dimension of the input layer is N so let U_0 = N and dimension of the output layer is $U_{L+1}$ = C. Thus the total number of tunable parameters is  $$ Q = \\sum_{k=0}^L (1+U_k)U_{k+1} $$"
   ]
  },
  {
   "cell_type": "markdown",
   "id": "a46695b0",
   "metadata": {},
   "source": [
    "(b)Based on your answer in part(a), explain how the input dimension N and number of data points P each contributs to Q. How is this different from what you saw with kernel methods in the previous chapter?"
   ]
  },
  {
   "cell_type": "markdown",
   "id": "bf1ab9b7",
   "metadata": {},
   "source": [
    "Rewriting the above expression for Q by taking out the k = 0 term,we get $$ Q = NU_1 +U_1 + \\sum _{k=1} ^{L}(1+U_k)U_{k+1}$$ This shows that Q is directly proportional to N however it is independent with respt to the number of data points P "
   ]
  },
  {
   "cell_type": "code",
   "execution_count": null,
   "id": "cd614e12",
   "metadata": {},
   "outputs": [],
   "source": []
  }
 ],
 "metadata": {
  "kernelspec": {
   "display_name": "Python 3 (ipykernel)",
   "language": "python",
   "name": "python3"
  },
  "language_info": {
   "codemirror_mode": {
    "name": "ipython",
    "version": 3
   },
   "file_extension": ".py",
   "mimetype": "text/x-python",
   "name": "python",
   "nbconvert_exporter": "python",
   "pygments_lexer": "ipython3",
   "version": "3.9.12"
  }
 },
 "nbformat": 4,
 "nbformat_minor": 5
}
