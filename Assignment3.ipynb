{
 "cells": [
  {
   "cell_type": "markdown",
   "id": "41df18ed",
   "metadata": {},
   "source": [
    "# 13.4 Nonlinear Autoencoder Using Neural Networks "
   ]
  },
  {
   "cell_type": "code",
   "execution_count": 520,
   "id": "5e1fad4c",
   "metadata": {},
   "outputs": [],
   "source": [
    "import numpy as np"
   ]
  },
  {
   "cell_type": "code",
   "execution_count": 521,
   "id": "d21404e7",
   "metadata": {},
   "outputs": [],
   "source": [
    "from matplotlib import gridspec"
   ]
  },
  {
   "cell_type": "code",
   "execution_count": 522,
   "id": "e1902bf1",
   "metadata": {},
   "outputs": [],
   "source": [
    "datapath = '/users/jazz13/Desktop/GitHub_Files/435-deep-learning/'"
   ]
  },
  {
   "cell_type": "code",
   "execution_count": 523,
   "id": "4fefc432",
   "metadata": {},
   "outputs": [],
   "source": [
    "#datapath = '/home/venkat/Desktop/GitHub_Files/435-deep-learning/'"
   ]
  },
  {
   "cell_type": "code",
   "execution_count": 524,
   "id": "32feeede",
   "metadata": {
    "scrolled": true
   },
   "outputs": [
    {
     "data": {
      "image/png": "[encoded data removed]",
      "text/plain": [
       "<Figure size 432x288 with 1 Axes>"
      ]
     },
     "metadata": {
      "needs_background": "light"
     },
     "output_type": "display_data"
    }
   ],
   "source": [
    "import matplotlib.pyplot as plt\n",
    "\n",
    "# import data\n",
    "X = np.loadtxt(datapath + 'universal_autoencoder_samples.csv', delimiter=',')\n",
    "\n",
    "plt.scatter(X[0,:], X[1,:], c = 'k', s = 60, linewidth = 0.75, edgecolor = 'w')\n",
    "plt.show()"
   ]
  },
  {
   "cell_type": "code",
   "execution_count": 525,
   "id": "35a9b4ce",
   "metadata": {},
   "outputs": [],
   "source": [
    "import os\n",
    "import sys\n",
    "module_path = os.path.abspath(os.path.join('..'))\n",
    "if module_path not in sys.path:\n",
    "    sys.path.append(module_path)\n"
   ]
  },
  {
   "cell_type": "code",
   "execution_count": 526,
   "id": "be85f453",
   "metadata": {},
   "outputs": [],
   "source": [
    "import history_plotters\n",
    "import multilayer_perceptron_batch_normalized\n",
    "import multilayer_perceptron\n",
    "import normalizers\n",
    "import cost_functions\n",
    "import un_cost_functions\n",
    "import un_optimizers"
   ]
  },
  {
   "cell_type": "code",
   "execution_count": 527,
   "id": "eb0ccf26",
   "metadata": {},
   "outputs": [],
   "source": [
    "import autograd.numpy as np\n",
    " \n",
    "class Setup:\n",
    "    def __init__(self,X,**kwargs):\n",
    "        # link in data\n",
    "        self.x = X\n",
    "        \n",
    "        # make containers for all histories\n",
    "        self.weight_histories = []\n",
    "        self.train_cost_histories = []\n",
    "        self.train_accuracy_histories = []\n",
    "        self.val_cost_histories = []\n",
    "        self.val_accuracy_histories = []\n",
    "        self.train_costs = []\n",
    "        self.train_counts = []\n",
    "        self.val_costs = []\n",
    "        self.val_counts = []\n",
    "\n",
    "        \n",
    "        \n",
    "    #### define preprocessing steps ####\n",
    "    def preprocessing_steps(self,**kwargs):        \n",
    "        ### produce / use data normalizer ###\n",
    "        normalizer_name = 'standard'\n",
    "        if 'normalizer_name' in kwargs:\n",
    "            normalizer_name = kwargs['normalizer_name']\n",
    "        self.normalizer_name = normalizer_name\n",
    "\n",
    "        # produce normalizer / inverse normalizer\n",
    "        s = normalizers.Setup(self.x,normalizer_name)\n",
    "        self.normalizer = s.normalizer\n",
    "        self.inverse_normalizer = s.inverse_normalizer\n",
    "        \n",
    "        # normalize input \n",
    "        self.x = self.normalizer(self.x)\n",
    "        \n",
    "    #### split data into training and validation sets ####\n",
    "    def make_train_val_split(self,train_portion):\n",
    "        # translate desired training portion into exact indecies\n",
    "        self.train_portion = train_portion\n",
    "        r = np.random.permutation(self.x.shape[1])\n",
    "        train_num = int(np.round(train_portion*len(r)))\n",
    "        self.train_inds = r[:train_num]\n",
    "        self.val_inds = r[train_num:]\n",
    "        \n",
    "        # define training and testing sets\n",
    "        self.x_train = self.x[:,self.train_inds]\n",
    "        self.x_val = self.x[:,self.val_inds]\n",
    "        \n",
    "    #### define encoder ####\n",
    "    def choose_encoder(self,**kwargs):         \n",
    "        feature_name = 'multilayer_perceptron'\n",
    "        if 'name' in kwargs:\n",
    "            feature_name = kwargs['feature_name']\n",
    "        \n",
    "        transformer = 0\n",
    "        if feature_name == 'multilayer_perceptron':\n",
    "            transformer = multilayer_perceptron.Setup(**kwargs)\n",
    "        elif feature_name == 'multilayer_perceptron_batch_normalized':\n",
    "            transformer = multilayer_perceptron_batch_normalized.Setup(**kwargs)\n",
    "            \n",
    "        self.feature_transforms = transformer.feature_transforms\n",
    "        self.initializer_1 = transformer.initializer\n",
    "     \n",
    "    # form decoder\n",
    "    def choose_decoder(self,**kwargs):         \n",
    "        feature_name = 'multilayer_perceptron'\n",
    "        if 'name' in kwargs:\n",
    "            feature_name = kwargs['feature_name']\n",
    "           \n",
    "        transformer = 0\n",
    "        if feature_name == 'multilayer_perceptron':\n",
    "            transformer = multilayer_perceptron.Setup(**kwargs)\n",
    "        elif feature_name == 'multilayer_perceptron_batch_normalized':\n",
    "            transformer = multilayer_perceptron_batch_normalized.Setup(**kwargs)\n",
    "        \n",
    "        self.feature_transforms_2 = transformer.feature_transforms\n",
    "        self.initializer_2 = transformer.initializer\n",
    "     \n",
    "    def choose_cost(self,name,**kwargs):\n",
    "        # pick cost based on user input\n",
    "        self.cost_object = un_cost_functions.Setup(name,**kwargs)\n",
    "                \n",
    "        ### with feature transformation constructed, pass on to cost function ###\n",
    "        self.cost_object.define_encoder_decoder(self.feature_transforms,self.feature_transforms_2)\n",
    "        self.cost = self.cost_object.cost\n",
    "        self.cost_name = name\n",
    "        self.encoder = self.cost_object.encoder\n",
    "        self.decoder = self.cost_object.decoder\n",
    "    \n",
    "     #### run optimization ####\n",
    "    def fit(self,**kwargs):\n",
    "        # basic parameters for gradient descent run (default algorithm)\n",
    "        max_its = 500; alpha_choice = 10**(-1);\n",
    "        self.w_init_1 = self.initializer_1()\n",
    "        self.w_init_2 = self.initializer_2()\n",
    "        self.w_init = [self.w_init_1,self.w_init_2]\n",
    "        \n",
    "        # set parameters by hand\n",
    "        if 'max_its' in kwargs:\n",
    "            self.max_its = kwargs['max_its']\n",
    "        if 'alpha_choice' in kwargs:\n",
    "            self.alpha_choice = kwargs['alpha_choice']\n",
    "        if 'w' in kwargs:\n",
    "            self.w_init = kwargs['w']\n",
    "\n",
    "        # batch size for gradient descent?\n",
    "        self.train_num = np.shape(self.x_train)[1]\n",
    "        self.val_num = np.shape(self.x_val)[1]\n",
    "        self.batch_size = np.shape(self.x_train)[1]\n",
    "        if 'batch_size' in kwargs:\n",
    "            self.batch_size = min(kwargs['batch_size'],self.batch_size)\n",
    "        \n",
    "        # verbose or not\n",
    "        verbose = True\n",
    "        if 'verbose' in kwargs:\n",
    "            verbose = kwargs['verbose']\n",
    "        \n",
    "        # run gradient descent\n",
    "        weight_history,train_cost_history,val_cost_history = un_optimizers.gradient_descent(self.cost,self.w_init,self.x_train,self.x_val,self.alpha_choice,self.max_its,self.batch_size,verbose=verbose)\n",
    "        \n",
    "        # store all new histories\n",
    "        self.weight_histories.append(weight_history)\n",
    "        self.train_cost_histories.append(train_cost_history)\n",
    "        self.val_cost_histories.append(val_cost_history)\n",
    "        \n",
    "    def show_histories(self,**kwargs):\n",
    "        start = 0\n",
    "        if 'start' in kwargs:\n",
    "            start = kwargs['start']\n",
    "        if self.train_portion == 1:\n",
    "            self.val_cost_histories = [[] for s in range(len(self.val_cost_histories))]\n",
    "            self.val_accuracy_histories = [[] for s in range(len(self.val_accuracy_histories))]\n",
    "        history_plotters.Setup(self.train_cost_histories,self.train_accuracy_histories,self.val_cost_histories,self.val_accuracy_histories,start)\n",
    "        \n",
    "    "
   ]
  },
  {
   "cell_type": "code",
   "execution_count": 528,
   "id": "e7fb9f57",
   "metadata": {},
   "outputs": [],
   "source": [
    "mylib = Setup(X)"
   ]
  },
  {
   "cell_type": "code",
   "execution_count": 529,
   "id": "50a5ceb2",
   "metadata": {},
   "outputs": [],
   "source": [
    "mylib.preprocessing_steps(normalizer = 'standard')"
   ]
  },
  {
   "cell_type": "code",
   "execution_count": 530,
   "id": "d92cce11",
   "metadata": {},
   "outputs": [],
   "source": [
    "# split into training and validation sets\n",
    "mylib.make_train_val_split(train_portion = 1)"
   ]
  },
  {
   "cell_type": "code",
   "execution_count": 531,
   "id": "06272ec7",
   "metadata": {},
   "outputs": [],
   "source": [
    "# choose features\n",
    "mylib.choose_encoder(layer_sizes = [2,10,10,1],scale = 0.2)\n",
    "mylib.choose_decoder(layer_sizes = [1,10,10,2],scale = 0.2)"
   ]
  },
  {
   "cell_type": "code",
   "execution_count": 532,
   "id": "7b142227",
   "metadata": {},
   "outputs": [],
   "source": [
    "mylib.choose_cost(name = 'autoencoder')"
   ]
  },
  {
   "cell_type": "code",
   "execution_count": 533,
   "id": "fcfd63e7",
   "metadata": {},
   "outputs": [],
   "source": [
    "mylib.fit(max_its = 3000,alpha_choice = 10**(-1),verbose = False)"
   ]
  },
  {
   "cell_type": "code",
   "execution_count": 534,
   "id": "2e8f4495",
   "metadata": {
    "scrolled": true
   },
   "outputs": [
    {
     "data": {
      "image/png": "[encoded data removed]",
      "text/plain": [
       "<Figure size 720x216 with 1 Axes>"
      ]
     },
     "metadata": {
      "needs_background": "light"
     },
     "output_type": "display_data"
    }
   ],
   "source": [
    "mylib.show_histories()"
   ]
  },
  {
   "cell_type": "code",
   "execution_count": 535,
   "id": "156ea215",
   "metadata": {},
   "outputs": [],
   "source": [
    "import autoencoder_demos"
   ]
  },
  {
   "cell_type": "code",
   "execution_count": 537,
   "id": "a47861fa",
   "metadata": {},
   "outputs": [
    {
     "data": {
      "image/png": "[encoded data removed]",
      "text/plain": [
       "<Figure size 720x216 with 3 Axes>"
      ]
     },
     "metadata": {
      "needs_background": "light"
     },
     "output_type": "display_data"
    },
    {
     "data": {
      "image/png": "[encoded data removed]",
      "text/plain": [
       "<Figure size 720x288 with 1 Axes>"
      ]
     },
     "metadata": {
      "needs_background": "light"
     },
     "output_type": "display_data"
    }
   ],
   "source": [
    "autoencoder_demos.show_encode_decode(X,mylib,projmap = True,scale = 5)"
   ]
  },
  {
   "cell_type": "markdown",
   "id": "37f78bbb",
   "metadata": {},
   "source": [
    "# 13.8 Batch Normalization "
   ]
  },
  {
   "cell_type": "code",
   "execution_count": 538,
   "id": "76cbcd3d",
   "metadata": {},
   "outputs": [
    {
     "data": {
      "text/plain": [
       "'1.0.2'"
      ]
     },
     "execution_count": 538,
     "metadata": {},
     "output_type": "execute_result"
    }
   ],
   "source": [
    "import sklearn\n",
    "sklearn.__version__"
   ]
  },
  {
   "cell_type": "code",
   "execution_count": 539,
   "id": "46f9c1a9",
   "metadata": {},
   "outputs": [
    {
     "name": "stderr",
     "output_type": "stream",
     "text": [
      "python(69312) MallocStackLogging: can't turn off malloc stack logging because it was not enabled.\n"
     ]
    },
    {
     "name": "stdout",
     "output_type": "stream",
     "text": [
      "Collecting package metadata (current_repodata.json): done\n",
      "Solving environment: | \n",
      "\n",
      "Updating scikit-learn is constricted by \n",
      "\n",
      "anaconda -> requires scikit-learn==1.0.2=py39hae1ba45_1\n",
      "\n",
      "If you are sure you want an update of your package either try `conda update --all` or install a specific version of the package you want using `conda install <pkg>=<version>`\n",
      "\n",
      "done\n",
      "\n",
      "\n",
      "==> WARNING: A newer version of conda exists. <==\n",
      "  current version: 4.13.0\n",
      "  latest version: 24.5.0\n",
      "\n",
      "Please update conda by running\n",
      "\n",
      "    $ conda update -n base -c defaults conda\n",
      "\n",
      "\n",
      "\n",
      "# All requested packages already installed.\n",
      "\n",
      "\n",
      "Note: you may need to restart the kernel to use updated packages.\n"
     ]
    }
   ],
   "source": [
    "conda update scikit-learn"
   ]
  },
  {
   "cell_type": "code",
   "execution_count": 540,
   "id": "ec70b1f2",
   "metadata": {},
   "outputs": [],
   "source": [
    "import super_cost_functions\n",
    "import history_plotters\n",
    "import multilayer_perceptron_batch_normalized\n",
    "import multilayer_perceptron\n",
    "import normalizers\n",
    "import cost_functions\n",
    "import super_optimizers"
   ]
  },
  {
   "cell_type": "code",
   "execution_count": 541,
   "id": "93772b0a",
   "metadata": {
    "scrolled": true
   },
   "outputs": [
    {
     "name": "stdout",
     "output_type": "stream",
     "text": [
      "(70000, 784)\n",
      "(70000, 1)\n"
     ]
    }
   ],
   "source": [
    "# get MNIST data from online repository\n",
    "from sklearn.datasets import fetch_openml\n",
    "x, y = fetch_openml('mnist_784', version=1, return_X_y=True)\n",
    "\n",
    "# convert string labels to integers\n",
    "y = np.array([int(v) for v in y])[:,np.newaxis]\n",
    "\n",
    "print(np.shape(x))\n",
    "print(np.shape(y))"
   ]
  },
  {
   "cell_type": "code",
   "execution_count": 542,
   "id": "4693541e",
   "metadata": {},
   "outputs": [],
   "source": [
    "x1 = np.transpose(x)\n",
    "y1 = np.transpose(y)"
   ]
  },
  {
   "cell_type": "code",
   "execution_count": 553,
   "id": "c9f82caf",
   "metadata": {},
   "outputs": [],
   "source": [
    "x_sample, x_test = x[:50000],x[50000:]\n",
    "y_sample, y_test=y[:50000],y[50000:]"
   ]
  },
  {
   "cell_type": "markdown",
   "id": "99c919ec",
   "metadata": {},
   "source": [
    "splitting to training and validation, randomly selecting the training set. "
   ]
  },
  {
   "cell_type": "code",
   "execution_count": 554,
   "id": "a3537431",
   "metadata": {},
   "outputs": [],
   "source": [
    "shuffled = np.random.permutation(50000)\n",
    "x_sample = x_sample.iloc[shuffled] \n",
    "y_sample = y_sample[shuffled]"
   ]
  },
  {
   "cell_type": "code",
   "execution_count": 555,
   "id": "ae76b217",
   "metadata": {},
   "outputs": [
    {
     "name": "stdout",
     "output_type": "stream",
     "text": [
      "(50000, 784)\n",
      "(50000, 1)\n"
     ]
    }
   ],
   "source": [
    "print(x_sample.shape)\n",
    "print(y_sample.shape)"
   ]
  },
  {
   "cell_type": "code",
   "execution_count": 556,
   "id": "b53bf69e",
   "metadata": {},
   "outputs": [],
   "source": [
    "class Setup2:\n",
    "    def __init__(self,x,y,**kwargs):\n",
    "        # link in data\n",
    "        self.x = x\n",
    "        self.y = y\n",
    "        \n",
    "        # make containers for all histories\n",
    "        self.weight_histories = []\n",
    "        self.train_cost_histories = []\n",
    "        self.train_accuracy_histories = []\n",
    "        self.val_cost_histories = []\n",
    "        self.val_accuracy_histories = []\n",
    "        self.train_costs = []\n",
    "        self.train_counts = []\n",
    "        self.val_costs = []\n",
    "        self.val_counts = []\n",
    "        \n",
    "        \n",
    "    #### define preprocessing steps ####\n",
    "    def preprocessing_steps(self,**kwargs):        \n",
    "        ### produce / use data normalizer ###\n",
    "        normalizer_name = 'standard'\n",
    "        if 'normalizer_name' in kwargs:\n",
    "            normalizer_name = kwargs['normalizer_name']\n",
    "        self.normalizer_name = normalizer_name\n",
    "\n",
    "        # produce normalizer / inverse normalizer\n",
    "        s = normalizers.Setup(self.x,normalizer_name)\n",
    "        self.normalizer = s.normalizer\n",
    "        self.inverse_normalizer = s.inverse_normalizer\n",
    "        \n",
    "        # normalize input \n",
    "        self.x = self.normalizer(self.x)\n",
    "       \n",
    "    #### split data into training and validation sets ####\n",
    "    def make_train_val_split(self,train_portion):\n",
    "        # translate desired training portion into exact indecies\n",
    "        self.train_portion = train_portion\n",
    "        r = np.random.permutation(self.x.shape[1])\n",
    "        train_num = int(np.round(train_portion*len(r)))\n",
    "        self.train_inds = r[:train_num]\n",
    "        self.val_inds = r[train_num:]\n",
    "        \n",
    "        # define training and testing sets\n",
    "        self.x_train = self.x[:,self.train_inds]\n",
    "        self.x_val = self.x[:,self.val_inds]\n",
    "\n",
    "        self.y_train = self.y[:,self.train_inds]\n",
    "        self.y_val = self.y[:,self.val_inds]\n",
    "     \n",
    "    #### define cost function ####\n",
    "    def choose_cost(self,name,**kwargs):\n",
    "        # create training and testing cost functions\n",
    "        self.cost_object = super_cost_functions.Setup(name,**kwargs)\n",
    "\n",
    "        # if the cost function is a two-class classifier, build a counter too\n",
    "        if name == 'softmax' or name == 'perceptron':\n",
    "            self.count_object = super_cost_functions.Setup('twoclass_counter',**kwargs)\n",
    "                        \n",
    "        if name == 'multiclass_softmax' or name == 'multiclass_perceptron':\n",
    "            self.count_object = super_cost_functions.Setup('multiclass_counter',**kwargs)\n",
    "  \n",
    "        self.cost_name = name\n",
    "    \n",
    "    #### define feature transformation ####\n",
    "    def choose_features(self,**kwargs): \n",
    "        ### select from pre-made feature transforms ###\n",
    "        layer_sizes = [1]\n",
    "        if 'layer_sizes' in kwargs:\n",
    "            layer_sizes = kwargs['layer_sizes']\n",
    "        \n",
    "        # add input and output layer sizes\n",
    "        input_size = self.x.shape[0]\n",
    "        layer_sizes.insert(0, input_size)\n",
    "      \n",
    "        # add output size\n",
    "        if self.cost_name == 'least_squares' or self.cost_name == 'least_absolute_deviations':\n",
    "            layer_sizes.append(self.y.shape[0])\n",
    "        else:\n",
    "            num_labels = len(np.unique(self.y))\n",
    "            if num_labels == 2:\n",
    "                layer_sizes.append(1)\n",
    "            else:\n",
    "                layer_sizes.append(num_labels)\n",
    "        \n",
    "        # multilayer perceptron #\n",
    "        feature_name = 'multilayer_perceptron'\n",
    "        if 'name' in kwargs:\n",
    "            feature_name = kwargs['feature_name']\n",
    "           \n",
    "        if feature_name == 'multilayer_perceptron':\n",
    "            transformer = multilayer_perceptron.Setup(**kwargs)\n",
    "            self.feature_transforms = transformer.feature_transforms\n",
    "            self.multilayer_initializer = transformer.initializer\n",
    "            self.layer_sizes = transformer.layer_sizes\n",
    "            \n",
    "        if feature_name == 'multilayer_perceptron_batch_normalized':\n",
    "            transformer = multilayer_perceptron_batch_normalized.Setup(**kwargs)\n",
    "            self.feature_transforms = transformer.feature_transforms\n",
    "            self.multilayer_initializer = transformer.initializer\n",
    "            self.layer_sizes = transformer.layer_sizes\n",
    "            \n",
    "        self.feature_name = feature_name\n",
    "        \n",
    "        ### with feature transformation constructed, pass on to cost function ###\n",
    "        self.cost_object.define_feature_transform(self.feature_transforms)\n",
    "        self.cost = self.cost_object.cost\n",
    "        self.model = self.cost_object.model\n",
    "        \n",
    "        # if classification performed, inject feature transforms into counter as well\n",
    "        if self.cost_name == 'softmax' or self.cost_name == 'perceptron' or self.cost_name == 'multiclass_softmax' or self.cost_name == 'multiclass_perceptron':\n",
    "            self.count_object.define_feature_transform(self.feature_transforms)\n",
    "            self.counter = self.count_object.cost\n",
    "            \n",
    "    #### run optimization ####\n",
    "    def fit(self,**kwargs):\n",
    "        # basic parameters for gradient descent run (default algorithm)\n",
    "        max_its = 500; alpha_choice = 10**(-1);\n",
    "        \n",
    "        # set parameters by hand\n",
    "        if 'max_its' in kwargs:\n",
    "            self.max_its = kwargs['max_its']\n",
    "        if 'alpha_choice' in kwargs:\n",
    "            self.alpha_choice = kwargs['alpha_choice']\n",
    "        \n",
    "        # set initialization\n",
    "        self.w_init = self.multilayer_initializer()\n",
    "        \n",
    "        # batch size for gradient descent?\n",
    "        self.train_num = np.size(self.y_train)\n",
    "        self.val_num = np.size(self.y_val)\n",
    "        self.batch_size = np.size(self.y_train)\n",
    "        if 'batch_size' in kwargs:\n",
    "            self.batch_size = min(kwargs['batch_size'],self.batch_size)\n",
    "        \n",
    "        # verbose or not\n",
    "        verbose = True\n",
    "        if 'verbose' in kwargs:\n",
    "            verbose = kwargs['verbose']\n",
    "\n",
    "        # optimize\n",
    "        weight_history = []\n",
    "        cost_history = []\n",
    "        \n",
    "        # run gradient descent\n",
    "        weight_history,train_cost_history,val_cost_history = super_optimizers.gradient_descent(self.cost,self.w_init,self.x_train,self.y_train,self.x_val,self.y_val,self.alpha_choice,self.max_its,self.batch_size,verbose=verbose)\n",
    "                                                                                         \n",
    "        # store all new histories\n",
    "        self.weight_histories.append(weight_history)\n",
    "        self.train_cost_histories.append(train_cost_history)\n",
    "        self.val_cost_histories.append(val_cost_history)\n",
    "\n",
    "        # if classification produce count history\n",
    "        if self.cost_name == 'softmax' or self.cost_name == 'perceptron' or self.cost_name == 'multiclass_softmax' or self.cost_name == 'multiclass_perceptron':\n",
    "            train_accuracy_history = [1 - self.counter(v,self.x_train,self.y_train)/float(self.y_train.size) for v in weight_history]\n",
    "            val_accuracy_history = [1 - self.counter(v,self.x_val,self.y_val)/float(self.y_val.size) for v in weight_history]\n",
    "\n",
    "            # store count history\n",
    "            self.train_accuracy_histories.append(train_accuracy_history)\n",
    "            self.val_accuracy_histories.append(val_accuracy_history)\n",
    " \n",
    "    #### plot histories ###\n",
    "    def show_histories(self,**kwargs):\n",
    "        start = 0\n",
    "        if 'start' in kwargs:\n",
    "            start = kwargs['start']\n",
    "        if self.train_portion == 1:\n",
    "            self.val_cost_histories = [[] for s in range(len(self.val_cost_histories))]\n",
    "            self.val_accuracy_histories = [[] for s in range(len(self.val_accuracy_histories))]\n",
    "        history_plotters.Setup(self.train_cost_histories,self.train_accuracy_histories,self.val_cost_histories,self.val_accuracy_histories,start)\n",
    "        \n",
    "    #### for batch normalized multilayer architecture only - set normalizers to desired settings ####\n",
    "    def fix_normalizers(self,w):\n",
    "        ### re-set feature transformation ###        \n",
    "        # fix normalization at each layer by passing data and specific weight through network\n",
    "        self.feature_transforms(self.x,w);\n",
    "        \n",
    "        # re-assign feature transformation based on these settings\n",
    "        self.testing_feature_transforms = self.transformer.testing_feature_transforms\n",
    "        \n",
    "        ### re-assign cost function (and counter) based on fixed architecture ###\n",
    "        funcs = cost_functions.Setup(self.cost_name,self.x,self.y,self.testing_feature_transforms)\n",
    "        self.model = funcs.model"
   ]
  },
  {
   "cell_type": "code",
   "execution_count": 580,
   "id": "0b9a923a",
   "metadata": {},
   "outputs": [],
   "source": [
    "import super_setup"
   ]
  },
  {
   "cell_type": "code",
   "execution_count": 581,
   "id": "62d576e2",
   "metadata": {},
   "outputs": [],
   "source": [
    "mylib2 = super_setup.Setup(x_sample,y_sample)"
   ]
  },
  {
   "cell_type": "code",
   "execution_count": 582,
   "id": "575be9ed",
   "metadata": {
    "scrolled": true
   },
   "outputs": [],
   "source": [
    "mylib2.preprocessing_steps(normalizer = 'standard')"
   ]
  },
  {
   "cell_type": "code",
   "execution_count": 583,
   "id": "853cb70f",
   "metadata": {},
   "outputs": [
    {
     "ename": "InvalidIndexError",
     "evalue": "(slice(None, None, None), array([469, 531, 229, 350, 564, 684, 464, 442, 261,  24, 354, 260, 105,\n       736, 420, 234, 465, 383, 232,  85,   5, 214, 668, 720, 765, 386,\n       268, 633, 431, 300, 425, 599, 181, 576, 435, 473, 215, 253, 318,\n       135, 394, 481, 589, 429, 334, 505, 486, 267, 500, 667,   6,  87,\n       438, 755, 358,  61, 410,  95, 285, 196, 462, 767, 397, 445, 518,\n        65, 244, 502,  81, 372,  10, 550, 359, 128, 758, 570, 451, 414,\n       769, 661, 374,  26, 665, 513, 492, 310, 272, 539, 400, 713, 349,\n       588, 346, 264, 321, 145, 620, 311, 391, 526, 453, 644, 102, 233,\n       412, 273, 193, 711, 117, 362,  59,  34,  13, 460, 730, 634, 293,\n        51, 162, 466, 585, 508, 389, 648, 692,   9, 344, 316, 148, 369,\n       471, 324, 275, 141, 426,   2, 454, 175, 441, 696, 754, 507, 338,\n       738, 123, 560, 291,  71, 559,  21, 618, 527, 118, 495, 119, 554,\n       160, 549, 304, 132,  36, 422, 732, 525,  14, 510, 107, 582, 673,\n       238, 401,  83, 265, 199, 330, 301, 737, 299, 328, 468, 133, 574,\n       491, 756, 187, 726, 725, 694, 168, 750, 583, 664, 379, 688, 129,\n       274, 224,  98, 161,  64, 703,  57, 704,  30, 130, 337, 623,  19,\n       543, 169, 540, 751, 432,  88, 403, 630, 207, 327, 191, 649, 669,\n       523, 289, 343, 749,  75, 779, 760, 256, 573, 222, 146, 562, 279,\n       547, 496, 635, 555, 131, 485, 287, 714,  74,  53, 602,  39,  22,\n       748, 613, 458, 551,  99, 143, 332, 590, 521, 437, 174, 566, 516,\n       357, 155, 104, 619, 638, 467, 100,  56, 452, 381, 257, 434, 771,\n       625, 173, 655, 249, 239,   4, 203, 712,  16,  97, 345,  33, 182,\n        76, 651,  45,  62, 709,  48, 326, 561, 163, 308, 387, 248, 614,\n       627,  86, 483, 517, 715, 757, 753, 245, 641, 368, 341, 190, 329,\n       242, 276, 360, 653, 192, 681,  31, 290, 231, 385, 415, 729,  89,\n       735, 535, 269, 776,  84,  80, 536, 474, 125, 364, 695, 298,  20,\n       195, 246, 739, 306, 743, 448, 584, 171, 382, 419, 493,   8, 591,\n        79, 281, 674, 774, 575, 235, 206, 722, 546, 416, 142, 501,  63,\n       361, 617,  93, 522, 565, 645, 719, 721, 363, 676, 172, 687, 380,\n       377, 157, 677, 459, 761,  28, 201, 134, 252, 666, 611, 140, 430,\n       529, 149, 710, 303, 266, 553,  27,  69, 775, 378, 558, 724, 418,\n       514,  91, 254, 637, 717, 506, 417, 433, 689, 691, 541, 263,  66,\n       600, 159, 323, 587,  52, 646, 700,  11, 367, 658, 405, 482, 731,\n       671, 164, 208, 194, 702, 701, 106, 288, 479, 777, 250, 137, 772,\n       783,  12, 115, 241, 440, 376, 251, 356, 572, 621, 456, 185, 503,\n       631, 497, 728, 487, 247, 533, 331,  42, 511,  72, 686, 563,  18,\n         0,  46, 612, 220, 136, 413, 461, 716, 718, 399, 484,  23, 325,\n       366, 408, 578, 608, 639, 616, 165, 763, 556, 597, 315, 605,  82,\n       138, 342, 150, 577, 654,  68, 449, 305, 370, 601, 183, 524, 225,\n       271, 494, 628, 532, 286, 373, 424, 504, 200, 212, 421, 340, 259,\n        44, 659, 388,  67, 443, 371, 230, 176, 211,  77, 544, 675, 734,\n       351, 209, 446,  38, 764, 384, 592, 314, 406, 660, 699, 683, 744,\n       103, 604, 470, 698, 586, 610, 216, 568, 177, 670, 404, 243, 221,\n       213, 427, 109, 114, 690, 579, 685,  35, 151, 348, 678, 530, 571,\n       255, 110, 121, 205, 154, 626, 428, 284, 295,  37, 705, 552, 217,\n       228,  43, 606, 706, 262, 642, 111, 258, 278, 450, 762, 280,   3,\n       607, 393,  47,  55, 476, 569, 534, 598, 594, 746, 499, 112, 270,\n       650,  96, 439, 490, 657, 409, 320, 768,  49, 636,  29, 179, 455,\n       593, 392, 742,  25, 498, 528, 520, 297, 352,  50,  40, 647, 204,\n       302, 353, 782, 632, 237, 317, 515, 580, 463, 609, 557, 108, 198,\n       693, 663, 113, 294, 355,  41, 662, 640, 629, 759, 127, 186, 733,\n       447, 313, 398, 101, 227, 747, 336, 402, 680, 395, 436, 423, 365,\n       477,  15, 153,  73, 727, 202, 679, 166, 457, 741, 309,  78, 167,\n       488,  70, 509, 156, 218, 603,   7, 122,  94, 682,  92, 740, 778,\n       307, 567, 781,  32, 223,  90, 656, 296, 147, 652, 723, 319, 210,\n       411, 475, 512, 596, 766, 189, 697,   1, 643,  58, 124, 624, 396,\n       277, 519, 752, 375, 144, 347, 770, 548,  17, 152, 672, 322, 292,\n       444, 708, 184, 745, 595, 197, 489, 622,  60, 542, 236, 188, 407,\n       538, 219, 170, 390, 335, 339, 120, 139, 226, 158, 478, 537, 472,\n       480, 240,  54, 178, 283, 333, 126, 180, 707, 615, 116, 282, 773,\n       545, 581, 780, 312]))",
     "output_type": "error",
     "traceback": [
      "\u001b[0;31m---------------------------------------------------------------------------\u001b[0m",
      "\u001b[0;31mTypeError\u001b[0m                                 Traceback (most recent call last)",
      "File \u001b[0;32m~/opt/anaconda3/lib/python3.9/site-packages/pandas/core/indexes/base.py:3802\u001b[0m, in \u001b[0;36mIndex.get_loc\u001b[0;34m(self, key, method, tolerance)\u001b[0m\n\u001b[1;32m   3801\u001b[0m \u001b[38;5;28;01mtry\u001b[39;00m:\n\u001b[0;32m-> 3802\u001b[0m     \u001b[38;5;28;01mreturn\u001b[39;00m \u001b[38;5;28;43mself\u001b[39;49m\u001b[38;5;241;43m.\u001b[39;49m\u001b[43m_engine\u001b[49m\u001b[38;5;241;43m.\u001b[39;49m\u001b[43mget_loc\u001b[49m\u001b[43m(\u001b[49m\u001b[43mcasted_key\u001b[49m\u001b[43m)\u001b[49m\n\u001b[1;32m   3803\u001b[0m \u001b[38;5;28;01mexcept\u001b[39;00m \u001b[38;5;167;01mKeyError\u001b[39;00m \u001b[38;5;28;01mas\u001b[39;00m err:\n",
      "File \u001b[0;32m~/opt/anaconda3/lib/python3.9/site-packages/pandas/_libs/index.pyx:138\u001b[0m, in \u001b[0;36mpandas._libs.index.IndexEngine.get_loc\u001b[0;34m()\u001b[0m\n",
      "File \u001b[0;32m~/opt/anaconda3/lib/python3.9/site-packages/pandas/_libs/index.pyx:144\u001b[0m, in \u001b[0;36mpandas._libs.index.IndexEngine.get_loc\u001b[0;34m()\u001b[0m\n",
      "\u001b[0;31mTypeError\u001b[0m: '(slice(None, None, None), array([469, 531, 229, 350, 564, 684, 464, 442, 261,  24, 354, 260, 105,\n       736, 420, 234, 465, 383, 232,  85,   5, 214, 668, 720, 765, 386,\n       268, 633, 431, 300, 425, 599, 181, 576, 435, 473, 215, 253, 318,\n       135, 394, 481, 589, 429, 334, 505, 486, 267, 500, 667,   6,  87,\n       438, 755, 358,  61, 410,  95, 285, 196, 462, 767, 397, 445, 518,\n        65, 244, 502,  81, 372,  10, 550, 359, 128, 758, 570, 451, 414,\n       769, 661, 374,  26, 665, 513, 492, 310, 272, 539, 400, 713, 349,\n       588, 346, 264, 321, 145, 620, 311, 391, 526, 453, 644, 102, 233,\n       412, 273, 193, 711, 117, 362,  59,  34,  13, 460, 730, 634, 293,\n        51, 162, 466, 585, 508, 389, 648, 692,   9, 344, 316, 148, 369,\n       471, 324, 275, 141, 426,   2, 454, 175, 441, 696, 754, 507, 338,\n       738, 123, 560, 291,  71, 559,  21, 618, 527, 118, 495, 119, 554,\n       160, 549, 304, 132,  36, 422, 732, 525,  14, 510, 107, 582, 673,\n       238, 401,  83, 265, 199, 330, 301, 737, 299, 328, 468, 133, 574,\n       491, 756, 187, 726, 725, 694, 168, 750, 583, 664, 379, 688, 129,\n       274, 224,  98, 161,  64, 703,  57, 704,  30, 130, 337, 623,  19,\n       543, 169, 540, 751, 432,  88, 403, 630, 207, 327, 191, 649, 669,\n       523, 289, 343, 749,  75, 779, 760, 256, 573, 222, 146, 562, 279,\n       547, 496, 635, 555, 131, 485, 287, 714,  74,  53, 602,  39,  22,\n       748, 613, 458, 551,  99, 143, 332, 590, 521, 437, 174, 566, 516,\n       357, 155, 104, 619, 638, 467, 100,  56, 452, 381, 257, 434, 771,\n       625, 173, 655, 249, 239,   4, 203, 712,  16,  97, 345,  33, 182,\n        76, 651,  45,  62, 709,  48, 326, 561, 163, 308, 387, 248, 614,\n       627,  86, 483, 517, 715, 757, 753, 245, 641, 368, 341, 190, 329,\n       242, 276, 360, 653, 192, 681,  31, 290, 231, 385, 415, 729,  89,\n       735, 535, 269, 776,  84,  80, 536, 474, 125, 364, 695, 298,  20,\n       195, 246, 739, 306, 743, 448, 584, 171, 382, 419, 493,   8, 591,\n        79, 281, 674, 774, 575, 235, 206, 722, 546, 416, 142, 501,  63,\n       361, 617,  93, 522, 565, 645, 719, 721, 363, 676, 172, 687, 380,\n       377, 157, 677, 459, 761,  28, 201, 134, 252, 666, 611, 140, 430,\n       529, 149, 710, 303, 266, 553,  27,  69, 775, 378, 558, 724, 418,\n       514,  91, 254, 637, 717, 506, 417, 433, 689, 691, 541, 263,  66,\n       600, 159, 323, 587,  52, 646, 700,  11, 367, 658, 405, 482, 731,\n       671, 164, 208, 194, 702, 701, 106, 288, 479, 777, 250, 137, 772,\n       783,  12, 115, 241, 440, 376, 251, 356, 572, 621, 456, 185, 503,\n       631, 497, 728, 487, 247, 533, 331,  42, 511,  72, 686, 563,  18,\n         0,  46, 612, 220, 136, 413, 461, 716, 718, 399, 484,  23, 325,\n       366, 408, 578, 608, 639, 616, 165, 763, 556, 597, 315, 605,  82,\n       138, 342, 150, 577, 654,  68, 449, 305, 370, 601, 183, 524, 225,\n       271, 494, 628, 532, 286, 373, 424, 504, 200, 212, 421, 340, 259,\n        44, 659, 388,  67, 443, 371, 230, 176, 211,  77, 544, 675, 734,\n       351, 209, 446,  38, 764, 384, 592, 314, 406, 660, 699, 683, 744,\n       103, 604, 470, 698, 586, 610, 216, 568, 177, 670, 404, 243, 221,\n       213, 427, 109, 114, 690, 579, 685,  35, 151, 348, 678, 530, 571,\n       255, 110, 121, 205, 154, 626, 428, 284, 295,  37, 705, 552, 217,\n       228,  43, 606, 706, 262, 642, 111, 258, 278, 450, 762, 280,   3,\n       607, 393,  47,  55, 476, 569, 534, 598, 594, 746, 499, 112, 270,\n       650,  96, 439, 490, 657, 409, 320, 768,  49, 636,  29, 179, 455,\n       593, 392, 742,  25, 498, 528, 520, 297, 352,  50,  40, 647, 204,\n       302, 353, 782, 632, 237, 317, 515, 580, 463, 609, 557, 108, 198,\n       693, 663, 113, 294, 355,  41, 662, 640, 629, 759, 127, 186, 733,\n       447, 313, 398, 101, 227, 747, 336, 402, 680, 395, 436, 423, 365,\n       477,  15, 153,  73, 727, 202, 679, 166, 457, 741, 309,  78, 167,\n       488,  70, 509, 156, 218, 603,   7, 122,  94, 682,  92, 740, 778,\n       307, 567, 781,  32, 223,  90, 656, 296, 147, 652, 723, 319, 210,\n       411, 475, 512, 596, 766, 189, 697,   1, 643,  58, 124, 624, 396,\n       277, 519, 752, 375, 144, 347, 770, 548,  17, 152, 672, 322, 292,\n       444, 708, 184, 745, 595, 197, 489, 622,  60, 542, 236, 188, 407,\n       538, 219, 170, 390, 335, 339, 120, 139, 226, 158, 478, 537, 472,\n       480, 240,  54, 178, 283, 333, 126, 180, 707, 615, 116, 282, 773,\n       545, 581, 780, 312]))' is an invalid key",
      "\nDuring handling of the above exception, another exception occurred:\n",
      "\u001b[0;31mInvalidIndexError\u001b[0m                         Traceback (most recent call last)",
      "Cell \u001b[0;32mIn[583], line 1\u001b[0m\n\u001b[0;32m----> 1\u001b[0m \u001b[43mmylib2\u001b[49m\u001b[38;5;241;43m.\u001b[39;49m\u001b[43mmake_train_val_split\u001b[49m\u001b[43m(\u001b[49m\u001b[43mtrain_portion\u001b[49m\u001b[43m \u001b[49m\u001b[38;5;241;43m=\u001b[39;49m\u001b[43m \u001b[49m\u001b[38;5;241;43m1\u001b[39;49m\u001b[43m)\u001b[49m\n",
      "File \u001b[0;32m~/Desktop/GitHub_Files/435-deep-learning/super_setup.py:58\u001b[0m, in \u001b[0;36mmake_train_val_split\u001b[0;34m(self, train_portion)\u001b[0m\n\u001b[1;32m     55\u001b[0m     self.y_train = self.y[:,self.train_inds]\n\u001b[1;32m     56\u001b[0m     self.y_val = self.y[:,self.val_inds]\n\u001b[0;32m---> 58\u001b[0m #### define cost function ####\n\u001b[1;32m     59\u001b[0m def choose_cost(self,name,**kwargs):\n\u001b[1;32m     60\u001b[0m     # create training and testing cost functions\n\u001b[1;32m     61\u001b[0m     self.cost_object = super_cost_functions.Setup(name,**kwargs)\n",
      "File \u001b[0;32m~/opt/anaconda3/lib/python3.9/site-packages/pandas/core/frame.py:3807\u001b[0m, in \u001b[0;36mDataFrame.__getitem__\u001b[0;34m(self, key)\u001b[0m\n\u001b[1;32m   3805\u001b[0m \u001b[38;5;28;01mif\u001b[39;00m \u001b[38;5;28mself\u001b[39m\u001b[38;5;241m.\u001b[39mcolumns\u001b[38;5;241m.\u001b[39mnlevels \u001b[38;5;241m>\u001b[39m \u001b[38;5;241m1\u001b[39m:\n\u001b[1;32m   3806\u001b[0m     \u001b[38;5;28;01mreturn\u001b[39;00m \u001b[38;5;28mself\u001b[39m\u001b[38;5;241m.\u001b[39m_getitem_multilevel(key)\n\u001b[0;32m-> 3807\u001b[0m indexer \u001b[38;5;241m=\u001b[39m \u001b[38;5;28;43mself\u001b[39;49m\u001b[38;5;241;43m.\u001b[39;49m\u001b[43mcolumns\u001b[49m\u001b[38;5;241;43m.\u001b[39;49m\u001b[43mget_loc\u001b[49m\u001b[43m(\u001b[49m\u001b[43mkey\u001b[49m\u001b[43m)\u001b[49m\n\u001b[1;32m   3808\u001b[0m \u001b[38;5;28;01mif\u001b[39;00m is_integer(indexer):\n\u001b[1;32m   3809\u001b[0m     indexer \u001b[38;5;241m=\u001b[39m [indexer]\n",
      "File \u001b[0;32m~/opt/anaconda3/lib/python3.9/site-packages/pandas/core/indexes/base.py:3809\u001b[0m, in \u001b[0;36mIndex.get_loc\u001b[0;34m(self, key, method, tolerance)\u001b[0m\n\u001b[1;32m   3804\u001b[0m         \u001b[38;5;28;01mraise\u001b[39;00m \u001b[38;5;167;01mKeyError\u001b[39;00m(key) \u001b[38;5;28;01mfrom\u001b[39;00m \u001b[38;5;21;01merr\u001b[39;00m\n\u001b[1;32m   3805\u001b[0m     \u001b[38;5;28;01mexcept\u001b[39;00m \u001b[38;5;167;01mTypeError\u001b[39;00m:\n\u001b[1;32m   3806\u001b[0m         \u001b[38;5;66;03m# If we have a listlike key, _check_indexing_error will raise\u001b[39;00m\n\u001b[1;32m   3807\u001b[0m         \u001b[38;5;66;03m#  InvalidIndexError. Otherwise we fall through and re-raise\u001b[39;00m\n\u001b[1;32m   3808\u001b[0m         \u001b[38;5;66;03m#  the TypeError.\u001b[39;00m\n\u001b[0;32m-> 3809\u001b[0m         \u001b[38;5;28;43mself\u001b[39;49m\u001b[38;5;241;43m.\u001b[39;49m\u001b[43m_check_indexing_error\u001b[49m\u001b[43m(\u001b[49m\u001b[43mkey\u001b[49m\u001b[43m)\u001b[49m\n\u001b[1;32m   3810\u001b[0m         \u001b[38;5;28;01mraise\u001b[39;00m\n\u001b[1;32m   3812\u001b[0m \u001b[38;5;66;03m# GH#42269\u001b[39;00m\n",
      "File \u001b[0;32m~/opt/anaconda3/lib/python3.9/site-packages/pandas/core/indexes/base.py:5925\u001b[0m, in \u001b[0;36mIndex._check_indexing_error\u001b[0;34m(self, key)\u001b[0m\n\u001b[1;32m   5921\u001b[0m \u001b[38;5;28;01mdef\u001b[39;00m \u001b[38;5;21m_check_indexing_error\u001b[39m(\u001b[38;5;28mself\u001b[39m, key):\n\u001b[1;32m   5922\u001b[0m     \u001b[38;5;28;01mif\u001b[39;00m \u001b[38;5;129;01mnot\u001b[39;00m is_scalar(key):\n\u001b[1;32m   5923\u001b[0m         \u001b[38;5;66;03m# if key is not a scalar, directly raise an error (the code below\u001b[39;00m\n\u001b[1;32m   5924\u001b[0m         \u001b[38;5;66;03m# would convert to numpy arrays and raise later any way) - GH29926\u001b[39;00m\n\u001b[0;32m-> 5925\u001b[0m         \u001b[38;5;28;01mraise\u001b[39;00m InvalidIndexError(key)\n",
      "\u001b[0;31mInvalidIndexError\u001b[0m: (slice(None, None, None), array([469, 531, 229, 350, 564, 684, 464, 442, 261,  24, 354, 260, 105,\n       736, 420, 234, 465, 383, 232,  85,   5, 214, 668, 720, 765, 386,\n       268, 633, 431, 300, 425, 599, 181, 576, 435, 473, 215, 253, 318,\n       135, 394, 481, 589, 429, 334, 505, 486, 267, 500, 667,   6,  87,\n       438, 755, 358,  61, 410,  95, 285, 196, 462, 767, 397, 445, 518,\n        65, 244, 502,  81, 372,  10, 550, 359, 128, 758, 570, 451, 414,\n       769, 661, 374,  26, 665, 513, 492, 310, 272, 539, 400, 713, 349,\n       588, 346, 264, 321, 145, 620, 311, 391, 526, 453, 644, 102, 233,\n       412, 273, 193, 711, 117, 362,  59,  34,  13, 460, 730, 634, 293,\n        51, 162, 466, 585, 508, 389, 648, 692,   9, 344, 316, 148, 369,\n       471, 324, 275, 141, 426,   2, 454, 175, 441, 696, 754, 507, 338,\n       738, 123, 560, 291,  71, 559,  21, 618, 527, 118, 495, 119, 554,\n       160, 549, 304, 132,  36, 422, 732, 525,  14, 510, 107, 582, 673,\n       238, 401,  83, 265, 199, 330, 301, 737, 299, 328, 468, 133, 574,\n       491, 756, 187, 726, 725, 694, 168, 750, 583, 664, 379, 688, 129,\n       274, 224,  98, 161,  64, 703,  57, 704,  30, 130, 337, 623,  19,\n       543, 169, 540, 751, 432,  88, 403, 630, 207, 327, 191, 649, 669,\n       523, 289, 343, 749,  75, 779, 760, 256, 573, 222, 146, 562, 279,\n       547, 496, 635, 555, 131, 485, 287, 714,  74,  53, 602,  39,  22,\n       748, 613, 458, 551,  99, 143, 332, 590, 521, 437, 174, 566, 516,\n       357, 155, 104, 619, 638, 467, 100,  56, 452, 381, 257, 434, 771,\n       625, 173, 655, 249, 239,   4, 203, 712,  16,  97, 345,  33, 182,\n        76, 651,  45,  62, 709,  48, 326, 561, 163, 308, 387, 248, 614,\n       627,  86, 483, 517, 715, 757, 753, 245, 641, 368, 341, 190, 329,\n       242, 276, 360, 653, 192, 681,  31, 290, 231, 385, 415, 729,  89,\n       735, 535, 269, 776,  84,  80, 536, 474, 125, 364, 695, 298,  20,\n       195, 246, 739, 306, 743, 448, 584, 171, 382, 419, 493,   8, 591,\n        79, 281, 674, 774, 575, 235, 206, 722, 546, 416, 142, 501,  63,\n       361, 617,  93, 522, 565, 645, 719, 721, 363, 676, 172, 687, 380,\n       377, 157, 677, 459, 761,  28, 201, 134, 252, 666, 611, 140, 430,\n       529, 149, 710, 303, 266, 553,  27,  69, 775, 378, 558, 724, 418,\n       514,  91, 254, 637, 717, 506, 417, 433, 689, 691, 541, 263,  66,\n       600, 159, 323, 587,  52, 646, 700,  11, 367, 658, 405, 482, 731,\n       671, 164, 208, 194, 702, 701, 106, 288, 479, 777, 250, 137, 772,\n       783,  12, 115, 241, 440, 376, 251, 356, 572, 621, 456, 185, 503,\n       631, 497, 728, 487, 247, 533, 331,  42, 511,  72, 686, 563,  18,\n         0,  46, 612, 220, 136, 413, 461, 716, 718, 399, 484,  23, 325,\n       366, 408, 578, 608, 639, 616, 165, 763, 556, 597, 315, 605,  82,\n       138, 342, 150, 577, 654,  68, 449, 305, 370, 601, 183, 524, 225,\n       271, 494, 628, 532, 286, 373, 424, 504, 200, 212, 421, 340, 259,\n        44, 659, 388,  67, 443, 371, 230, 176, 211,  77, 544, 675, 734,\n       351, 209, 446,  38, 764, 384, 592, 314, 406, 660, 699, 683, 744,\n       103, 604, 470, 698, 586, 610, 216, 568, 177, 670, 404, 243, 221,\n       213, 427, 109, 114, 690, 579, 685,  35, 151, 348, 678, 530, 571,\n       255, 110, 121, 205, 154, 626, 428, 284, 295,  37, 705, 552, 217,\n       228,  43, 606, 706, 262, 642, 111, 258, 278, 450, 762, 280,   3,\n       607, 393,  47,  55, 476, 569, 534, 598, 594, 746, 499, 112, 270,\n       650,  96, 439, 490, 657, 409, 320, 768,  49, 636,  29, 179, 455,\n       593, 392, 742,  25, 498, 528, 520, 297, 352,  50,  40, 647, 204,\n       302, 353, 782, 632, 237, 317, 515, 580, 463, 609, 557, 108, 198,\n       693, 663, 113, 294, 355,  41, 662, 640, 629, 759, 127, 186, 733,\n       447, 313, 398, 101, 227, 747, 336, 402, 680, 395, 436, 423, 365,\n       477,  15, 153,  73, 727, 202, 679, 166, 457, 741, 309,  78, 167,\n       488,  70, 509, 156, 218, 603,   7, 122,  94, 682,  92, 740, 778,\n       307, 567, 781,  32, 223,  90, 656, 296, 147, 652, 723, 319, 210,\n       411, 475, 512, 596, 766, 189, 697,   1, 643,  58, 124, 624, 396,\n       277, 519, 752, 375, 144, 347, 770, 548,  17, 152, 672, 322, 292,\n       444, 708, 184, 745, 595, 197, 489, 622,  60, 542, 236, 188, 407,\n       538, 219, 170, 390, 335, 339, 120, 139, 226, 158, 478, 537, 472,\n       480, 240,  54, 178, 283, 333, 126, 180, 707, 615, 116, 282, 773,\n       545, 581, 780, 312]))"
     ]
    }
   ],
   "source": [
    "mylib2.make_train_val_split(train_portion = 1)"
   ]
  },
  {
   "cell_type": "code",
   "execution_count": 584,
   "id": "7aa92d67",
   "metadata": {},
   "outputs": [],
   "source": [
    "# choose cost\n",
    "mylib2.choose_cost(name = 'multiclass_softmax')"
   ]
  },
  {
   "cell_type": "code",
   "execution_count": 585,
   "id": "169bee21",
   "metadata": {
    "scrolled": true
   },
   "outputs": [],
   "source": [
    "# choose dimensions of fully connected multilayer perceptron layers\n",
    "layer_sizes = [10,10,10,10]\n",
    "mylib2.choose_features(feature_name = 'multilayer_perceptron',layer_sizes = layer_sizes, activation = 'relu',scale = 0.1)"
   ]
  },
  {
   "cell_type": "code",
   "execution_count": 586,
   "id": "d9d6d78d",
   "metadata": {},
   "outputs": [
    {
     "ename": "AttributeError",
     "evalue": "'Setup' object has no attribute 'y_train'",
     "output_type": "error",
     "traceback": [
      "\u001b[0;31m---------------------------------------------------------------------------\u001b[0m",
      "\u001b[0;31mAttributeError\u001b[0m                            Traceback (most recent call last)",
      "Cell \u001b[0;32mIn[586], line 1\u001b[0m\n\u001b[0;32m----> 1\u001b[0m \u001b[43mmylib2\u001b[49m\u001b[38;5;241;43m.\u001b[39;49m\u001b[43mfit\u001b[49m\u001b[43m(\u001b[49m\u001b[43mmax_its\u001b[49m\u001b[43m \u001b[49m\u001b[38;5;241;43m=\u001b[39;49m\u001b[43m \u001b[49m\u001b[38;5;241;43m10\u001b[39;49m\u001b[43m,\u001b[49m\u001b[43malpha_choice\u001b[49m\u001b[43m \u001b[49m\u001b[38;5;241;43m=\u001b[39;49m\u001b[43m \u001b[49m\u001b[38;5;241;43m10\u001b[39;49m\u001b[38;5;241;43m*\u001b[39;49m\u001b[38;5;241;43m*\u001b[39;49m\u001b[43m(\u001b[49m\u001b[38;5;241;43m-\u001b[39;49m\u001b[38;5;241;43m2\u001b[39;49m\u001b[43m)\u001b[49m\u001b[43m,\u001b[49m\u001b[43mverbose\u001b[49m\u001b[43m \u001b[49m\u001b[38;5;241;43m=\u001b[39;49m\u001b[43m \u001b[49m\u001b[38;5;28;43;01mFalse\u001b[39;49;00m\u001b[43m,\u001b[49m\u001b[43mbatch_size\u001b[49m\u001b[43m \u001b[49m\u001b[38;5;241;43m=\u001b[39;49m\u001b[43m \u001b[49m\u001b[38;5;241;43m200\u001b[39;49m\u001b[43m)\u001b[49m\n",
      "File \u001b[0;32m~/Desktop/GitHub_Files/435-deep-learning/super_setup.py:143\u001b[0m, in \u001b[0;36mfit\u001b[0;34m(self, **kwargs)\u001b[0m\n\u001b[1;32m    140\u001b[0m if 'batch_size' in kwargs:\n\u001b[1;32m    141\u001b[0m     self.batch_size = min(kwargs['batch_size'],self.batch_size)\n\u001b[0;32m--> 143\u001b[0m # verbose or not\n\u001b[1;32m    144\u001b[0m verbose = True\n\u001b[1;32m    145\u001b[0m if 'verbose' in kwargs:\n",
      "\u001b[0;31mAttributeError\u001b[0m: 'Setup' object has no attribute 'y_train'"
     ]
    }
   ],
   "source": [
    "mylib2.fit(max_its = 10,alpha_choice = 10**(-2),verbose = False,batch_size = 200)"
   ]
  },
  {
   "cell_type": "code",
   "execution_count": 587,
   "id": "6ecc5614",
   "metadata": {},
   "outputs": [
    {
     "ename": "AttributeError",
     "evalue": "'Setup' object has no attribute 'y_train'",
     "output_type": "error",
     "traceback": [
      "\u001b[0;31m---------------------------------------------------------------------------\u001b[0m",
      "\u001b[0;31mAttributeError\u001b[0m                            Traceback (most recent call last)",
      "Cell \u001b[0;32mIn[587], line 3\u001b[0m\n\u001b[1;32m      1\u001b[0m \u001b[38;5;66;03m# component-wise normalized version\u001b[39;00m\n\u001b[1;32m      2\u001b[0m mylib2\u001b[38;5;241m.\u001b[39mchoose_features(feature_name \u001b[38;5;241m=\u001b[39m \u001b[38;5;124m'\u001b[39m\u001b[38;5;124mmultilayer_perceptron_batch_normalized\u001b[39m\u001b[38;5;124m'\u001b[39m,layer_sizes \u001b[38;5;241m=\u001b[39m layer_sizes,activation \u001b[38;5;241m=\u001b[39m \u001b[38;5;124m'\u001b[39m\u001b[38;5;124mrelu\u001b[39m\u001b[38;5;124m'\u001b[39m,scale \u001b[38;5;241m=\u001b[39m \u001b[38;5;241m0.1\u001b[39m)\n\u001b[0;32m----> 3\u001b[0m \u001b[43mmylib2\u001b[49m\u001b[38;5;241;43m.\u001b[39;49m\u001b[43mfit\u001b[49m\u001b[43m(\u001b[49m\u001b[43mmax_its\u001b[49m\u001b[43m \u001b[49m\u001b[38;5;241;43m=\u001b[39;49m\u001b[43m \u001b[49m\u001b[38;5;241;43m10\u001b[39;49m\u001b[43m,\u001b[49m\u001b[43malpha_choice\u001b[49m\u001b[43m \u001b[49m\u001b[38;5;241;43m=\u001b[39;49m\u001b[43m \u001b[49m\u001b[38;5;241;43m10\u001b[39;49m\u001b[38;5;241;43m*\u001b[39;49m\u001b[38;5;241;43m*\u001b[39;49m\u001b[43m(\u001b[49m\u001b[38;5;241;43m-\u001b[39;49m\u001b[38;5;241;43m1\u001b[39;49m\u001b[43m)\u001b[49m\u001b[43m,\u001b[49m\u001b[43mverbose\u001b[49m\u001b[43m \u001b[49m\u001b[38;5;241;43m=\u001b[39;49m\u001b[43m \u001b[49m\u001b[38;5;28;43;01mFalse\u001b[39;49;00m\u001b[43m,\u001b[49m\u001b[43mw_init\u001b[49m\u001b[43m \u001b[49m\u001b[38;5;241;43m=\u001b[39;49m\u001b[43m \u001b[49m\u001b[43mmylib\u001b[49m\u001b[38;5;241;43m.\u001b[39;49m\u001b[43mw_init\u001b[49m\u001b[43m,\u001b[49m\u001b[43mbatch_size\u001b[49m\u001b[43m \u001b[49m\u001b[38;5;241;43m=\u001b[39;49m\u001b[43m \u001b[49m\u001b[38;5;241;43m200\u001b[39;49m\u001b[43m)\u001b[49m\n",
      "File \u001b[0;32m~/Desktop/GitHub_Files/435-deep-learning/super_setup.py:143\u001b[0m, in \u001b[0;36mfit\u001b[0;34m(self, **kwargs)\u001b[0m\n\u001b[1;32m    140\u001b[0m if 'batch_size' in kwargs:\n\u001b[1;32m    141\u001b[0m     self.batch_size = min(kwargs['batch_size'],self.batch_size)\n\u001b[0;32m--> 143\u001b[0m # verbose or not\n\u001b[1;32m    144\u001b[0m verbose = True\n\u001b[1;32m    145\u001b[0m if 'verbose' in kwargs:\n",
      "\u001b[0;31mAttributeError\u001b[0m: 'Setup' object has no attribute 'y_train'"
     ]
    }
   ],
   "source": [
    "# component-wise normalized version\n",
    "mylib2.choose_features(feature_name = 'multilayer_perceptron_batch_normalized',layer_sizes = layer_sizes,activation = 'relu',scale = 0.1)\n",
    "mylib2.fit(max_its = 10,alpha_choice = 10**(-1),verbose = False,w_init = mylib.w_init,batch_size = 200)"
   ]
  },
  {
   "cell_type": "code",
   "execution_count": null,
   "id": "9c487def",
   "metadata": {},
   "outputs": [],
   "source": [
    " # plot cost function history\n",
    "labels = ['regular','batch-normalized']\n",
    "mylib2.show_multirun_histories(start = 0,labels = labels)"
   ]
  },
  {
   "cell_type": "markdown",
   "id": "80cb05b1",
   "metadata": {},
   "source": [
    "# 13.9 Early Stopping Cross-Validation"
   ]
  },
  {
   "cell_type": "code",
   "execution_count": 456,
   "id": "2d821539",
   "metadata": {},
   "outputs": [
    {
     "name": "stdout",
     "output_type": "stream",
     "text": [
      "(20, 2)\n",
      "(1, 2)\n"
     ]
    }
   ],
   "source": [
    "# load in dataset\n",
    "csvname = datapath + 'noisy_sin_sample.csv'\n",
    "data = np.loadtxt(csvname, delimiter = ',')\n",
    "x = data[:-1,:]\n",
    "y = data[-1:,:]\n",
    "\n",
    "print(np.shape(x))\n",
    "print(np.shape(y))\n"
   ]
  },
  {
   "cell_type": "code",
   "execution_count": 457,
   "id": "b7e20e8b",
   "metadata": {},
   "outputs": [],
   "source": [
    "import polys\n",
    "import cost_functions3\n",
    "import optimizers"
   ]
  },
  {
   "cell_type": "code",
   "execution_count": 472,
   "id": "95868ec6",
   "metadata": {},
   "outputs": [],
   "source": [
    "class Setup3:\n",
    "    def __init__(self,x,y,**kwargs):\n",
    "        # link in data\n",
    "        self.x = x\n",
    "        self.y = y\n",
    "        \n",
    "        # make containers for all histories\n",
    "        self.weight_histories = []\n",
    "        self.train_cost_histories = []\n",
    "        self.train_count_histories = []\n",
    "        self.valid_cost_histories = []\n",
    "        self.valid_count_histories = []\n",
    "        \n",
    "    #### define feature transformation ####\n",
    "    def choose_features(self,name,**kwargs): \n",
    "        ### select from pre-made feature transforms ###\n",
    "        # multilayer perceptron #\n",
    "        if name == 'multilayer_perceptron':\n",
    "            self.transformer = multilayer_perceptron.Setup(**kwargs)\n",
    "            self.feature_transforms = self.transformer.feature_transforms\n",
    "            self.initializer = self.transformer.initializer\n",
    "            self.layer_sizes = self.transformer.layer_sizes\n",
    "            \n",
    "        if name == 'multilayer_perceptron_batch_normalized':\n",
    "            self.transformer = multilayer_perceptron_batch_normalized.Setup(**kwargs)\n",
    "            self.feature_transforms = self.transformer.feature_transforms\n",
    "            self.initializer = self.transformer.initializer\n",
    "            self.layer_sizes = self.transformer.layer_sizes\n",
    "            \n",
    "        # polynomials #\n",
    "        if name == 'polys':\n",
    "            self.transformer = polys.Setup(self.x,self.y,**kwargs)\n",
    "            self.feature_transforms = self.transformer.feature_transforms\n",
    "            self.initializer = self.transformer.initializer\n",
    "            self.degs = self.transformer.D            \n",
    "            \n",
    "        self.feature_name = name\n",
    "\n",
    "    #### define normalizer ####\n",
    "    def choose_normalizer(self,name):\n",
    "        # produce normalizer / inverse normalizer\n",
    "        s = normalizers.Setup(self.x,name)\n",
    "        self.normalizer = s.normalizer\n",
    "        self.inverse_normalizer = s.inverse_normalizer\n",
    "        \n",
    "        # normalize input \n",
    "        self.x = self.normalizer(self.x)\n",
    "        self.normalizer_name = name\n",
    "       \n",
    "    #### split data into training and validation sets ####\n",
    "    def make_train_valid_split(self,train_portion):\n",
    "        # translate desired training portion into exact indecies\n",
    "        r = np.random.permutation(self.x.shape[1])\n",
    "        train_num = int(np.round(train_portion*len(r)))\n",
    "        self.train_inds = r[:train_num]\n",
    "        self.valid_inds = r[train_num:]\n",
    "        \n",
    "        # define training and validation sets\n",
    "        self.x_train = self.x[:,self.train_inds]\n",
    "        self.x_valid = self.x[:,self.valid_inds]\n",
    "        \n",
    "        self.y_train = self.y[:,self.train_inds]\n",
    "        self.y_valid = self.y[:,self.valid_inds]\n",
    "     \n",
    "    #### define cost function ####\n",
    "    def choose_cost(self,name,**kwargs):\n",
    "        # create cost on entire dataset\n",
    "        funcs = cost_functions3.Setup(name,self.x,self.y,self.feature_transforms,**kwargs)\n",
    "        self.full_cost = funcs.cost\n",
    "        self.full_model = funcs.model\n",
    "\n",
    "        # create training and validation cost functions\n",
    "        funcs = cost_functions3.Setup(name,self.x_train,self.y_train,self.feature_transforms,**kwargs)\n",
    "        self.cost = funcs.cost\n",
    "        self.model = funcs.model\n",
    "        \n",
    "        funcs = cost_functions3.Setup(name,self.x_valid,self.y_valid,self.feature_transforms,**kwargs)\n",
    "        self.valid_cost = funcs.cost\n",
    "        self.valid_model = funcs.model\n",
    "\n",
    "        # if the cost function is a two-class classifier, build a counter too\n",
    "        if name == 'softmax' or name == 'perceptron':\n",
    "            funcs = cost_functions3.Setup('twoclass_counter',self.x_train,self.y_train,self.feature_transforms,**kwargs)\n",
    "            self.counter = funcs.cost\n",
    "            \n",
    "            funcs = cost_functions3.Setup('twoclass_counter',self.x_valid,self.y_valid,self.feature_transforms,**kwargs)\n",
    "            self.valid_counter = funcs.cost\n",
    "            \n",
    "        if name == 'multiclass_softmax' or name == 'multiclass_perceptron':\n",
    "            funcs = cost_functions3.Setup('multiclass_counter',self.x_train,self.y_train,self.feature_transforms,**kwargs)\n",
    "            self.counter = funcs.cost\n",
    "            \n",
    "            funcs = cost_functions3.Setup('multiclass_counter',self.x_valid,self.y_valid,self.feature_transforms,**kwargs)\n",
    "            self.valid_counter = funcs.cost\n",
    "            \n",
    "        self.cost_name = name\n",
    "            \n",
    "    #### run optimization ####\n",
    "    def fit(self,**kwargs):\n",
    "        # basic parameters for gradient descent run (default algorithm)\n",
    "        max_its = 500; alpha_choice = 10**(-1);\n",
    "        self.w_init = self.initializer()\n",
    "        optimizer = 'gradient_descent'\n",
    "        epsilon = 10**(-10)\n",
    "        \n",
    "        # set parameters by hand\n",
    "        if 'max_its' in kwargs:\n",
    "            self.max_its = kwargs['max_its']\n",
    "        if 'alpha_choice' in kwargs:\n",
    "            self.alpha_choice = kwargs['alpha_choice']\n",
    "        if 'optimizer' in kwargs:\n",
    "            optimizer = kwargs['optimizer']\n",
    "        if 'epsilon' in kwargs:\n",
    "            epsilon = kwargs['epsilon']\n",
    "        if 'init' in kwargs:\n",
    "            print ('here')\n",
    "            self.w_init = kwargs['init']\n",
    "            \n",
    "        # batch size for gradient descent?\n",
    "        self.num_pts = np.size(self.y_train)\n",
    "        self.batch_size = np.size(self.y_train)\n",
    "        if 'batch_size' in kwargs:\n",
    "            self.batch_size = kwargs['batch_size']\n",
    "\n",
    "        # optimize\n",
    "        weight_history = []\n",
    "        \n",
    "        # run gradient descent\n",
    "        if optimizer == 'gradient_descent':\n",
    "            weight_history = optimizers.gradient_descent(self.cost,self.alpha_choice,self.max_its,self.w_init,self.num_pts,self.batch_size)\n",
    "        \n",
    "        if optimizer == 'RMSprop':\n",
    "            weight_history = optimizers.RMSprop(self.cost,self.alpha_choice,self.max_its,self.w_init,self.num_pts,self.batch_size)\n",
    " \n",
    "        # run gradient descent\n",
    "        if optimizer == 'newtons_method':\n",
    "            epsilon = 10**(-10)\n",
    "            if 'epsilon' in kwargs:\n",
    "                epsilon = kwargs['epsilon']\n",
    "            weight_history = optimizers.newtons_method(self.cost,epsilon,self.max_its,self.w_init,self.num_pts,self.batch_size)\n",
    "        \n",
    "\n",
    "        # compute training history\n",
    "        train_cost_history = [self.cost(v,np.arange(np.size(self.y_train))) for v in weight_history]\n",
    "        \n",
    "        # store all new histories\n",
    "        self.weight_histories.append(weight_history)\n",
    "        self.train_cost_histories.append(train_cost_history)\n",
    "        \n",
    "        # compute validation history\n",
    "        if len(self.valid_inds) > 0:\n",
    "            valid_cost_history = [self.valid_cost(v,np.arange(np.size(self.y_valid))) for v in weight_history]\n",
    "            self.valid_cost_histories.append(valid_cost_history)\n",
    "        \n",
    "        # if classification produce count history\n",
    "        if self.cost_name == 'softmax' or self.cost_name == 'perceptron' or self.cost_name == 'multiclass_softmax' or self.cost_name == 'multiclass_perceptron':\n",
    "            train_count_history = [self.counter(v) for v in weight_history]\n",
    "            self.train_count_histories.append(train_count_history)\n",
    "            \n",
    "            if len(self.valid_inds) > 0:\n",
    "                valid_count_history = [self.valid_counter(v) for v in weight_history]\n",
    "                self.valid_count_histories.append(valid_count_history)\n",
    " \n",
    "    #### plot histories ###\n",
    "    def show_histories(self,**kwargs):\n",
    "        start = 0\n",
    "        if 'start' in kwargs:\n",
    "            start = kwargs['start']\n",
    "        history_plotters.Setup(self.train_cost_histories,self.train_count_histories,self.valid_cost_histories,self.valid_count_histories,start)\n",
    "        \n",
    "    #### for batch normalized multilayer architecture only - set normalizers to desired settings ####\n",
    "    def fix_normalizers(self,w):\n",
    "        ### re-set feature transformation ###        \n",
    "        # fix normalization at each layer by passing data and specific weight through network\n",
    "        self.feature_transforms(self.x,w);\n",
    "        \n",
    "        # re-assign feature transformation based on these settings\n",
    "        self.validation_feature_transforms = self.transformer.validation_feature_transforms\n",
    "        \n",
    "        ### re-assign cost function (and counter) based on fixed architecture ###\n",
    "        funcs = cost_functions.Setup(self.cost_name,self.x,self.y,self.validation_feature_transforms)\n",
    "        self.model = funcs.model"
   ]
  },
  {
   "cell_type": "code",
   "execution_count": 473,
   "id": "db518a20",
   "metadata": {},
   "outputs": [],
   "source": [
    "mylib3 = Setup3(x,y)"
   ]
  },
  {
   "cell_type": "code",
   "execution_count": 474,
   "id": "6d868f37",
   "metadata": {},
   "outputs": [],
   "source": [
    "layer_sizes = [1,10,10,10,1]"
   ]
  },
  {
   "cell_type": "code",
   "execution_count": 475,
   "id": "8d010dba",
   "metadata": {},
   "outputs": [],
   "source": [
    "mylib3.choose_features(name = 'multilayer_perceptron',layer_sizes = layer_sizes,activation = 'tanh')"
   ]
  },
  {
   "cell_type": "code",
   "execution_count": 476,
   "id": "1f80a6b6",
   "metadata": {},
   "outputs": [],
   "source": [
    "mylib3.choose_normalizer(name = 'standard')"
   ]
  },
  {
   "cell_type": "code",
   "execution_count": 477,
   "id": "e402f9c3",
   "metadata": {},
   "outputs": [],
   "source": [
    "mylib3.make_train_valid_split(train_portion = 0.66)"
   ]
  },
  {
   "cell_type": "code",
   "execution_count": 478,
   "id": "3a7dffe0",
   "metadata": {},
   "outputs": [],
   "source": [
    "mylib3.choose_cost(name = 'least_squares')"
   ]
  },
  {
   "cell_type": "code",
   "execution_count": 136,
   "id": "96678324",
   "metadata": {},
   "outputs": [
    {
     "ename": "ValueError",
     "evalue": "shapes (1,20) and (1,10) not aligned: 20 (dim 1) != 1 (dim 0)",
     "output_type": "error",
     "traceback": [
      "\u001b[0;31m---------------------------------------------------------------------------\u001b[0m",
      "\u001b[0;31mValueError\u001b[0m                                Traceback (most recent call last)",
      "Cell \u001b[0;32mIn[136], line 1\u001b[0m\n\u001b[0;32m----> 1\u001b[0m \u001b[43mmylib\u001b[49m\u001b[38;5;241;43m.\u001b[39;49m\u001b[43mfit\u001b[49m\u001b[43m(\u001b[49m\u001b[43mmax_its\u001b[49m\u001b[43m \u001b[49m\u001b[38;5;241;43m=\u001b[39;49m\u001b[43m \u001b[49m\u001b[38;5;241;43m10000\u001b[39;49m\u001b[43m,\u001b[49m\u001b[43malpha_choice\u001b[49m\u001b[43m \u001b[49m\u001b[38;5;241;43m=\u001b[39;49m\u001b[43m \u001b[49m\u001b[38;5;241;43m10\u001b[39;49m\u001b[38;5;241;43m*\u001b[39;49m\u001b[38;5;241;43m*\u001b[39;49m\u001b[43m(\u001b[49m\u001b[38;5;241;43m-\u001b[39;49m\u001b[38;5;241;43m1\u001b[39;49m\u001b[43m)\u001b[49m\u001b[43m)\u001b[49m\n",
      "Cell \u001b[0;32mIn[120], line 130\u001b[0m, in \u001b[0;36mSetup3.fit\u001b[0;34m(self, **kwargs)\u001b[0m\n\u001b[1;32m    128\u001b[0m \u001b[38;5;66;03m# run gradient descent\u001b[39;00m\n\u001b[1;32m    129\u001b[0m \u001b[38;5;28;01mif\u001b[39;00m optimizer \u001b[38;5;241m==\u001b[39m \u001b[38;5;124m'\u001b[39m\u001b[38;5;124mgradient_descent\u001b[39m\u001b[38;5;124m'\u001b[39m:\n\u001b[0;32m--> 130\u001b[0m     weight_history \u001b[38;5;241m=\u001b[39m \u001b[43moptimizers\u001b[49m\u001b[38;5;241;43m.\u001b[39;49m\u001b[43mgradient_descent\u001b[49m\u001b[43m(\u001b[49m\u001b[38;5;28;43mself\u001b[39;49m\u001b[38;5;241;43m.\u001b[39;49m\u001b[43mcost\u001b[49m\u001b[43m,\u001b[49m\u001b[38;5;28;43mself\u001b[39;49m\u001b[38;5;241;43m.\u001b[39;49m\u001b[43malpha_choice\u001b[49m\u001b[43m,\u001b[49m\u001b[38;5;28;43mself\u001b[39;49m\u001b[38;5;241;43m.\u001b[39;49m\u001b[43mmax_its\u001b[49m\u001b[43m,\u001b[49m\u001b[38;5;28;43mself\u001b[39;49m\u001b[38;5;241;43m.\u001b[39;49m\u001b[43mw_init\u001b[49m\u001b[43m,\u001b[49m\u001b[38;5;28;43mself\u001b[39;49m\u001b[38;5;241;43m.\u001b[39;49m\u001b[43mnum_pts\u001b[49m\u001b[43m,\u001b[49m\u001b[38;5;28;43mself\u001b[39;49m\u001b[38;5;241;43m.\u001b[39;49m\u001b[43mbatch_size\u001b[49m\u001b[43m)\u001b[49m\n\u001b[1;32m    132\u001b[0m \u001b[38;5;28;01mif\u001b[39;00m optimizer \u001b[38;5;241m==\u001b[39m \u001b[38;5;124m'\u001b[39m\u001b[38;5;124mRMSprop\u001b[39m\u001b[38;5;124m'\u001b[39m:\n\u001b[1;32m    133\u001b[0m     weight_history \u001b[38;5;241m=\u001b[39m optimizers\u001b[38;5;241m.\u001b[39mRMSprop(\u001b[38;5;28mself\u001b[39m\u001b[38;5;241m.\u001b[39mcost,\u001b[38;5;28mself\u001b[39m\u001b[38;5;241m.\u001b[39malpha_choice,\u001b[38;5;28mself\u001b[39m\u001b[38;5;241m.\u001b[39mmax_its,\u001b[38;5;28mself\u001b[39m\u001b[38;5;241m.\u001b[39mw_init,\u001b[38;5;28mself\u001b[39m\u001b[38;5;241m.\u001b[39mnum_pts,\u001b[38;5;28mself\u001b[39m\u001b[38;5;241m.\u001b[39mbatch_size)\n",
      "File \u001b[0;32m~/Desktop/GitHub_Files/435-deep-learning/optimizers.py:38\u001b[0m, in \u001b[0;36mgradient_descent\u001b[0;34m(g, alpha, max_its, w, num_pts, batch_size, **kwargs)\u001b[0m\n\u001b[1;32m     35\u001b[0m batch_inds \u001b[38;5;241m=\u001b[39m np\u001b[38;5;241m.\u001b[39marange(b\u001b[38;5;241m*\u001b[39mbatch_size, \u001b[38;5;28mmin\u001b[39m((b\u001b[38;5;241m+\u001b[39m\u001b[38;5;241m1\u001b[39m)\u001b[38;5;241m*\u001b[39mbatch_size, num_pts))\n\u001b[1;32m     37\u001b[0m \u001b[38;5;66;03m# plug in value into func and derivative\u001b[39;00m\n\u001b[0;32m---> 38\u001b[0m cost_eval,grad_eval \u001b[38;5;241m=\u001b[39m \u001b[43mgrad\u001b[49m\u001b[43m(\u001b[49m\u001b[43mw\u001b[49m\u001b[43m,\u001b[49m\u001b[43mbatch_inds\u001b[49m\u001b[43m)\u001b[49m\n\u001b[1;32m     39\u001b[0m grad_eval\u001b[38;5;241m.\u001b[39mshape \u001b[38;5;241m=\u001b[39m np\u001b[38;5;241m.\u001b[39mshape(w)\n\u001b[1;32m     41\u001b[0m \u001b[38;5;66;03m# normalize?\u001b[39;00m\n",
      "File \u001b[0;32m~/opt/anaconda3/lib/python3.9/site-packages/autograd/wrap_util.py:20\u001b[0m, in \u001b[0;36munary_to_nary.<locals>.nary_operator.<locals>.nary_f\u001b[0;34m(*args, **kwargs)\u001b[0m\n\u001b[1;32m     18\u001b[0m \u001b[38;5;28;01melse\u001b[39;00m:\n\u001b[1;32m     19\u001b[0m     x \u001b[38;5;241m=\u001b[39m \u001b[38;5;28mtuple\u001b[39m(args[i] \u001b[38;5;28;01mfor\u001b[39;00m i \u001b[38;5;129;01min\u001b[39;00m argnum)\n\u001b[0;32m---> 20\u001b[0m \u001b[38;5;28;01mreturn\u001b[39;00m \u001b[43munary_operator\u001b[49m\u001b[43m(\u001b[49m\u001b[43munary_f\u001b[49m\u001b[43m,\u001b[49m\u001b[43m \u001b[49m\u001b[43mx\u001b[49m\u001b[43m,\u001b[49m\u001b[43m \u001b[49m\u001b[38;5;241;43m*\u001b[39;49m\u001b[43mnary_op_args\u001b[49m\u001b[43m,\u001b[49m\u001b[43m \u001b[49m\u001b[38;5;241;43m*\u001b[39;49m\u001b[38;5;241;43m*\u001b[39;49m\u001b[43mnary_op_kwargs\u001b[49m\u001b[43m)\u001b[49m\n",
      "File \u001b[0;32m~/opt/anaconda3/lib/python3.9/site-packages/autograd/differential_operators.py:138\u001b[0m, in \u001b[0;36mvalue_and_grad\u001b[0;34m(fun, x)\u001b[0m\n\u001b[1;32m    134\u001b[0m \u001b[38;5;129m@unary_to_nary\u001b[39m\n\u001b[1;32m    135\u001b[0m \u001b[38;5;28;01mdef\u001b[39;00m \u001b[38;5;21mvalue_and_grad\u001b[39m(fun, x):\n\u001b[1;32m    136\u001b[0m \u001b[38;5;250m    \u001b[39m\u001b[38;5;124;03m\"\"\"Returns a function that returns both value and gradient. Suitable for use\u001b[39;00m\n\u001b[1;32m    137\u001b[0m \u001b[38;5;124;03m    in scipy.optimize\"\"\"\u001b[39;00m\n\u001b[0;32m--> 138\u001b[0m     vjp, ans \u001b[38;5;241m=\u001b[39m \u001b[43m_make_vjp\u001b[49m\u001b[43m(\u001b[49m\u001b[43mfun\u001b[49m\u001b[43m,\u001b[49m\u001b[43m \u001b[49m\u001b[43mx\u001b[49m\u001b[43m)\u001b[49m\n\u001b[1;32m    139\u001b[0m     \u001b[38;5;28;01mif\u001b[39;00m \u001b[38;5;129;01mnot\u001b[39;00m vspace(ans)\u001b[38;5;241m.\u001b[39msize \u001b[38;5;241m==\u001b[39m \u001b[38;5;241m1\u001b[39m:\n\u001b[1;32m    140\u001b[0m         \u001b[38;5;28;01mraise\u001b[39;00m \u001b[38;5;167;01mTypeError\u001b[39;00m(\u001b[38;5;124m\"\u001b[39m\u001b[38;5;124mvalue_and_grad only applies to real scalar-output \u001b[39m\u001b[38;5;124m\"\u001b[39m\n\u001b[1;32m    141\u001b[0m                         \u001b[38;5;124m\"\u001b[39m\u001b[38;5;124mfunctions. Try jacobian, elementwise_grad or \u001b[39m\u001b[38;5;124m\"\u001b[39m\n\u001b[1;32m    142\u001b[0m                         \u001b[38;5;124m\"\u001b[39m\u001b[38;5;124mholomorphic_grad.\u001b[39m\u001b[38;5;124m\"\u001b[39m)\n",
      "File \u001b[0;32m~/opt/anaconda3/lib/python3.9/site-packages/autograd/core.py:10\u001b[0m, in \u001b[0;36mmake_vjp\u001b[0;34m(fun, x)\u001b[0m\n\u001b[1;32m      8\u001b[0m \u001b[38;5;28;01mdef\u001b[39;00m \u001b[38;5;21mmake_vjp\u001b[39m(fun, x):\n\u001b[1;32m      9\u001b[0m     start_node \u001b[38;5;241m=\u001b[39m VJPNode\u001b[38;5;241m.\u001b[39mnew_root()\n\u001b[0;32m---> 10\u001b[0m     end_value, end_node \u001b[38;5;241m=\u001b[39m  \u001b[43mtrace\u001b[49m\u001b[43m(\u001b[49m\u001b[43mstart_node\u001b[49m\u001b[43m,\u001b[49m\u001b[43m \u001b[49m\u001b[43mfun\u001b[49m\u001b[43m,\u001b[49m\u001b[43m \u001b[49m\u001b[43mx\u001b[49m\u001b[43m)\u001b[49m\n\u001b[1;32m     11\u001b[0m     \u001b[38;5;28;01mif\u001b[39;00m end_node \u001b[38;5;129;01mis\u001b[39;00m \u001b[38;5;28;01mNone\u001b[39;00m:\n\u001b[1;32m     12\u001b[0m         \u001b[38;5;28;01mdef\u001b[39;00m \u001b[38;5;21mvjp\u001b[39m(g): \u001b[38;5;28;01mreturn\u001b[39;00m vspace(x)\u001b[38;5;241m.\u001b[39mzeros()\n",
      "File \u001b[0;32m~/opt/anaconda3/lib/python3.9/site-packages/autograd/tracer.py:10\u001b[0m, in \u001b[0;36mtrace\u001b[0;34m(start_node, fun, x)\u001b[0m\n\u001b[1;32m      8\u001b[0m \u001b[38;5;28;01mwith\u001b[39;00m trace_stack\u001b[38;5;241m.\u001b[39mnew_trace() \u001b[38;5;28;01mas\u001b[39;00m t:\n\u001b[1;32m      9\u001b[0m     start_box \u001b[38;5;241m=\u001b[39m new_box(x, t, start_node)\n\u001b[0;32m---> 10\u001b[0m     end_box \u001b[38;5;241m=\u001b[39m \u001b[43mfun\u001b[49m\u001b[43m(\u001b[49m\u001b[43mstart_box\u001b[49m\u001b[43m)\u001b[49m\n\u001b[1;32m     11\u001b[0m     \u001b[38;5;28;01mif\u001b[39;00m isbox(end_box) \u001b[38;5;129;01mand\u001b[39;00m end_box\u001b[38;5;241m.\u001b[39m_trace \u001b[38;5;241m==\u001b[39m start_box\u001b[38;5;241m.\u001b[39m_trace:\n\u001b[1;32m     12\u001b[0m         \u001b[38;5;28;01mreturn\u001b[39;00m end_box\u001b[38;5;241m.\u001b[39m_value, end_box\u001b[38;5;241m.\u001b[39m_node\n",
      "File \u001b[0;32m~/opt/anaconda3/lib/python3.9/site-packages/autograd/wrap_util.py:15\u001b[0m, in \u001b[0;36munary_to_nary.<locals>.nary_operator.<locals>.nary_f.<locals>.unary_f\u001b[0;34m(x)\u001b[0m\n\u001b[1;32m     13\u001b[0m \u001b[38;5;28;01melse\u001b[39;00m:\n\u001b[1;32m     14\u001b[0m     subargs \u001b[38;5;241m=\u001b[39m subvals(args, \u001b[38;5;28mzip\u001b[39m(argnum, x))\n\u001b[0;32m---> 15\u001b[0m \u001b[38;5;28;01mreturn\u001b[39;00m \u001b[43mfun\u001b[49m\u001b[43m(\u001b[49m\u001b[38;5;241;43m*\u001b[39;49m\u001b[43msubargs\u001b[49m\u001b[43m,\u001b[49m\u001b[43m \u001b[49m\u001b[38;5;241;43m*\u001b[39;49m\u001b[38;5;241;43m*\u001b[39;49m\u001b[43mkwargs\u001b[49m\u001b[43m)\u001b[49m\n",
      "File \u001b[0;32m~/opt/anaconda3/lib/python3.9/site-packages/autograd/misc/flatten.py:32\u001b[0m, in \u001b[0;36mflatten_func.<locals>.<lambda>\u001b[0;34m(_x, *args)\u001b[0m\n\u001b[1;32m     30\u001b[0m \u001b[38;5;28;01mdef\u001b[39;00m \u001b[38;5;21mflatten_func\u001b[39m(func, example):\n\u001b[1;32m     31\u001b[0m     _ex, unflatten \u001b[38;5;241m=\u001b[39m flatten(example)\n\u001b[0;32m---> 32\u001b[0m     _func \u001b[38;5;241m=\u001b[39m \u001b[38;5;28;01mlambda\u001b[39;00m _x, \u001b[38;5;241m*\u001b[39margs: flatten(\u001b[43mfunc\u001b[49m\u001b[43m(\u001b[49m\u001b[43munflatten\u001b[49m\u001b[43m(\u001b[49m\u001b[43m_x\u001b[49m\u001b[43m)\u001b[49m\u001b[43m,\u001b[49m\u001b[43m \u001b[49m\u001b[38;5;241;43m*\u001b[39;49m\u001b[43margs\u001b[49m\u001b[43m)\u001b[49m)[\u001b[38;5;241m0\u001b[39m]\n\u001b[1;32m     33\u001b[0m     \u001b[38;5;28;01mreturn\u001b[39;00m _func, unflatten, _ex\n",
      "File \u001b[0;32m~/Desktop/GitHub_Files/435-deep-learning/cost_functions3.py:80\u001b[0m, in \u001b[0;36mSetup.least_squares\u001b[0;34m(self, w, iter)\u001b[0m\n\u001b[1;32m     77\u001b[0m y_p \u001b[38;5;241m=\u001b[39m \u001b[38;5;28mself\u001b[39m\u001b[38;5;241m.\u001b[39my[:,\u001b[38;5;28miter\u001b[39m]\n\u001b[1;32m     79\u001b[0m \u001b[38;5;66;03m# compute cost\u001b[39;00m\n\u001b[0;32m---> 80\u001b[0m cost \u001b[38;5;241m=\u001b[39m np\u001b[38;5;241m.\u001b[39msum((\u001b[38;5;28;43mself\u001b[39;49m\u001b[38;5;241;43m.\u001b[39;49m\u001b[43mmodel\u001b[49m\u001b[43m(\u001b[49m\u001b[43mx_p\u001b[49m\u001b[43m,\u001b[49m\u001b[43mw\u001b[49m\u001b[43m)\u001b[49m \u001b[38;5;241m-\u001b[39m y_p)\u001b[38;5;241m*\u001b[39m\u001b[38;5;241m*\u001b[39m\u001b[38;5;241m2\u001b[39m)\n\u001b[1;32m     81\u001b[0m \u001b[38;5;28;01mreturn\u001b[39;00m cost\u001b[38;5;241m/\u001b[39m\u001b[38;5;28mfloat\u001b[39m(np\u001b[38;5;241m.\u001b[39msize(x_p))\n",
      "File \u001b[0;32m~/Desktop/GitHub_Files/435-deep-learning/cost_functions3.py:54\u001b[0m, in \u001b[0;36mSetup.model\u001b[0;34m(self, x, w)\u001b[0m\n\u001b[1;32m     52\u001b[0m f \u001b[38;5;241m=\u001b[39m \u001b[38;5;241m0\u001b[39m\n\u001b[1;32m     53\u001b[0m \u001b[38;5;28;01mif\u001b[39;00m \u001b[38;5;28mlen\u001b[39m(\u001b[38;5;28mself\u001b[39m\u001b[38;5;241m.\u001b[39msig\u001b[38;5;241m.\u001b[39mparameters) \u001b[38;5;241m==\u001b[39m \u001b[38;5;241m2\u001b[39m:\n\u001b[0;32m---> 54\u001b[0m     f \u001b[38;5;241m=\u001b[39m \u001b[38;5;28;43mself\u001b[39;49m\u001b[38;5;241;43m.\u001b[39;49m\u001b[43mfeature_transforms\u001b[49m\u001b[43m(\u001b[49m\u001b[43mx\u001b[49m\u001b[43m,\u001b[49m\u001b[43mw\u001b[49m\u001b[43m[\u001b[49m\u001b[38;5;241;43m0\u001b[39;49m\u001b[43m]\u001b[49m\u001b[43m)\u001b[49m\n\u001b[1;32m     55\u001b[0m \u001b[38;5;28;01melse\u001b[39;00m: \n\u001b[1;32m     56\u001b[0m     f \u001b[38;5;241m=\u001b[39m \u001b[38;5;28mself\u001b[39m\u001b[38;5;241m.\u001b[39mfeature_transforms(x)    \n",
      "File \u001b[0;32m~/Desktop/GitHub_Files/435-deep-learning/multilayer_perceptron.py:100\u001b[0m, in \u001b[0;36mSetup.standard_feature_transforms\u001b[0;34m(self, a, w)\u001b[0m\n\u001b[1;32m     96\u001b[0m \u001b[38;5;28;01mdef\u001b[39;00m \u001b[38;5;21mstandard_feature_transforms\u001b[39m(\u001b[38;5;28mself\u001b[39m,a, w):    \n\u001b[1;32m     97\u001b[0m     \u001b[38;5;66;03m# loop through each layer matrix\u001b[39;00m\n\u001b[1;32m     98\u001b[0m     \u001b[38;5;28;01mfor\u001b[39;00m W \u001b[38;5;129;01min\u001b[39;00m w:\n\u001b[1;32m     99\u001b[0m         \u001b[38;5;66;03m# compute inner product with current layer weights\u001b[39;00m\n\u001b[0;32m--> 100\u001b[0m         a \u001b[38;5;241m=\u001b[39m W[\u001b[38;5;241m0\u001b[39m] \u001b[38;5;241m+\u001b[39m \u001b[43mnp\u001b[49m\u001b[38;5;241;43m.\u001b[39;49m\u001b[43mdot\u001b[49m\u001b[43m(\u001b[49m\u001b[43ma\u001b[49m\u001b[38;5;241;43m.\u001b[39;49m\u001b[43mT\u001b[49m\u001b[43m,\u001b[49m\u001b[43m \u001b[49m\u001b[43mW\u001b[49m\u001b[43m[\u001b[49m\u001b[38;5;241;43m1\u001b[39;49m\u001b[43m:\u001b[49m\u001b[43m]\u001b[49m\u001b[43m)\u001b[49m\n\u001b[1;32m    102\u001b[0m         \u001b[38;5;66;03m# output of layer activation\u001b[39;00m\n\u001b[1;32m    103\u001b[0m         a \u001b[38;5;241m=\u001b[39m \u001b[38;5;28mself\u001b[39m\u001b[38;5;241m.\u001b[39mactivation(a)\u001b[38;5;241m.\u001b[39mT\n",
      "File \u001b[0;32m~/opt/anaconda3/lib/python3.9/site-packages/autograd/tracer.py:44\u001b[0m, in \u001b[0;36mprimitive.<locals>.f_wrapped\u001b[0;34m(*args, **kwargs)\u001b[0m\n\u001b[1;32m     42\u001b[0m parents \u001b[38;5;241m=\u001b[39m \u001b[38;5;28mtuple\u001b[39m(box\u001b[38;5;241m.\u001b[39m_node \u001b[38;5;28;01mfor\u001b[39;00m _     , box \u001b[38;5;129;01min\u001b[39;00m boxed_args)\n\u001b[1;32m     43\u001b[0m argnums \u001b[38;5;241m=\u001b[39m \u001b[38;5;28mtuple\u001b[39m(argnum    \u001b[38;5;28;01mfor\u001b[39;00m argnum, _   \u001b[38;5;129;01min\u001b[39;00m boxed_args)\n\u001b[0;32m---> 44\u001b[0m ans \u001b[38;5;241m=\u001b[39m \u001b[43mf_wrapped\u001b[49m\u001b[43m(\u001b[49m\u001b[38;5;241;43m*\u001b[39;49m\u001b[43margvals\u001b[49m\u001b[43m,\u001b[49m\u001b[43m \u001b[49m\u001b[38;5;241;43m*\u001b[39;49m\u001b[38;5;241;43m*\u001b[39;49m\u001b[43mkwargs\u001b[49m\u001b[43m)\u001b[49m\n\u001b[1;32m     45\u001b[0m node \u001b[38;5;241m=\u001b[39m node_constructor(ans, f_wrapped, argvals, kwargs, argnums, parents)\n\u001b[1;32m     46\u001b[0m \u001b[38;5;28;01mreturn\u001b[39;00m new_box(ans, trace, node)\n",
      "File \u001b[0;32m~/opt/anaconda3/lib/python3.9/site-packages/autograd/tracer.py:48\u001b[0m, in \u001b[0;36mprimitive.<locals>.f_wrapped\u001b[0;34m(*args, **kwargs)\u001b[0m\n\u001b[1;32m     46\u001b[0m     \u001b[38;5;28;01mreturn\u001b[39;00m new_box(ans, trace, node)\n\u001b[1;32m     47\u001b[0m \u001b[38;5;28;01melse\u001b[39;00m:\n\u001b[0;32m---> 48\u001b[0m     \u001b[38;5;28;01mreturn\u001b[39;00m \u001b[43mf_raw\u001b[49m\u001b[43m(\u001b[49m\u001b[38;5;241;43m*\u001b[39;49m\u001b[43margs\u001b[49m\u001b[43m,\u001b[49m\u001b[43m \u001b[49m\u001b[38;5;241;43m*\u001b[39;49m\u001b[38;5;241;43m*\u001b[39;49m\u001b[43mkwargs\u001b[49m\u001b[43m)\u001b[49m\n",
      "File \u001b[0;32m<__array_function__ internals>:200\u001b[0m, in \u001b[0;36mdot\u001b[0;34m(*args, **kwargs)\u001b[0m\n",
      "\u001b[0;31mValueError\u001b[0m: shapes (1,20) and (1,10) not aligned: 20 (dim 1) != 1 (dim 0)"
     ]
    }
   ],
   "source": [
    "mylib3.fit(max_its = 10000,alpha_choice = 10**(-1))"
   ]
  },
  {
   "cell_type": "code",
   "execution_count": 138,
   "id": "c9dc28c9",
   "metadata": {},
   "outputs": [],
   "source": [
    "\n"
   ]
  },
  {
   "cell_type": "markdown",
   "id": "9fd15c23",
   "metadata": {},
   "source": [
    "# 13.10 Hand Written Digit Recognition Using Neural Networks "
   ]
  },
  {
   "cell_type": "code",
   "execution_count": 183,
   "id": "cb377508",
   "metadata": {},
   "outputs": [],
   "source": [
    "from sklearn.model_selection import train_test_split"
   ]
  },
  {
   "cell_type": "code",
   "execution_count": 279,
   "id": "836aa84a",
   "metadata": {
    "scrolled": true
   },
   "outputs": [],
   "source": [
    "# get MNIST data from online repository\n",
    "from sklearn.datasets import fetch_openml\n",
    "x, y = fetch_openml('mnist_784', version=1, return_X_y=True)\n",
    "\n"
   ]
  },
  {
   "cell_type": "code",
   "execution_count": 280,
   "id": "d005e164",
   "metadata": {},
   "outputs": [
    {
     "name": "stdout",
     "output_type": "stream",
     "text": [
      "(70000, 784)\n",
      "(70000, 1)\n"
     ]
    }
   ],
   "source": [
    "# convert string labels to integers\n",
    "y = np.array([int(v) for v in y])[:,np.newaxis]\n",
    "\n",
    "print(np.shape(x))\n",
    "print(np.shape(y))"
   ]
  },
  {
   "cell_type": "code",
   "execution_count": 285,
   "id": "7608869c",
   "metadata": {},
   "outputs": [],
   "source": [
    "x1 = x.T\n",
    "y1  = y.T"
   ]
  },
  {
   "cell_type": "code",
   "execution_count": 286,
   "id": "ddbb4b76",
   "metadata": {},
   "outputs": [],
   "source": [
    "# standard normalization function - with nan checker / filler in-er \n",
    "\n",
    "def standard_normalizer(x1):\n",
    "    # compute the mean and standard deviation of the input\n",
    "    x_means = np.nanmean(x1,axis = 1)[:,np.newaxis]\n",
    "    x_stds = np.nanstd(x1,axis = 1)[:,np.newaxis]\n",
    "    \n",
    "    # create standard normalizer function\n",
    "   \n",
    "    normalizer = lambda data: (data - x_means)/x_stds # create inverse standard normalizer\n",
    "    inverse_normalizer = lambda data: data*x_stds + x_means # return normalizer\n",
    "    \n",
    "    return normalizer,inverse_normalizer \n",
    "\n",
    "normalizer,inverse_normalizer = standard_normalizer(x1.T)\n",
    "x1 = normalizer(x1.T).T\n"
   ]
  },
  {
   "cell_type": "code",
   "execution_count": 331,
   "id": "b8374b4f",
   "metadata": {},
   "outputs": [],
   "source": [
    "x_sample, x_test = x[:50000],x[50000:]\n",
    "y_sample, y_test=y[:50000],y[50000:]"
   ]
  },
  {
   "cell_type": "code",
   "execution_count": 332,
   "id": "8635b466",
   "metadata": {},
   "outputs": [],
   "source": [
    "shuffled = np.random.permutation(50000)\n",
    "x_sample = x_sample.iloc[shuffled] \n",
    "y_sample = y_sample[shuffled]"
   ]
  },
  {
   "cell_type": "code",
   "execution_count": 333,
   "id": "1b746d81",
   "metadata": {},
   "outputs": [],
   "source": [
    "mylib4 = Setup3(x_sample,y_sample)"
   ]
  },
  {
   "cell_type": "code",
   "execution_count": 334,
   "id": "8e812abd",
   "metadata": {},
   "outputs": [],
   "source": [
    "layer_sizes = [784,100,100,10]"
   ]
  },
  {
   "cell_type": "code",
   "execution_count": 335,
   "id": "6a3acfce",
   "metadata": {},
   "outputs": [],
   "source": [
    "mylib4.choose_features(name = 'multilayer_perceptron',layer_sizes = layer_sizes,activation = 'maxout',scale=0.1)"
   ]
  },
  {
   "cell_type": "code",
   "execution_count": 336,
   "id": "5d73982f",
   "metadata": {},
   "outputs": [],
   "source": [
    "mylib4.choose_normalizer(name = 'standard')"
   ]
  },
  {
   "cell_type": "code",
   "execution_count": 337,
   "id": "99ec570e",
   "metadata": {},
   "outputs": [
    {
     "ename": "InvalidIndexError",
     "evalue": "(slice(None, None, None), array([ 99, 223, 442, 376, 273, 643, 676, 702, 758, 204, 503,  19, 760,\n       186, 306,  53, 599, 363, 148, 578, 713,  28, 261,  51, 238, 270,\n         8, 312,  43,   4, 123, 766,  49, 726, 263, 604, 337, 269, 408,\n       111, 315, 600, 492, 521, 745, 241, 354, 341, 386, 747, 725, 342,\n        98, 384,  18,  86,  58,  64, 519, 455, 209, 479, 449, 407, 562,\n       162, 170, 303, 765, 435, 338, 775, 268, 502, 310,  25, 611, 200,\n       551, 552, 563, 731, 727,  69, 180, 323, 271, 360, 374, 299, 582,\n       151, 752, 179, 137, 232,  65, 222, 633,  15, 567,  61, 608,  20,\n       368, 672, 473,  93, 436,  80, 644, 149, 730, 501, 739, 593, 350,\n       524, 656,  76,   6, 175, 668,   1, 772, 509, 249, 565, 622, 348,\n       667, 700, 635, 648, 534, 533, 580,  67, 680, 621, 570,  88, 743,\n       486, 296, 738, 734,   7, 712, 532, 220, 441, 693, 741, 471, 781,\n       305, 185, 451, 462, 413,  23, 227, 681, 707, 780, 541, 155, 483,\n       757, 344, 389, 367, 579, 729, 477, 545, 601, 456, 419, 591, 352,\n       660, 345, 433, 634, 507, 301, 395,  35, 630, 645, 674, 288, 230,\n       432, 557,  24, 658,   3, 158, 587, 429, 121, 401, 190, 602, 351,\n       210, 242, 778,  92, 671, 276, 112, 317, 556, 423, 682, 612, 213,\n       536, 214, 128, 623, 629, 328, 628,  52, 168, 688, 539, 188, 197,\n       160, 259, 358, 690,  83, 239, 625, 718, 504, 133, 475, 490, 603,\n       382, 670, 192, 246, 616, 464, 516, 706, 349, 701, 531, 698, 357,\n       711, 481,  81, 549, 280, 617, 217,  73, 147, 231, 176, 225, 443,\n       257,  63,  85, 618, 664, 764,  32,  29, 145, 560, 181, 476, 282,\n        12,  16, 383, 588, 695,  96, 542, 398, 759, 109, 219,  27, 169,\n       446, 346, 125, 403, 347,  33, 590,  54,  71, 138, 548,   5, 669,\n       453, 773, 639, 171,  44, 189, 334, 636, 245, 653, 420,  82, 640,\n       375, 102, 777,  13, 550, 466, 183, 251, 364, 172, 748, 585,  22,\n       416, 140, 292, 697, 428, 275, 184, 229, 381, 330, 500, 196, 233,\n       592, 610, 152, 447, 744, 584, 746, 320, 256, 683, 353, 498, 207,\n       546, 448, 146, 515, 400, 325,  47, 626,  10, 234, 377, 212, 321,\n       710, 355, 465, 526, 525, 583, 289, 517, 696, 411, 182, 421, 414,\n       201, 285, 167,  38, 685, 326, 356, 136,  37, 405, 283, 689, 756,\n       637, 115, 117, 324, 371, 218, 114, 751, 426,  46, 547, 692,  75,\n       412, 119, 762, 512, 569, 393, 753, 108, 537, 332,  56, 215, 409,\n       763, 161, 106, 216, 104, 553,  62, 571, 253, 694, 776, 596, 373,\n       632, 107, 704, 703, 445, 638, 522, 771, 613, 540, 679,  77, 422,\n       736, 627, 424, 150, 474, 173, 783, 723, 506, 318, 675, 478, 406,\n       372, 410, 165,  94, 495, 469, 298, 397, 237, 459, 686, 425, 122,\n       770, 394, 178, 388, 174, 605, 430, 308,   2, 194, 530, 529, 359,\n       365, 597, 316, 313, 266, 740, 304, 663, 508, 513, 262, 472, 450,\n       258, 576, 684,  36, 291, 418, 458, 641, 143, 272, 124, 101, 295,\n       715, 568, 208, 652, 646, 520, 768, 720, 333, 699, 260, 485, 457,\n       221, 614, 387, 755, 651, 714, 279, 392, 236, 415, 286, 586, 577,\n       113,  90, 255, 678, 717, 572, 566, 491, 615, 440, 362, 244, 437,\n       366, 749, 267,  45, 322, 631, 518, 293, 274, 264, 100, 226,  41,\n        48, 103, 370, 254, 110, 211,  66, 380, 224, 131, 494, 277, 127,\n       493, 203, 735, 132, 199, 470, 129, 339, 467, 589,  17, 620, 497,\n        91, 284, 336, 116, 118, 126, 452, 558, 166, 454, 206,  95, 319,\n       535,  74, 654, 574, 659, 327, 737, 278, 544, 724,  39, 561, 297,\n       135, 157, 708, 732, 191, 647,  72,  79, 677, 156, 378, 527, 774,\n       650, 559, 307,  78,  87, 281, 329, 489, 141, 139, 294, 595,  97,\n       510, 673, 484]))",
     "output_type": "error",
     "traceback": [
      "\u001b[0;31m---------------------------------------------------------------------------\u001b[0m",
      "\u001b[0;31mTypeError\u001b[0m                                 Traceback (most recent call last)",
      "File \u001b[0;32m~/opt/anaconda3/lib/python3.9/site-packages/pandas/core/indexes/base.py:3802\u001b[0m, in \u001b[0;36mIndex.get_loc\u001b[0;34m(self, key, method, tolerance)\u001b[0m\n\u001b[1;32m   3801\u001b[0m \u001b[38;5;28;01mtry\u001b[39;00m:\n\u001b[0;32m-> 3802\u001b[0m     \u001b[38;5;28;01mreturn\u001b[39;00m \u001b[38;5;28;43mself\u001b[39;49m\u001b[38;5;241;43m.\u001b[39;49m\u001b[43m_engine\u001b[49m\u001b[38;5;241;43m.\u001b[39;49m\u001b[43mget_loc\u001b[49m\u001b[43m(\u001b[49m\u001b[43mcasted_key\u001b[49m\u001b[43m)\u001b[49m\n\u001b[1;32m   3803\u001b[0m \u001b[38;5;28;01mexcept\u001b[39;00m \u001b[38;5;167;01mKeyError\u001b[39;00m \u001b[38;5;28;01mas\u001b[39;00m err:\n",
      "File \u001b[0;32m~/opt/anaconda3/lib/python3.9/site-packages/pandas/_libs/index.pyx:138\u001b[0m, in \u001b[0;36mpandas._libs.index.IndexEngine.get_loc\u001b[0;34m()\u001b[0m\n",
      "File \u001b[0;32m~/opt/anaconda3/lib/python3.9/site-packages/pandas/_libs/index.pyx:144\u001b[0m, in \u001b[0;36mpandas._libs.index.IndexEngine.get_loc\u001b[0;34m()\u001b[0m\n",
      "\u001b[0;31mTypeError\u001b[0m: '(slice(None, None, None), array([ 99, 223, 442, 376, 273, 643, 676, 702, 758, 204, 503,  19, 760,\n       186, 306,  53, 599, 363, 148, 578, 713,  28, 261,  51, 238, 270,\n         8, 312,  43,   4, 123, 766,  49, 726, 263, 604, 337, 269, 408,\n       111, 315, 600, 492, 521, 745, 241, 354, 341, 386, 747, 725, 342,\n        98, 384,  18,  86,  58,  64, 519, 455, 209, 479, 449, 407, 562,\n       162, 170, 303, 765, 435, 338, 775, 268, 502, 310,  25, 611, 200,\n       551, 552, 563, 731, 727,  69, 180, 323, 271, 360, 374, 299, 582,\n       151, 752, 179, 137, 232,  65, 222, 633,  15, 567,  61, 608,  20,\n       368, 672, 473,  93, 436,  80, 644, 149, 730, 501, 739, 593, 350,\n       524, 656,  76,   6, 175, 668,   1, 772, 509, 249, 565, 622, 348,\n       667, 700, 635, 648, 534, 533, 580,  67, 680, 621, 570,  88, 743,\n       486, 296, 738, 734,   7, 712, 532, 220, 441, 693, 741, 471, 781,\n       305, 185, 451, 462, 413,  23, 227, 681, 707, 780, 541, 155, 483,\n       757, 344, 389, 367, 579, 729, 477, 545, 601, 456, 419, 591, 352,\n       660, 345, 433, 634, 507, 301, 395,  35, 630, 645, 674, 288, 230,\n       432, 557,  24, 658,   3, 158, 587, 429, 121, 401, 190, 602, 351,\n       210, 242, 778,  92, 671, 276, 112, 317, 556, 423, 682, 612, 213,\n       536, 214, 128, 623, 629, 328, 628,  52, 168, 688, 539, 188, 197,\n       160, 259, 358, 690,  83, 239, 625, 718, 504, 133, 475, 490, 603,\n       382, 670, 192, 246, 616, 464, 516, 706, 349, 701, 531, 698, 357,\n       711, 481,  81, 549, 280, 617, 217,  73, 147, 231, 176, 225, 443,\n       257,  63,  85, 618, 664, 764,  32,  29, 145, 560, 181, 476, 282,\n        12,  16, 383, 588, 695,  96, 542, 398, 759, 109, 219,  27, 169,\n       446, 346, 125, 403, 347,  33, 590,  54,  71, 138, 548,   5, 669,\n       453, 773, 639, 171,  44, 189, 334, 636, 245, 653, 420,  82, 640,\n       375, 102, 777,  13, 550, 466, 183, 251, 364, 172, 748, 585,  22,\n       416, 140, 292, 697, 428, 275, 184, 229, 381, 330, 500, 196, 233,\n       592, 610, 152, 447, 744, 584, 746, 320, 256, 683, 353, 498, 207,\n       546, 448, 146, 515, 400, 325,  47, 626,  10, 234, 377, 212, 321,\n       710, 355, 465, 526, 525, 583, 289, 517, 696, 411, 182, 421, 414,\n       201, 285, 167,  38, 685, 326, 356, 136,  37, 405, 283, 689, 756,\n       637, 115, 117, 324, 371, 218, 114, 751, 426,  46, 547, 692,  75,\n       412, 119, 762, 512, 569, 393, 753, 108, 537, 332,  56, 215, 409,\n       763, 161, 106, 216, 104, 553,  62, 571, 253, 694, 776, 596, 373,\n       632, 107, 704, 703, 445, 638, 522, 771, 613, 540, 679,  77, 422,\n       736, 627, 424, 150, 474, 173, 783, 723, 506, 318, 675, 478, 406,\n       372, 410, 165,  94, 495, 469, 298, 397, 237, 459, 686, 425, 122,\n       770, 394, 178, 388, 174, 605, 430, 308,   2, 194, 530, 529, 359,\n       365, 597, 316, 313, 266, 740, 304, 663, 508, 513, 262, 472, 450,\n       258, 576, 684,  36, 291, 418, 458, 641, 143, 272, 124, 101, 295,\n       715, 568, 208, 652, 646, 520, 768, 720, 333, 699, 260, 485, 457,\n       221, 614, 387, 755, 651, 714, 279, 392, 236, 415, 286, 586, 577,\n       113,  90, 255, 678, 717, 572, 566, 491, 615, 440, 362, 244, 437,\n       366, 749, 267,  45, 322, 631, 518, 293, 274, 264, 100, 226,  41,\n        48, 103, 370, 254, 110, 211,  66, 380, 224, 131, 494, 277, 127,\n       493, 203, 735, 132, 199, 470, 129, 339, 467, 589,  17, 620, 497,\n        91, 284, 336, 116, 118, 126, 452, 558, 166, 454, 206,  95, 319,\n       535,  74, 654, 574, 659, 327, 737, 278, 544, 724,  39, 561, 297,\n       135, 157, 708, 732, 191, 647,  72,  79, 677, 156, 378, 527, 774,\n       650, 559, 307,  78,  87, 281, 329, 489, 141, 139, 294, 595,  97,\n       510, 673, 484]))' is an invalid key",
      "\nDuring handling of the above exception, another exception occurred:\n",
      "\u001b[0;31mInvalidIndexError\u001b[0m                         Traceback (most recent call last)",
      "Cell \u001b[0;32mIn[337], line 2\u001b[0m\n\u001b[1;32m      1\u001b[0m \u001b[38;5;66;03m# split into training and testing sets\u001b[39;00m\n\u001b[0;32m----> 2\u001b[0m \u001b[43mmylib4\u001b[49m\u001b[38;5;241;43m.\u001b[39;49m\u001b[43mmake_train_valid_split\u001b[49m\u001b[43m(\u001b[49m\u001b[43mtrain_portion\u001b[49m\u001b[43m \u001b[49m\u001b[38;5;241;43m=\u001b[39;49m\u001b[43m \u001b[49m\u001b[38;5;241;43m5\u001b[39;49m\u001b[38;5;241;43m/\u001b[39;49m\u001b[38;5;241;43m6\u001b[39;49m\u001b[43m)\u001b[49m\n",
      "Cell \u001b[0;32mIn[330], line 59\u001b[0m, in \u001b[0;36mSetup3.make_train_valid_split\u001b[0;34m(self, train_portion)\u001b[0m\n\u001b[1;32m     56\u001b[0m \u001b[38;5;28mself\u001b[39m\u001b[38;5;241m.\u001b[39mvalid_inds \u001b[38;5;241m=\u001b[39m r[train_num:]\n\u001b[1;32m     58\u001b[0m \u001b[38;5;66;03m# define training and validation sets\u001b[39;00m\n\u001b[0;32m---> 59\u001b[0m \u001b[38;5;28mself\u001b[39m\u001b[38;5;241m.\u001b[39mx_train \u001b[38;5;241m=\u001b[39m \u001b[38;5;28;43mself\u001b[39;49m\u001b[38;5;241;43m.\u001b[39;49m\u001b[43mx\u001b[49m\u001b[43m[\u001b[49m\u001b[43m:\u001b[49m\u001b[43m,\u001b[49m\u001b[38;5;28;43mself\u001b[39;49m\u001b[38;5;241;43m.\u001b[39;49m\u001b[43mtrain_inds\u001b[49m\u001b[43m]\u001b[49m\n\u001b[1;32m     60\u001b[0m \u001b[38;5;28mself\u001b[39m\u001b[38;5;241m.\u001b[39mx_valid \u001b[38;5;241m=\u001b[39m \u001b[38;5;28mself\u001b[39m\u001b[38;5;241m.\u001b[39mx[:,\u001b[38;5;28mself\u001b[39m\u001b[38;5;241m.\u001b[39mvalid_inds]\n\u001b[1;32m     62\u001b[0m \u001b[38;5;28mself\u001b[39m\u001b[38;5;241m.\u001b[39my_train \u001b[38;5;241m=\u001b[39m \u001b[38;5;28mself\u001b[39m\u001b[38;5;241m.\u001b[39my[:,\u001b[38;5;28mself\u001b[39m\u001b[38;5;241m.\u001b[39mtrain_inds]\n",
      "File \u001b[0;32m~/opt/anaconda3/lib/python3.9/site-packages/pandas/core/frame.py:3807\u001b[0m, in \u001b[0;36mDataFrame.__getitem__\u001b[0;34m(self, key)\u001b[0m\n\u001b[1;32m   3805\u001b[0m \u001b[38;5;28;01mif\u001b[39;00m \u001b[38;5;28mself\u001b[39m\u001b[38;5;241m.\u001b[39mcolumns\u001b[38;5;241m.\u001b[39mnlevels \u001b[38;5;241m>\u001b[39m \u001b[38;5;241m1\u001b[39m:\n\u001b[1;32m   3806\u001b[0m     \u001b[38;5;28;01mreturn\u001b[39;00m \u001b[38;5;28mself\u001b[39m\u001b[38;5;241m.\u001b[39m_getitem_multilevel(key)\n\u001b[0;32m-> 3807\u001b[0m indexer \u001b[38;5;241m=\u001b[39m \u001b[38;5;28;43mself\u001b[39;49m\u001b[38;5;241;43m.\u001b[39;49m\u001b[43mcolumns\u001b[49m\u001b[38;5;241;43m.\u001b[39;49m\u001b[43mget_loc\u001b[49m\u001b[43m(\u001b[49m\u001b[43mkey\u001b[49m\u001b[43m)\u001b[49m\n\u001b[1;32m   3808\u001b[0m \u001b[38;5;28;01mif\u001b[39;00m is_integer(indexer):\n\u001b[1;32m   3809\u001b[0m     indexer \u001b[38;5;241m=\u001b[39m [indexer]\n",
      "File \u001b[0;32m~/opt/anaconda3/lib/python3.9/site-packages/pandas/core/indexes/base.py:3809\u001b[0m, in \u001b[0;36mIndex.get_loc\u001b[0;34m(self, key, method, tolerance)\u001b[0m\n\u001b[1;32m   3804\u001b[0m         \u001b[38;5;28;01mraise\u001b[39;00m \u001b[38;5;167;01mKeyError\u001b[39;00m(key) \u001b[38;5;28;01mfrom\u001b[39;00m \u001b[38;5;21;01merr\u001b[39;00m\n\u001b[1;32m   3805\u001b[0m     \u001b[38;5;28;01mexcept\u001b[39;00m \u001b[38;5;167;01mTypeError\u001b[39;00m:\n\u001b[1;32m   3806\u001b[0m         \u001b[38;5;66;03m# If we have a listlike key, _check_indexing_error will raise\u001b[39;00m\n\u001b[1;32m   3807\u001b[0m         \u001b[38;5;66;03m#  InvalidIndexError. Otherwise we fall through and re-raise\u001b[39;00m\n\u001b[1;32m   3808\u001b[0m         \u001b[38;5;66;03m#  the TypeError.\u001b[39;00m\n\u001b[0;32m-> 3809\u001b[0m         \u001b[38;5;28;43mself\u001b[39;49m\u001b[38;5;241;43m.\u001b[39;49m\u001b[43m_check_indexing_error\u001b[49m\u001b[43m(\u001b[49m\u001b[43mkey\u001b[49m\u001b[43m)\u001b[49m\n\u001b[1;32m   3810\u001b[0m         \u001b[38;5;28;01mraise\u001b[39;00m\n\u001b[1;32m   3812\u001b[0m \u001b[38;5;66;03m# GH#42269\u001b[39;00m\n",
      "File \u001b[0;32m~/opt/anaconda3/lib/python3.9/site-packages/pandas/core/indexes/base.py:5925\u001b[0m, in \u001b[0;36mIndex._check_indexing_error\u001b[0;34m(self, key)\u001b[0m\n\u001b[1;32m   5921\u001b[0m \u001b[38;5;28;01mdef\u001b[39;00m \u001b[38;5;21m_check_indexing_error\u001b[39m(\u001b[38;5;28mself\u001b[39m, key):\n\u001b[1;32m   5922\u001b[0m     \u001b[38;5;28;01mif\u001b[39;00m \u001b[38;5;129;01mnot\u001b[39;00m is_scalar(key):\n\u001b[1;32m   5923\u001b[0m         \u001b[38;5;66;03m# if key is not a scalar, directly raise an error (the code below\u001b[39;00m\n\u001b[1;32m   5924\u001b[0m         \u001b[38;5;66;03m# would convert to numpy arrays and raise later any way) - GH29926\u001b[39;00m\n\u001b[0;32m-> 5925\u001b[0m         \u001b[38;5;28;01mraise\u001b[39;00m InvalidIndexError(key)\n",
      "\u001b[0;31mInvalidIndexError\u001b[0m: (slice(None, None, None), array([ 99, 223, 442, 376, 273, 643, 676, 702, 758, 204, 503,  19, 760,\n       186, 306,  53, 599, 363, 148, 578, 713,  28, 261,  51, 238, 270,\n         8, 312,  43,   4, 123, 766,  49, 726, 263, 604, 337, 269, 408,\n       111, 315, 600, 492, 521, 745, 241, 354, 341, 386, 747, 725, 342,\n        98, 384,  18,  86,  58,  64, 519, 455, 209, 479, 449, 407, 562,\n       162, 170, 303, 765, 435, 338, 775, 268, 502, 310,  25, 611, 200,\n       551, 552, 563, 731, 727,  69, 180, 323, 271, 360, 374, 299, 582,\n       151, 752, 179, 137, 232,  65, 222, 633,  15, 567,  61, 608,  20,\n       368, 672, 473,  93, 436,  80, 644, 149, 730, 501, 739, 593, 350,\n       524, 656,  76,   6, 175, 668,   1, 772, 509, 249, 565, 622, 348,\n       667, 700, 635, 648, 534, 533, 580,  67, 680, 621, 570,  88, 743,\n       486, 296, 738, 734,   7, 712, 532, 220, 441, 693, 741, 471, 781,\n       305, 185, 451, 462, 413,  23, 227, 681, 707, 780, 541, 155, 483,\n       757, 344, 389, 367, 579, 729, 477, 545, 601, 456, 419, 591, 352,\n       660, 345, 433, 634, 507, 301, 395,  35, 630, 645, 674, 288, 230,\n       432, 557,  24, 658,   3, 158, 587, 429, 121, 401, 190, 602, 351,\n       210, 242, 778,  92, 671, 276, 112, 317, 556, 423, 682, 612, 213,\n       536, 214, 128, 623, 629, 328, 628,  52, 168, 688, 539, 188, 197,\n       160, 259, 358, 690,  83, 239, 625, 718, 504, 133, 475, 490, 603,\n       382, 670, 192, 246, 616, 464, 516, 706, 349, 701, 531, 698, 357,\n       711, 481,  81, 549, 280, 617, 217,  73, 147, 231, 176, 225, 443,\n       257,  63,  85, 618, 664, 764,  32,  29, 145, 560, 181, 476, 282,\n        12,  16, 383, 588, 695,  96, 542, 398, 759, 109, 219,  27, 169,\n       446, 346, 125, 403, 347,  33, 590,  54,  71, 138, 548,   5, 669,\n       453, 773, 639, 171,  44, 189, 334, 636, 245, 653, 420,  82, 640,\n       375, 102, 777,  13, 550, 466, 183, 251, 364, 172, 748, 585,  22,\n       416, 140, 292, 697, 428, 275, 184, 229, 381, 330, 500, 196, 233,\n       592, 610, 152, 447, 744, 584, 746, 320, 256, 683, 353, 498, 207,\n       546, 448, 146, 515, 400, 325,  47, 626,  10, 234, 377, 212, 321,\n       710, 355, 465, 526, 525, 583, 289, 517, 696, 411, 182, 421, 414,\n       201, 285, 167,  38, 685, 326, 356, 136,  37, 405, 283, 689, 756,\n       637, 115, 117, 324, 371, 218, 114, 751, 426,  46, 547, 692,  75,\n       412, 119, 762, 512, 569, 393, 753, 108, 537, 332,  56, 215, 409,\n       763, 161, 106, 216, 104, 553,  62, 571, 253, 694, 776, 596, 373,\n       632, 107, 704, 703, 445, 638, 522, 771, 613, 540, 679,  77, 422,\n       736, 627, 424, 150, 474, 173, 783, 723, 506, 318, 675, 478, 406,\n       372, 410, 165,  94, 495, 469, 298, 397, 237, 459, 686, 425, 122,\n       770, 394, 178, 388, 174, 605, 430, 308,   2, 194, 530, 529, 359,\n       365, 597, 316, 313, 266, 740, 304, 663, 508, 513, 262, 472, 450,\n       258, 576, 684,  36, 291, 418, 458, 641, 143, 272, 124, 101, 295,\n       715, 568, 208, 652, 646, 520, 768, 720, 333, 699, 260, 485, 457,\n       221, 614, 387, 755, 651, 714, 279, 392, 236, 415, 286, 586, 577,\n       113,  90, 255, 678, 717, 572, 566, 491, 615, 440, 362, 244, 437,\n       366, 749, 267,  45, 322, 631, 518, 293, 274, 264, 100, 226,  41,\n        48, 103, 370, 254, 110, 211,  66, 380, 224, 131, 494, 277, 127,\n       493, 203, 735, 132, 199, 470, 129, 339, 467, 589,  17, 620, 497,\n        91, 284, 336, 116, 118, 126, 452, 558, 166, 454, 206,  95, 319,\n       535,  74, 654, 574, 659, 327, 737, 278, 544, 724,  39, 561, 297,\n       135, 157, 708, 732, 191, 647,  72,  79, 677, 156, 378, 527, 774,\n       650, 559, 307,  78,  87, 281, 329, 489, 141, 139, 294, 595,  97,\n       510, 673, 484]))"
     ]
    }
   ],
   "source": [
    "# split into training and testing sets\n",
    "mylib4.make_train_valid_split(train_portion = 5/6)"
   ]
  },
  {
   "cell_type": "code",
   "execution_count": 338,
   "id": "811a4722",
   "metadata": {},
   "outputs": [
    {
     "ename": "TypeError",
     "evalue": "__init__() takes 2 positional arguments but 5 were given",
     "output_type": "error",
     "traceback": [
      "\u001b[0;31m---------------------------------------------------------------------------\u001b[0m",
      "\u001b[0;31mTypeError\u001b[0m                                 Traceback (most recent call last)",
      "Cell \u001b[0;32mIn[338], line 2\u001b[0m\n\u001b[1;32m      1\u001b[0m \u001b[38;5;66;03m# choose cost\u001b[39;00m\n\u001b[0;32m----> 2\u001b[0m \u001b[43mmylib4\u001b[49m\u001b[38;5;241;43m.\u001b[39;49m\u001b[43mchoose_cost\u001b[49m\u001b[43m(\u001b[49m\u001b[43mname\u001b[49m\u001b[43m \u001b[49m\u001b[38;5;241;43m=\u001b[39;49m\u001b[43m \u001b[49m\u001b[38;5;124;43m'\u001b[39;49m\u001b[38;5;124;43mmulticlass_softmax\u001b[39;49m\u001b[38;5;124;43m'\u001b[39;49m\u001b[43m)\u001b[49m\n",
      "Cell \u001b[0;32mIn[330], line 68\u001b[0m, in \u001b[0;36mSetup3.choose_cost\u001b[0;34m(self, name, **kwargs)\u001b[0m\n\u001b[1;32m     66\u001b[0m \u001b[38;5;28;01mdef\u001b[39;00m \u001b[38;5;21mchoose_cost\u001b[39m(\u001b[38;5;28mself\u001b[39m,name,\u001b[38;5;241m*\u001b[39m\u001b[38;5;241m*\u001b[39mkwargs):\n\u001b[1;32m     67\u001b[0m     \u001b[38;5;66;03m# create cost on entire dataset\u001b[39;00m\n\u001b[0;32m---> 68\u001b[0m     funcs \u001b[38;5;241m=\u001b[39m \u001b[43mcost_functions\u001b[49m\u001b[38;5;241;43m.\u001b[39;49m\u001b[43mSetup\u001b[49m\u001b[43m(\u001b[49m\u001b[43mname\u001b[49m\u001b[43m,\u001b[49m\u001b[38;5;28;43mself\u001b[39;49m\u001b[38;5;241;43m.\u001b[39;49m\u001b[43mx\u001b[49m\u001b[43m,\u001b[49m\u001b[38;5;28;43mself\u001b[39;49m\u001b[38;5;241;43m.\u001b[39;49m\u001b[43my\u001b[49m\u001b[43m,\u001b[49m\u001b[38;5;28;43mself\u001b[39;49m\u001b[38;5;241;43m.\u001b[39;49m\u001b[43mfeature_transforms\u001b[49m\u001b[43m,\u001b[49m\u001b[38;5;241;43m*\u001b[39;49m\u001b[38;5;241;43m*\u001b[39;49m\u001b[43mkwargs\u001b[49m\u001b[43m)\u001b[49m\n\u001b[1;32m     69\u001b[0m     \u001b[38;5;28mself\u001b[39m\u001b[38;5;241m.\u001b[39mfull_cost \u001b[38;5;241m=\u001b[39m funcs\u001b[38;5;241m.\u001b[39mcost\n\u001b[1;32m     70\u001b[0m     \u001b[38;5;28mself\u001b[39m\u001b[38;5;241m.\u001b[39mfull_model \u001b[38;5;241m=\u001b[39m funcs\u001b[38;5;241m.\u001b[39mmodel\n",
      "\u001b[0;31mTypeError\u001b[0m: __init__() takes 2 positional arguments but 5 were given"
     ]
    }
   ],
   "source": [
    "# choose cost\n",
    "mylib4.choose_cost(name = 'multiclass_softmax')"
   ]
  },
  {
   "cell_type": "code",
   "execution_count": 340,
   "id": "6e28f533",
   "metadata": {},
   "outputs": [
    {
     "ename": "SyntaxError",
     "evalue": "positional argument follows keyword argument (3361470581.py, line 2)",
     "output_type": "error",
     "traceback": [
      "\u001b[0;36m  Cell \u001b[0;32mIn[340], line 2\u001b[0;36m\u001b[0m\n\u001b[0;31m    mylib4.fit(optimizer = 'gradient_descent',max_its = 100,alpha_choice = 10**(-1),b atch_size = 500,verbose = True,version = 'standard')\u001b[0m\n\u001b[0m                                                                                      ^\u001b[0m\n\u001b[0;31mSyntaxError\u001b[0m\u001b[0;31m:\u001b[0m positional argument follows keyword argument\n"
     ]
    }
   ],
   "source": [
    "# fit an optimization\n",
    "mylib4.fit(optimizer = 'gradient_descent',max_its = 100,alpha_choice = 10**(-1),b atch_size = 500,verbose = True,version = 'standard')"
   ]
  },
  {
   "cell_type": "code",
   "execution_count": null,
   "id": "d5c07d95",
   "metadata": {},
   "outputs": [],
   "source": []
  }
 ],
 "metadata": {
  "@webio": {
   "lastCommId": null,
   "lastKernelId": null
  },
  "kernelspec": {
   "display_name": "Python 3 (ipykernel)",
   "language": "python",
   "name": "python3"
  },
  "language_info": {
   "codemirror_mode": {
    "name": "ipython",
    "version": 3
   },
   "file_extension": ".py",
   "mimetype": "text/x-python",
   "name": "python",
   "nbconvert_exporter": "python",
   "pygments_lexer": "ipython3",
   "version": "3.9.12"
  }
 },
 "nbformat": 4,
 "nbformat_minor": 5
}
